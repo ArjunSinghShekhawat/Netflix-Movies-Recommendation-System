{
 "cells": [
  {
   "cell_type": "code",
   "execution_count": 75,
   "metadata": {},
   "outputs": [],
   "source": [
    "import pandas as pd\n",
    "import numpy as np"
   ]
  },
  {
   "cell_type": "code",
   "execution_count": 76,
   "metadata": {},
   "outputs": [],
   "source": [
    "link = \"https://en.wikipedia.org/wiki/List_of_American_films_of_2018\"\n"
   ]
  },
  {
   "cell_type": "code",
   "execution_count": 77,
   "metadata": {},
   "outputs": [],
   "source": [
    "df1 = pd.read_html(link, header=0)[2]\n",
    "df2 = pd.read_html(link, header=0)[3]\n",
    "df3 = pd.read_html(link, header=0)[4]\n",
    "df4 = pd.read_html(link, header=0)[5]"
   ]
  },
  {
   "cell_type": "code",
   "execution_count": 78,
   "metadata": {},
   "outputs": [
    {
     "data": {
      "text/plain": [
       "59"
      ]
     },
     "execution_count": 78,
     "metadata": {},
     "output_type": "execute_result"
    }
   ],
   "source": [
    "len(df1)"
   ]
  },
  {
   "cell_type": "code",
   "execution_count": 79,
   "metadata": {},
   "outputs": [
    {
     "data": {
      "text/plain": [
       "59"
      ]
     },
     "execution_count": 79,
     "metadata": {},
     "output_type": "execute_result"
    }
   ],
   "source": [
    "len(df2)"
   ]
  },
  {
   "cell_type": "code",
   "execution_count": 80,
   "metadata": {},
   "outputs": [
    {
     "data": {
      "text/plain": [
       "67"
      ]
     },
     "execution_count": 80,
     "metadata": {},
     "output_type": "execute_result"
    }
   ],
   "source": [
    "len(df3)"
   ]
  },
  {
   "cell_type": "code",
   "execution_count": 81,
   "metadata": {},
   "outputs": [],
   "source": [
    "movies = pd.concat([df1,df2,df3,df4],axis=0)"
   ]
  },
  {
   "cell_type": "code",
   "execution_count": 82,
   "metadata": {},
   "outputs": [
    {
     "data": {
      "text/plain": [
       "246"
      ]
     },
     "execution_count": 82,
     "metadata": {},
     "output_type": "execute_result"
    }
   ],
   "source": [
    "len(movies)"
   ]
  },
  {
   "cell_type": "code",
   "execution_count": 83,
   "metadata": {},
   "outputs": [
    {
     "data": {
      "text/html": [
       "<div>\n",
       "<style scoped>\n",
       "    .dataframe tbody tr th:only-of-type {\n",
       "        vertical-align: middle;\n",
       "    }\n",
       "\n",
       "    .dataframe tbody tr th {\n",
       "        vertical-align: top;\n",
       "    }\n",
       "\n",
       "    .dataframe thead th {\n",
       "        text-align: right;\n",
       "    }\n",
       "</style>\n",
       "<table border=\"1\" class=\"dataframe\">\n",
       "  <thead>\n",
       "    <tr style=\"text-align: right;\">\n",
       "      <th></th>\n",
       "      <th>Opening</th>\n",
       "      <th>Opening.1</th>\n",
       "      <th>Title</th>\n",
       "      <th>Production company</th>\n",
       "      <th>Cast and crew</th>\n",
       "      <th>Ref.</th>\n",
       "    </tr>\n",
       "  </thead>\n",
       "  <tbody>\n",
       "    <tr>\n",
       "      <th>0</th>\n",
       "      <td>J A N U A R Y</td>\n",
       "      <td>5</td>\n",
       "      <td>Insidious: The Last Key</td>\n",
       "      <td>Universal Pictures / Blumhouse Productions / S...</td>\n",
       "      <td>Adam Robitel (director); Leigh Whannell (scree...</td>\n",
       "      <td>[2]</td>\n",
       "    </tr>\n",
       "    <tr>\n",
       "      <th>1</th>\n",
       "      <td>J A N U A R Y</td>\n",
       "      <td>5</td>\n",
       "      <td>The Strange Ones</td>\n",
       "      <td>Vertical Entertainment</td>\n",
       "      <td>Christopher Radcliff (director/screenplay); La...</td>\n",
       "      <td>[3]</td>\n",
       "    </tr>\n",
       "    <tr>\n",
       "      <th>2</th>\n",
       "      <td>J A N U A R Y</td>\n",
       "      <td>12</td>\n",
       "      <td>The Commuter</td>\n",
       "      <td>Lionsgate / StudioCanal / The Picture Company</td>\n",
       "      <td>Jaume Collet-Serra (director); Byron Willinger...</td>\n",
       "      <td>[4]</td>\n",
       "    </tr>\n",
       "    <tr>\n",
       "      <th>3</th>\n",
       "      <td>J A N U A R Y</td>\n",
       "      <td>12</td>\n",
       "      <td>Proud Mary</td>\n",
       "      <td>Screen Gems</td>\n",
       "      <td>Babak Najafi (director); John S. Newman, Chris...</td>\n",
       "      <td>[5]</td>\n",
       "    </tr>\n",
       "    <tr>\n",
       "      <th>4</th>\n",
       "      <td>J A N U A R Y</td>\n",
       "      <td>12</td>\n",
       "      <td>Acts of Violence</td>\n",
       "      <td>Lionsgate Premiere</td>\n",
       "      <td>Brett Donowho (director); Nicolas Aaron Mezzan...</td>\n",
       "      <td>[6]</td>\n",
       "    </tr>\n",
       "    <tr>\n",
       "      <th>...</th>\n",
       "      <td>...</td>\n",
       "      <td>...</td>\n",
       "      <td>...</td>\n",
       "      <td>...</td>\n",
       "      <td>...</td>\n",
       "      <td>...</td>\n",
       "    </tr>\n",
       "    <tr>\n",
       "      <th>56</th>\n",
       "      <td>D E C E M B E R</td>\n",
       "      <td>21</td>\n",
       "      <td>Second Act</td>\n",
       "      <td>STX Entertainment</td>\n",
       "      <td>Peter Segal (director); Justin Zackham, Elaine...</td>\n",
       "      <td>[235]</td>\n",
       "    </tr>\n",
       "    <tr>\n",
       "      <th>57</th>\n",
       "      <td>D E C E M B E R</td>\n",
       "      <td>25</td>\n",
       "      <td>Holmes &amp; Watson</td>\n",
       "      <td>Columbia Pictures / Gary Sanchez Productions /...</td>\n",
       "      <td>Etan Cohen (director/screenplay); Will Ferrell...</td>\n",
       "      <td>[141]</td>\n",
       "    </tr>\n",
       "    <tr>\n",
       "      <th>58</th>\n",
       "      <td>D E C E M B E R</td>\n",
       "      <td>25</td>\n",
       "      <td>Vice</td>\n",
       "      <td>Annapurna Pictures / Plan B Entertainment</td>\n",
       "      <td>Adam McKay (director/screenplay); Christian Ba...</td>\n",
       "      <td>[116]</td>\n",
       "    </tr>\n",
       "    <tr>\n",
       "      <th>59</th>\n",
       "      <td>D E C E M B E R</td>\n",
       "      <td>25</td>\n",
       "      <td>On the Basis of Sex</td>\n",
       "      <td>Focus Features</td>\n",
       "      <td>Mimi Leder (director); Daniel Stiepleman (scre...</td>\n",
       "      <td>[206]</td>\n",
       "    </tr>\n",
       "    <tr>\n",
       "      <th>60</th>\n",
       "      <td>D E C E M B E R</td>\n",
       "      <td>25</td>\n",
       "      <td>Destroyer</td>\n",
       "      <td>Annapurna Pictures</td>\n",
       "      <td>Karyn Kusama (director); Phil Hay, Matt Manfre...</td>\n",
       "      <td>[236]</td>\n",
       "    </tr>\n",
       "  </tbody>\n",
       "</table>\n",
       "<p>246 rows × 6 columns</p>\n",
       "</div>"
      ],
      "text/plain": [
       "            Opening  Opening.1                    Title  \\\n",
       "0     J A N U A R Y          5  Insidious: The Last Key   \n",
       "1     J A N U A R Y          5         The Strange Ones   \n",
       "2     J A N U A R Y         12             The Commuter   \n",
       "3     J A N U A R Y         12               Proud Mary   \n",
       "4     J A N U A R Y         12         Acts of Violence   \n",
       "..              ...        ...                      ...   \n",
       "56  D E C E M B E R         21               Second Act   \n",
       "57  D E C E M B E R         25          Holmes & Watson   \n",
       "58  D E C E M B E R         25                     Vice   \n",
       "59  D E C E M B E R         25      On the Basis of Sex   \n",
       "60  D E C E M B E R         25                Destroyer   \n",
       "\n",
       "                                   Production company  \\\n",
       "0   Universal Pictures / Blumhouse Productions / S...   \n",
       "1                              Vertical Entertainment   \n",
       "2       Lionsgate / StudioCanal / The Picture Company   \n",
       "3                                         Screen Gems   \n",
       "4                                  Lionsgate Premiere   \n",
       "..                                                ...   \n",
       "56                                  STX Entertainment   \n",
       "57  Columbia Pictures / Gary Sanchez Productions /...   \n",
       "58          Annapurna Pictures / Plan B Entertainment   \n",
       "59                                     Focus Features   \n",
       "60                                 Annapurna Pictures   \n",
       "\n",
       "                                        Cast and crew   Ref.  \n",
       "0   Adam Robitel (director); Leigh Whannell (scree...    [2]  \n",
       "1   Christopher Radcliff (director/screenplay); La...    [3]  \n",
       "2   Jaume Collet-Serra (director); Byron Willinger...    [4]  \n",
       "3   Babak Najafi (director); John S. Newman, Chris...    [5]  \n",
       "4   Brett Donowho (director); Nicolas Aaron Mezzan...    [6]  \n",
       "..                                                ...    ...  \n",
       "56  Peter Segal (director); Justin Zackham, Elaine...  [235]  \n",
       "57  Etan Cohen (director/screenplay); Will Ferrell...  [141]  \n",
       "58  Adam McKay (director/screenplay); Christian Ba...  [116]  \n",
       "59  Mimi Leder (director); Daniel Stiepleman (scre...  [206]  \n",
       "60  Karyn Kusama (director); Phil Hay, Matt Manfre...  [236]  \n",
       "\n",
       "[246 rows x 6 columns]"
      ]
     },
     "execution_count": 83,
     "metadata": {},
     "output_type": "execute_result"
    }
   ],
   "source": [
    "movies"
   ]
  },
  {
   "cell_type": "code",
   "execution_count": 84,
   "metadata": {},
   "outputs": [],
   "source": [
    "from tmdbv3api import TMDb\n",
    "import json\n",
    "import requests\n",
    "tmdb = TMDb()\n",
    "tmdb.api_key = '6d8bfe0dbef34d25e64f64cabec93e20'"
   ]
  },
  {
   "cell_type": "code",
   "execution_count": 85,
   "metadata": {},
   "outputs": [],
   "source": [
    "from tmdbv3api import Movie\n",
    "tmdb_movie = Movie()\n",
    "def get_genre(x): #pass in the title of the movies\n",
    "    genres = []\n",
    "    result = tmdb_movie.search(x) #the title will be searched in the tmdb_movie\n",
    "    movie_id = result[0].id #we will match the \"id\" with the \"title\"\n",
    "    response = requests.get('https://api.themoviedb.org/3/movie/{}?api_key={}'.format(movie_id,tmdb.api_key)) #we will get the result from the IMDb data\n",
    "    data_json = response.json() #we will then convert it to a json file\n",
    "    if data_json['genres']: #in the json file we will only need to extract the \"genre\"\n",
    "        genre_str = \" \" \n",
    "        for i in range(0,len(data_json['genres'])):\n",
    "            genres.append(data_json['genres'][i]['name']) #we will then add the \"genre\" to the empty genre list we created above\n",
    "        return genre_str.join(genres)\n",
    "    else:\n",
    "        np.NaN # we will return the results but if we don't find anything we will consider it as a missing value\n"
   ]
  },
  {
   "cell_type": "code",
   "execution_count": 86,
   "metadata": {},
   "outputs": [],
   "source": [
    "movies['genres'] = movies['Title'].map(lambda x: get_genre(str(x)))"
   ]
  },
  {
   "cell_type": "code",
   "execution_count": 87,
   "metadata": {},
   "outputs": [
    {
     "data": {
      "text/html": [
       "<div>\n",
       "<style scoped>\n",
       "    .dataframe tbody tr th:only-of-type {\n",
       "        vertical-align: middle;\n",
       "    }\n",
       "\n",
       "    .dataframe tbody tr th {\n",
       "        vertical-align: top;\n",
       "    }\n",
       "\n",
       "    .dataframe thead th {\n",
       "        text-align: right;\n",
       "    }\n",
       "</style>\n",
       "<table border=\"1\" class=\"dataframe\">\n",
       "  <thead>\n",
       "    <tr style=\"text-align: right;\">\n",
       "      <th></th>\n",
       "      <th>Opening</th>\n",
       "      <th>Opening.1</th>\n",
       "      <th>Title</th>\n",
       "      <th>Production company</th>\n",
       "      <th>Cast and crew</th>\n",
       "      <th>Ref.</th>\n",
       "      <th>genres</th>\n",
       "    </tr>\n",
       "  </thead>\n",
       "  <tbody>\n",
       "    <tr>\n",
       "      <th>0</th>\n",
       "      <td>J A N U A R Y</td>\n",
       "      <td>5</td>\n",
       "      <td>Insidious: The Last Key</td>\n",
       "      <td>Universal Pictures / Blumhouse Productions / S...</td>\n",
       "      <td>Adam Robitel (director); Leigh Whannell (scree...</td>\n",
       "      <td>[2]</td>\n",
       "      <td>Horror Mystery Thriller</td>\n",
       "    </tr>\n",
       "    <tr>\n",
       "      <th>1</th>\n",
       "      <td>J A N U A R Y</td>\n",
       "      <td>5</td>\n",
       "      <td>The Strange Ones</td>\n",
       "      <td>Vertical Entertainment</td>\n",
       "      <td>Christopher Radcliff (director/screenplay); La...</td>\n",
       "      <td>[3]</td>\n",
       "      <td>Drama Mystery</td>\n",
       "    </tr>\n",
       "    <tr>\n",
       "      <th>2</th>\n",
       "      <td>J A N U A R Y</td>\n",
       "      <td>12</td>\n",
       "      <td>The Commuter</td>\n",
       "      <td>Lionsgate / StudioCanal / The Picture Company</td>\n",
       "      <td>Jaume Collet-Serra (director); Byron Willinger...</td>\n",
       "      <td>[4]</td>\n",
       "      <td>Action Thriller Mystery</td>\n",
       "    </tr>\n",
       "    <tr>\n",
       "      <th>3</th>\n",
       "      <td>J A N U A R Y</td>\n",
       "      <td>12</td>\n",
       "      <td>Proud Mary</td>\n",
       "      <td>Screen Gems</td>\n",
       "      <td>Babak Najafi (director); John S. Newman, Chris...</td>\n",
       "      <td>[5]</td>\n",
       "      <td>Thriller Action Crime</td>\n",
       "    </tr>\n",
       "    <tr>\n",
       "      <th>4</th>\n",
       "      <td>J A N U A R Y</td>\n",
       "      <td>12</td>\n",
       "      <td>Acts of Violence</td>\n",
       "      <td>Lionsgate Premiere</td>\n",
       "      <td>Brett Donowho (director); Nicolas Aaron Mezzan...</td>\n",
       "      <td>[6]</td>\n",
       "      <td>Action Crime Thriller</td>\n",
       "    </tr>\n",
       "    <tr>\n",
       "      <th>...</th>\n",
       "      <td>...</td>\n",
       "      <td>...</td>\n",
       "      <td>...</td>\n",
       "      <td>...</td>\n",
       "      <td>...</td>\n",
       "      <td>...</td>\n",
       "      <td>...</td>\n",
       "    </tr>\n",
       "    <tr>\n",
       "      <th>56</th>\n",
       "      <td>D E C E M B E R</td>\n",
       "      <td>21</td>\n",
       "      <td>Second Act</td>\n",
       "      <td>STX Entertainment</td>\n",
       "      <td>Peter Segal (director); Justin Zackham, Elaine...</td>\n",
       "      <td>[235]</td>\n",
       "      <td>Romance Comedy</td>\n",
       "    </tr>\n",
       "    <tr>\n",
       "      <th>57</th>\n",
       "      <td>D E C E M B E R</td>\n",
       "      <td>25</td>\n",
       "      <td>Holmes &amp; Watson</td>\n",
       "      <td>Columbia Pictures / Gary Sanchez Productions /...</td>\n",
       "      <td>Etan Cohen (director/screenplay); Will Ferrell...</td>\n",
       "      <td>[141]</td>\n",
       "      <td>Mystery Adventure Comedy Crime</td>\n",
       "    </tr>\n",
       "    <tr>\n",
       "      <th>58</th>\n",
       "      <td>D E C E M B E R</td>\n",
       "      <td>25</td>\n",
       "      <td>Vice</td>\n",
       "      <td>Annapurna Pictures / Plan B Entertainment</td>\n",
       "      <td>Adam McKay (director/screenplay); Christian Ba...</td>\n",
       "      <td>[116]</td>\n",
       "      <td>Comedy Drama</td>\n",
       "    </tr>\n",
       "    <tr>\n",
       "      <th>59</th>\n",
       "      <td>D E C E M B E R</td>\n",
       "      <td>25</td>\n",
       "      <td>On the Basis of Sex</td>\n",
       "      <td>Focus Features</td>\n",
       "      <td>Mimi Leder (director); Daniel Stiepleman (scre...</td>\n",
       "      <td>[206]</td>\n",
       "      <td>Drama History</td>\n",
       "    </tr>\n",
       "    <tr>\n",
       "      <th>60</th>\n",
       "      <td>D E C E M B E R</td>\n",
       "      <td>25</td>\n",
       "      <td>Destroyer</td>\n",
       "      <td>Annapurna Pictures</td>\n",
       "      <td>Karyn Kusama (director); Phil Hay, Matt Manfre...</td>\n",
       "      <td>[236]</td>\n",
       "      <td>Thriller Crime Drama Action</td>\n",
       "    </tr>\n",
       "  </tbody>\n",
       "</table>\n",
       "<p>246 rows × 7 columns</p>\n",
       "</div>"
      ],
      "text/plain": [
       "            Opening  Opening.1                    Title  \\\n",
       "0     J A N U A R Y          5  Insidious: The Last Key   \n",
       "1     J A N U A R Y          5         The Strange Ones   \n",
       "2     J A N U A R Y         12             The Commuter   \n",
       "3     J A N U A R Y         12               Proud Mary   \n",
       "4     J A N U A R Y         12         Acts of Violence   \n",
       "..              ...        ...                      ...   \n",
       "56  D E C E M B E R         21               Second Act   \n",
       "57  D E C E M B E R         25          Holmes & Watson   \n",
       "58  D E C E M B E R         25                     Vice   \n",
       "59  D E C E M B E R         25      On the Basis of Sex   \n",
       "60  D E C E M B E R         25                Destroyer   \n",
       "\n",
       "                                   Production company  \\\n",
       "0   Universal Pictures / Blumhouse Productions / S...   \n",
       "1                              Vertical Entertainment   \n",
       "2       Lionsgate / StudioCanal / The Picture Company   \n",
       "3                                         Screen Gems   \n",
       "4                                  Lionsgate Premiere   \n",
       "..                                                ...   \n",
       "56                                  STX Entertainment   \n",
       "57  Columbia Pictures / Gary Sanchez Productions /...   \n",
       "58          Annapurna Pictures / Plan B Entertainment   \n",
       "59                                     Focus Features   \n",
       "60                                 Annapurna Pictures   \n",
       "\n",
       "                                        Cast and crew   Ref.  \\\n",
       "0   Adam Robitel (director); Leigh Whannell (scree...    [2]   \n",
       "1   Christopher Radcliff (director/screenplay); La...    [3]   \n",
       "2   Jaume Collet-Serra (director); Byron Willinger...    [4]   \n",
       "3   Babak Najafi (director); John S. Newman, Chris...    [5]   \n",
       "4   Brett Donowho (director); Nicolas Aaron Mezzan...    [6]   \n",
       "..                                                ...    ...   \n",
       "56  Peter Segal (director); Justin Zackham, Elaine...  [235]   \n",
       "57  Etan Cohen (director/screenplay); Will Ferrell...  [141]   \n",
       "58  Adam McKay (director/screenplay); Christian Ba...  [116]   \n",
       "59  Mimi Leder (director); Daniel Stiepleman (scre...  [206]   \n",
       "60  Karyn Kusama (director); Phil Hay, Matt Manfre...  [236]   \n",
       "\n",
       "                            genres  \n",
       "0          Horror Mystery Thriller  \n",
       "1                    Drama Mystery  \n",
       "2          Action Thriller Mystery  \n",
       "3            Thriller Action Crime  \n",
       "4            Action Crime Thriller  \n",
       "..                             ...  \n",
       "56                  Romance Comedy  \n",
       "57  Mystery Adventure Comedy Crime  \n",
       "58                    Comedy Drama  \n",
       "59                   Drama History  \n",
       "60     Thriller Crime Drama Action  \n",
       "\n",
       "[246 rows x 7 columns]"
      ]
     },
     "execution_count": 87,
     "metadata": {},
     "output_type": "execute_result"
    }
   ],
   "source": [
    "movies"
   ]
  },
  {
   "cell_type": "code",
   "execution_count": 88,
   "metadata": {},
   "outputs": [],
   "source": [
    "movies_2018 = movies[['Title','Cast and crew','genres']]"
   ]
  },
  {
   "cell_type": "code",
   "execution_count": 89,
   "metadata": {},
   "outputs": [
    {
     "data": {
      "text/html": [
       "<div>\n",
       "<style scoped>\n",
       "    .dataframe tbody tr th:only-of-type {\n",
       "        vertical-align: middle;\n",
       "    }\n",
       "\n",
       "    .dataframe tbody tr th {\n",
       "        vertical-align: top;\n",
       "    }\n",
       "\n",
       "    .dataframe thead th {\n",
       "        text-align: right;\n",
       "    }\n",
       "</style>\n",
       "<table border=\"1\" class=\"dataframe\">\n",
       "  <thead>\n",
       "    <tr style=\"text-align: right;\">\n",
       "      <th></th>\n",
       "      <th>Title</th>\n",
       "      <th>Cast and crew</th>\n",
       "      <th>genres</th>\n",
       "    </tr>\n",
       "  </thead>\n",
       "  <tbody>\n",
       "    <tr>\n",
       "      <th>0</th>\n",
       "      <td>Insidious: The Last Key</td>\n",
       "      <td>Adam Robitel (director); Leigh Whannell (scree...</td>\n",
       "      <td>Horror Mystery Thriller</td>\n",
       "    </tr>\n",
       "    <tr>\n",
       "      <th>1</th>\n",
       "      <td>The Strange Ones</td>\n",
       "      <td>Christopher Radcliff (director/screenplay); La...</td>\n",
       "      <td>Drama Mystery</td>\n",
       "    </tr>\n",
       "    <tr>\n",
       "      <th>2</th>\n",
       "      <td>The Commuter</td>\n",
       "      <td>Jaume Collet-Serra (director); Byron Willinger...</td>\n",
       "      <td>Action Thriller Mystery</td>\n",
       "    </tr>\n",
       "    <tr>\n",
       "      <th>3</th>\n",
       "      <td>Proud Mary</td>\n",
       "      <td>Babak Najafi (director); John S. Newman, Chris...</td>\n",
       "      <td>Thriller Action Crime</td>\n",
       "    </tr>\n",
       "    <tr>\n",
       "      <th>4</th>\n",
       "      <td>Acts of Violence</td>\n",
       "      <td>Brett Donowho (director); Nicolas Aaron Mezzan...</td>\n",
       "      <td>Action Crime Thriller</td>\n",
       "    </tr>\n",
       "  </tbody>\n",
       "</table>\n",
       "</div>"
      ],
      "text/plain": [
       "                     Title                                      Cast and crew  \\\n",
       "0  Insidious: The Last Key  Adam Robitel (director); Leigh Whannell (scree...   \n",
       "1         The Strange Ones  Christopher Radcliff (director/screenplay); La...   \n",
       "2             The Commuter  Jaume Collet-Serra (director); Byron Willinger...   \n",
       "3               Proud Mary  Babak Najafi (director); John S. Newman, Chris...   \n",
       "4         Acts of Violence  Brett Donowho (director); Nicolas Aaron Mezzan...   \n",
       "\n",
       "                    genres  \n",
       "0  Horror Mystery Thriller  \n",
       "1            Drama Mystery  \n",
       "2  Action Thriller Mystery  \n",
       "3    Thriller Action Crime  \n",
       "4    Action Crime Thriller  "
      ]
     },
     "execution_count": 89,
     "metadata": {},
     "output_type": "execute_result"
    }
   ],
   "source": [
    "movies_2018.head()"
   ]
  },
  {
   "cell_type": "code",
   "execution_count": 90,
   "metadata": {},
   "outputs": [
    {
     "name": "stdout",
     "output_type": "stream",
     "text": [
      "0    Adam Robitel (director); Leigh Whannell (scree...\n",
      "0    John Krasinski (director/screenplay); Bryan Wo...\n",
      "0    Richie Moore (director/screenplay); Raimund Hu...\n",
      "0    Ruben Fleischer (director); Jeff Pinkner, Scot...\n",
      "Name: Cast and crew, dtype: object\n"
     ]
    }
   ],
   "source": [
    "print(movies_2018['Cast and crew'][0])"
   ]
  },
  {
   "cell_type": "code",
   "execution_count": null,
   "metadata": {},
   "outputs": [],
   "source": []
  },
  {
   "cell_type": "code",
   "execution_count": 91,
   "metadata": {},
   "outputs": [],
   "source": [
    "def get_director(x):\n",
    "    if \" (director)\" in x: #we are getting \"director\"\n",
    "        return x.split(\" (director)\")[0]\n",
    "    elif \" (directors)\" in x: #we are getting \"directors\" with \"s\"\n",
    "        return x.split(\" (directors)\")[0]\n",
    "    else:\n",
    "        return x.split(\" (director/screenplay)\")[0] #we are getting \"directors/screenplay\""
   ]
  },
  {
   "cell_type": "code",
   "execution_count": 92,
   "metadata": {},
   "outputs": [
    {
     "name": "stderr",
     "output_type": "stream",
     "text": [
      "C:\\Users\\shekh\\AppData\\Local\\Temp\\ipykernel_5324\\2537699914.py:1: SettingWithCopyWarning: \n",
      "A value is trying to be set on a copy of a slice from a DataFrame.\n",
      "Try using .loc[row_indexer,col_indexer] = value instead\n",
      "\n",
      "See the caveats in the documentation: https://pandas.pydata.org/pandas-docs/stable/user_guide/indexing.html#returning-a-view-versus-a-copy\n",
      "  movies_2018['director_name'] = movies_2018['Cast and crew'].map(lambda x: get_director(x))\n"
     ]
    }
   ],
   "source": [
    "movies_2018['director_name'] = movies_2018['Cast and crew'].map(lambda x: get_director(x))"
   ]
  },
  {
   "cell_type": "code",
   "execution_count": 93,
   "metadata": {},
   "outputs": [
    {
     "data": {
      "text/html": [
       "<div>\n",
       "<style scoped>\n",
       "    .dataframe tbody tr th:only-of-type {\n",
       "        vertical-align: middle;\n",
       "    }\n",
       "\n",
       "    .dataframe tbody tr th {\n",
       "        vertical-align: top;\n",
       "    }\n",
       "\n",
       "    .dataframe thead th {\n",
       "        text-align: right;\n",
       "    }\n",
       "</style>\n",
       "<table border=\"1\" class=\"dataframe\">\n",
       "  <thead>\n",
       "    <tr style=\"text-align: right;\">\n",
       "      <th></th>\n",
       "      <th>Title</th>\n",
       "      <th>Cast and crew</th>\n",
       "      <th>genres</th>\n",
       "      <th>director_name</th>\n",
       "    </tr>\n",
       "  </thead>\n",
       "  <tbody>\n",
       "    <tr>\n",
       "      <th>0</th>\n",
       "      <td>Insidious: The Last Key</td>\n",
       "      <td>Adam Robitel (director); Leigh Whannell (scree...</td>\n",
       "      <td>Horror Mystery Thriller</td>\n",
       "      <td>Adam Robitel</td>\n",
       "    </tr>\n",
       "    <tr>\n",
       "      <th>1</th>\n",
       "      <td>The Strange Ones</td>\n",
       "      <td>Christopher Radcliff (director/screenplay); La...</td>\n",
       "      <td>Drama Mystery</td>\n",
       "      <td>Christopher Radcliff (director/screenplay); La...</td>\n",
       "    </tr>\n",
       "    <tr>\n",
       "      <th>2</th>\n",
       "      <td>The Commuter</td>\n",
       "      <td>Jaume Collet-Serra (director); Byron Willinger...</td>\n",
       "      <td>Action Thriller Mystery</td>\n",
       "      <td>Jaume Collet-Serra</td>\n",
       "    </tr>\n",
       "    <tr>\n",
       "      <th>3</th>\n",
       "      <td>Proud Mary</td>\n",
       "      <td>Babak Najafi (director); John S. Newman, Chris...</td>\n",
       "      <td>Thriller Action Crime</td>\n",
       "      <td>Babak Najafi</td>\n",
       "    </tr>\n",
       "    <tr>\n",
       "      <th>4</th>\n",
       "      <td>Acts of Violence</td>\n",
       "      <td>Brett Donowho (director); Nicolas Aaron Mezzan...</td>\n",
       "      <td>Action Crime Thriller</td>\n",
       "      <td>Brett Donowho</td>\n",
       "    </tr>\n",
       "    <tr>\n",
       "      <th>...</th>\n",
       "      <td>...</td>\n",
       "      <td>...</td>\n",
       "      <td>...</td>\n",
       "      <td>...</td>\n",
       "    </tr>\n",
       "    <tr>\n",
       "      <th>56</th>\n",
       "      <td>Second Act</td>\n",
       "      <td>Peter Segal (director); Justin Zackham, Elaine...</td>\n",
       "      <td>Romance Comedy</td>\n",
       "      <td>Peter Segal</td>\n",
       "    </tr>\n",
       "    <tr>\n",
       "      <th>57</th>\n",
       "      <td>Holmes &amp; Watson</td>\n",
       "      <td>Etan Cohen (director/screenplay); Will Ferrell...</td>\n",
       "      <td>Mystery Adventure Comedy Crime</td>\n",
       "      <td>Etan Cohen</td>\n",
       "    </tr>\n",
       "    <tr>\n",
       "      <th>58</th>\n",
       "      <td>Vice</td>\n",
       "      <td>Adam McKay (director/screenplay); Christian Ba...</td>\n",
       "      <td>Comedy Drama</td>\n",
       "      <td>Adam McKay</td>\n",
       "    </tr>\n",
       "    <tr>\n",
       "      <th>59</th>\n",
       "      <td>On the Basis of Sex</td>\n",
       "      <td>Mimi Leder (director); Daniel Stiepleman (scre...</td>\n",
       "      <td>Drama History</td>\n",
       "      <td>Mimi Leder</td>\n",
       "    </tr>\n",
       "    <tr>\n",
       "      <th>60</th>\n",
       "      <td>Destroyer</td>\n",
       "      <td>Karyn Kusama (director); Phil Hay, Matt Manfre...</td>\n",
       "      <td>Thriller Crime Drama Action</td>\n",
       "      <td>Karyn Kusama</td>\n",
       "    </tr>\n",
       "  </tbody>\n",
       "</table>\n",
       "<p>246 rows × 4 columns</p>\n",
       "</div>"
      ],
      "text/plain": [
       "                      Title  \\\n",
       "0   Insidious: The Last Key   \n",
       "1          The Strange Ones   \n",
       "2              The Commuter   \n",
       "3                Proud Mary   \n",
       "4          Acts of Violence   \n",
       "..                      ...   \n",
       "56               Second Act   \n",
       "57          Holmes & Watson   \n",
       "58                     Vice   \n",
       "59      On the Basis of Sex   \n",
       "60                Destroyer   \n",
       "\n",
       "                                        Cast and crew  \\\n",
       "0   Adam Robitel (director); Leigh Whannell (scree...   \n",
       "1   Christopher Radcliff (director/screenplay); La...   \n",
       "2   Jaume Collet-Serra (director); Byron Willinger...   \n",
       "3   Babak Najafi (director); John S. Newman, Chris...   \n",
       "4   Brett Donowho (director); Nicolas Aaron Mezzan...   \n",
       "..                                                ...   \n",
       "56  Peter Segal (director); Justin Zackham, Elaine...   \n",
       "57  Etan Cohen (director/screenplay); Will Ferrell...   \n",
       "58  Adam McKay (director/screenplay); Christian Ba...   \n",
       "59  Mimi Leder (director); Daniel Stiepleman (scre...   \n",
       "60  Karyn Kusama (director); Phil Hay, Matt Manfre...   \n",
       "\n",
       "                            genres  \\\n",
       "0          Horror Mystery Thriller   \n",
       "1                    Drama Mystery   \n",
       "2          Action Thriller Mystery   \n",
       "3            Thriller Action Crime   \n",
       "4            Action Crime Thriller   \n",
       "..                             ...   \n",
       "56                  Romance Comedy   \n",
       "57  Mystery Adventure Comedy Crime   \n",
       "58                    Comedy Drama   \n",
       "59                   Drama History   \n",
       "60     Thriller Crime Drama Action   \n",
       "\n",
       "                                        director_name  \n",
       "0                                        Adam Robitel  \n",
       "1   Christopher Radcliff (director/screenplay); La...  \n",
       "2                                  Jaume Collet-Serra  \n",
       "3                                        Babak Najafi  \n",
       "4                                       Brett Donowho  \n",
       "..                                                ...  \n",
       "56                                        Peter Segal  \n",
       "57                                         Etan Cohen  \n",
       "58                                         Adam McKay  \n",
       "59                                         Mimi Leder  \n",
       "60                                       Karyn Kusama  \n",
       "\n",
       "[246 rows x 4 columns]"
      ]
     },
     "execution_count": 93,
     "metadata": {},
     "output_type": "execute_result"
    }
   ],
   "source": [
    "movies_2018"
   ]
  },
  {
   "cell_type": "code",
   "execution_count": 94,
   "metadata": {},
   "outputs": [],
   "source": [
    "\n",
    "def get_actor1(x):\n",
    "    return ((x.split(\"screenplay); \")[-1]).split(\", \")[0])"
   ]
  },
  {
   "cell_type": "code",
   "execution_count": 95,
   "metadata": {},
   "outputs": [
    {
     "name": "stderr",
     "output_type": "stream",
     "text": [
      "C:\\Users\\shekh\\AppData\\Local\\Temp\\ipykernel_5324\\2847825268.py:1: SettingWithCopyWarning: \n",
      "A value is trying to be set on a copy of a slice from a DataFrame.\n",
      "Try using .loc[row_indexer,col_indexer] = value instead\n",
      "\n",
      "See the caveats in the documentation: https://pandas.pydata.org/pandas-docs/stable/user_guide/indexing.html#returning-a-view-versus-a-copy\n",
      "  movies_2018['actor_1_name'] = movies_2018['Cast and crew'].map(lambda x: get_actor1(x))\n"
     ]
    }
   ],
   "source": [
    "movies_2018['actor_1_name'] = movies_2018['Cast and crew'].map(lambda x: get_actor1(x))"
   ]
  },
  {
   "cell_type": "code",
   "execution_count": 96,
   "metadata": {},
   "outputs": [
    {
     "data": {
      "text/html": [
       "<div>\n",
       "<style scoped>\n",
       "    .dataframe tbody tr th:only-of-type {\n",
       "        vertical-align: middle;\n",
       "    }\n",
       "\n",
       "    .dataframe tbody tr th {\n",
       "        vertical-align: top;\n",
       "    }\n",
       "\n",
       "    .dataframe thead th {\n",
       "        text-align: right;\n",
       "    }\n",
       "</style>\n",
       "<table border=\"1\" class=\"dataframe\">\n",
       "  <thead>\n",
       "    <tr style=\"text-align: right;\">\n",
       "      <th></th>\n",
       "      <th>Title</th>\n",
       "      <th>Cast and crew</th>\n",
       "      <th>genres</th>\n",
       "      <th>director_name</th>\n",
       "      <th>actor_1_name</th>\n",
       "    </tr>\n",
       "  </thead>\n",
       "  <tbody>\n",
       "    <tr>\n",
       "      <th>0</th>\n",
       "      <td>Insidious: The Last Key</td>\n",
       "      <td>Adam Robitel (director); Leigh Whannell (scree...</td>\n",
       "      <td>Horror Mystery Thriller</td>\n",
       "      <td>Adam Robitel</td>\n",
       "      <td>Lin Shaye</td>\n",
       "    </tr>\n",
       "    <tr>\n",
       "      <th>1</th>\n",
       "      <td>The Strange Ones</td>\n",
       "      <td>Christopher Radcliff (director/screenplay); La...</td>\n",
       "      <td>Drama Mystery</td>\n",
       "      <td>Christopher Radcliff (director/screenplay); La...</td>\n",
       "      <td>Lauren Wolkstein (director); Alex Pettyfer</td>\n",
       "    </tr>\n",
       "    <tr>\n",
       "      <th>2</th>\n",
       "      <td>The Commuter</td>\n",
       "      <td>Jaume Collet-Serra (director); Byron Willinger...</td>\n",
       "      <td>Action Thriller Mystery</td>\n",
       "      <td>Jaume Collet-Serra</td>\n",
       "      <td>Liam Neeson</td>\n",
       "    </tr>\n",
       "    <tr>\n",
       "      <th>3</th>\n",
       "      <td>Proud Mary</td>\n",
       "      <td>Babak Najafi (director); John S. Newman, Chris...</td>\n",
       "      <td>Thriller Action Crime</td>\n",
       "      <td>Babak Najafi</td>\n",
       "      <td>Taraji P. Henson</td>\n",
       "    </tr>\n",
       "    <tr>\n",
       "      <th>4</th>\n",
       "      <td>Acts of Violence</td>\n",
       "      <td>Brett Donowho (director); Nicolas Aaron Mezzan...</td>\n",
       "      <td>Action Crime Thriller</td>\n",
       "      <td>Brett Donowho</td>\n",
       "      <td>Bruce Willis</td>\n",
       "    </tr>\n",
       "    <tr>\n",
       "      <th>...</th>\n",
       "      <td>...</td>\n",
       "      <td>...</td>\n",
       "      <td>...</td>\n",
       "      <td>...</td>\n",
       "      <td>...</td>\n",
       "    </tr>\n",
       "    <tr>\n",
       "      <th>56</th>\n",
       "      <td>Second Act</td>\n",
       "      <td>Peter Segal (director); Justin Zackham, Elaine...</td>\n",
       "      <td>Romance Comedy</td>\n",
       "      <td>Peter Segal</td>\n",
       "      <td>Jennifer Lopez</td>\n",
       "    </tr>\n",
       "    <tr>\n",
       "      <th>57</th>\n",
       "      <td>Holmes &amp; Watson</td>\n",
       "      <td>Etan Cohen (director/screenplay); Will Ferrell...</td>\n",
       "      <td>Mystery Adventure Comedy Crime</td>\n",
       "      <td>Etan Cohen</td>\n",
       "      <td>Will Ferrell</td>\n",
       "    </tr>\n",
       "    <tr>\n",
       "      <th>58</th>\n",
       "      <td>Vice</td>\n",
       "      <td>Adam McKay (director/screenplay); Christian Ba...</td>\n",
       "      <td>Comedy Drama</td>\n",
       "      <td>Adam McKay</td>\n",
       "      <td>Christian Bale</td>\n",
       "    </tr>\n",
       "    <tr>\n",
       "      <th>59</th>\n",
       "      <td>On the Basis of Sex</td>\n",
       "      <td>Mimi Leder (director); Daniel Stiepleman (scre...</td>\n",
       "      <td>Drama History</td>\n",
       "      <td>Mimi Leder</td>\n",
       "      <td>Felicity Jones</td>\n",
       "    </tr>\n",
       "    <tr>\n",
       "      <th>60</th>\n",
       "      <td>Destroyer</td>\n",
       "      <td>Karyn Kusama (director); Phil Hay, Matt Manfre...</td>\n",
       "      <td>Thriller Crime Drama Action</td>\n",
       "      <td>Karyn Kusama</td>\n",
       "      <td>Nicole Kidman</td>\n",
       "    </tr>\n",
       "  </tbody>\n",
       "</table>\n",
       "<p>246 rows × 5 columns</p>\n",
       "</div>"
      ],
      "text/plain": [
       "                      Title  \\\n",
       "0   Insidious: The Last Key   \n",
       "1          The Strange Ones   \n",
       "2              The Commuter   \n",
       "3                Proud Mary   \n",
       "4          Acts of Violence   \n",
       "..                      ...   \n",
       "56               Second Act   \n",
       "57          Holmes & Watson   \n",
       "58                     Vice   \n",
       "59      On the Basis of Sex   \n",
       "60                Destroyer   \n",
       "\n",
       "                                        Cast and crew  \\\n",
       "0   Adam Robitel (director); Leigh Whannell (scree...   \n",
       "1   Christopher Radcliff (director/screenplay); La...   \n",
       "2   Jaume Collet-Serra (director); Byron Willinger...   \n",
       "3   Babak Najafi (director); John S. Newman, Chris...   \n",
       "4   Brett Donowho (director); Nicolas Aaron Mezzan...   \n",
       "..                                                ...   \n",
       "56  Peter Segal (director); Justin Zackham, Elaine...   \n",
       "57  Etan Cohen (director/screenplay); Will Ferrell...   \n",
       "58  Adam McKay (director/screenplay); Christian Ba...   \n",
       "59  Mimi Leder (director); Daniel Stiepleman (scre...   \n",
       "60  Karyn Kusama (director); Phil Hay, Matt Manfre...   \n",
       "\n",
       "                            genres  \\\n",
       "0          Horror Mystery Thriller   \n",
       "1                    Drama Mystery   \n",
       "2          Action Thriller Mystery   \n",
       "3            Thriller Action Crime   \n",
       "4            Action Crime Thriller   \n",
       "..                             ...   \n",
       "56                  Romance Comedy   \n",
       "57  Mystery Adventure Comedy Crime   \n",
       "58                    Comedy Drama   \n",
       "59                   Drama History   \n",
       "60     Thriller Crime Drama Action   \n",
       "\n",
       "                                        director_name  \\\n",
       "0                                        Adam Robitel   \n",
       "1   Christopher Radcliff (director/screenplay); La...   \n",
       "2                                  Jaume Collet-Serra   \n",
       "3                                        Babak Najafi   \n",
       "4                                       Brett Donowho   \n",
       "..                                                ...   \n",
       "56                                        Peter Segal   \n",
       "57                                         Etan Cohen   \n",
       "58                                         Adam McKay   \n",
       "59                                         Mimi Leder   \n",
       "60                                       Karyn Kusama   \n",
       "\n",
       "                                  actor_1_name  \n",
       "0                                    Lin Shaye  \n",
       "1   Lauren Wolkstein (director); Alex Pettyfer  \n",
       "2                                  Liam Neeson  \n",
       "3                             Taraji P. Henson  \n",
       "4                                 Bruce Willis  \n",
       "..                                         ...  \n",
       "56                              Jennifer Lopez  \n",
       "57                                Will Ferrell  \n",
       "58                              Christian Bale  \n",
       "59                              Felicity Jones  \n",
       "60                               Nicole Kidman  \n",
       "\n",
       "[246 rows x 5 columns]"
      ]
     },
     "execution_count": 96,
     "metadata": {},
     "output_type": "execute_result"
    }
   ],
   "source": [
    "movies_2018"
   ]
  },
  {
   "cell_type": "code",
   "execution_count": 97,
   "metadata": {},
   "outputs": [
    {
     "name": "stderr",
     "output_type": "stream",
     "text": [
      "C:\\Users\\shekh\\AppData\\Local\\Temp\\ipykernel_5324\\2037924568.py:7: SettingWithCopyWarning: \n",
      "A value is trying to be set on a copy of a slice from a DataFrame.\n",
      "Try using .loc[row_indexer,col_indexer] = value instead\n",
      "\n",
      "See the caveats in the documentation: https://pandas.pydata.org/pandas-docs/stable/user_guide/indexing.html#returning-a-view-versus-a-copy\n",
      "  movies_2018['actor_2_name'] = movies_2018['Cast and crew'].map(lambda x: get_actor2(x))\n"
     ]
    }
   ],
   "source": [
    "import numpy as np\n",
    "def get_actor2(x):\n",
    "    if len((x.split(\"screenplay); \")[-1]).split(\", \")) < 2:\n",
    "        return np.NaN\n",
    "    else:\n",
    "        return ((x.split(\"screenplay); \")[-1]).split(\", \")[1])\n",
    "movies_2018['actor_2_name'] = movies_2018['Cast and crew'].map(lambda x: get_actor2(x))"
   ]
  },
  {
   "cell_type": "code",
   "execution_count": 98,
   "metadata": {},
   "outputs": [],
   "source": [
    "def get_actor3(x):\n",
    "    if len((x.split(\"screenplay); \")[-1]).split(\", \")) < 3:\n",
    "        return np.NaN\n",
    "    else:\n",
    "        return ((x.split(\"screenplay); \")[-1]).split(\", \")[2])"
   ]
  },
  {
   "cell_type": "code",
   "execution_count": 99,
   "metadata": {},
   "outputs": [],
   "source": [
    "movies_2018['actor_3_name'] = movies_2018['Cast and crew'].map(lambda x: get_actor3(x))"
   ]
  },
  {
   "cell_type": "code",
   "execution_count": 100,
   "metadata": {},
   "outputs": [],
   "source": [
    "movies_2018 = movies_2018.rename(columns={'Title':\"movie_title\"})"
   ]
  },
  {
   "cell_type": "code",
   "execution_count": 101,
   "metadata": {},
   "outputs": [
    {
     "data": {
      "text/html": [
       "<div>\n",
       "<style scoped>\n",
       "    .dataframe tbody tr th:only-of-type {\n",
       "        vertical-align: middle;\n",
       "    }\n",
       "\n",
       "    .dataframe tbody tr th {\n",
       "        vertical-align: top;\n",
       "    }\n",
       "\n",
       "    .dataframe thead th {\n",
       "        text-align: right;\n",
       "    }\n",
       "</style>\n",
       "<table border=\"1\" class=\"dataframe\">\n",
       "  <thead>\n",
       "    <tr style=\"text-align: right;\">\n",
       "      <th></th>\n",
       "      <th>movie_title</th>\n",
       "      <th>Cast and crew</th>\n",
       "      <th>genres</th>\n",
       "      <th>director_name</th>\n",
       "      <th>actor_1_name</th>\n",
       "      <th>actor_2_name</th>\n",
       "      <th>actor_3_name</th>\n",
       "    </tr>\n",
       "  </thead>\n",
       "  <tbody>\n",
       "    <tr>\n",
       "      <th>0</th>\n",
       "      <td>Insidious: The Last Key</td>\n",
       "      <td>Adam Robitel (director); Leigh Whannell (scree...</td>\n",
       "      <td>Horror Mystery Thriller</td>\n",
       "      <td>Adam Robitel</td>\n",
       "      <td>Lin Shaye</td>\n",
       "      <td>Angus Sampson</td>\n",
       "      <td>Leigh Whannell</td>\n",
       "    </tr>\n",
       "    <tr>\n",
       "      <th>1</th>\n",
       "      <td>The Strange Ones</td>\n",
       "      <td>Christopher Radcliff (director/screenplay); La...</td>\n",
       "      <td>Drama Mystery</td>\n",
       "      <td>Christopher Radcliff (director/screenplay); La...</td>\n",
       "      <td>Lauren Wolkstein (director); Alex Pettyfer</td>\n",
       "      <td>James Freedson-Jackson</td>\n",
       "      <td>Emily Althaus</td>\n",
       "    </tr>\n",
       "    <tr>\n",
       "      <th>2</th>\n",
       "      <td>The Commuter</td>\n",
       "      <td>Jaume Collet-Serra (director); Byron Willinger...</td>\n",
       "      <td>Action Thriller Mystery</td>\n",
       "      <td>Jaume Collet-Serra</td>\n",
       "      <td>Liam Neeson</td>\n",
       "      <td>Vera Farmiga</td>\n",
       "      <td>Patrick Wilson</td>\n",
       "    </tr>\n",
       "    <tr>\n",
       "      <th>3</th>\n",
       "      <td>Proud Mary</td>\n",
       "      <td>Babak Najafi (director); John S. Newman, Chris...</td>\n",
       "      <td>Thriller Action Crime</td>\n",
       "      <td>Babak Najafi</td>\n",
       "      <td>Taraji P. Henson</td>\n",
       "      <td>Jahi Di'Allo Winston</td>\n",
       "      <td>Billy Brown</td>\n",
       "    </tr>\n",
       "    <tr>\n",
       "      <th>4</th>\n",
       "      <td>Acts of Violence</td>\n",
       "      <td>Brett Donowho (director); Nicolas Aaron Mezzan...</td>\n",
       "      <td>Action Crime Thriller</td>\n",
       "      <td>Brett Donowho</td>\n",
       "      <td>Bruce Willis</td>\n",
       "      <td>Cole Hauser</td>\n",
       "      <td>Shawn Ashmore</td>\n",
       "    </tr>\n",
       "    <tr>\n",
       "      <th>...</th>\n",
       "      <td>...</td>\n",
       "      <td>...</td>\n",
       "      <td>...</td>\n",
       "      <td>...</td>\n",
       "      <td>...</td>\n",
       "      <td>...</td>\n",
       "      <td>...</td>\n",
       "    </tr>\n",
       "    <tr>\n",
       "      <th>56</th>\n",
       "      <td>Second Act</td>\n",
       "      <td>Peter Segal (director); Justin Zackham, Elaine...</td>\n",
       "      <td>Romance Comedy</td>\n",
       "      <td>Peter Segal</td>\n",
       "      <td>Jennifer Lopez</td>\n",
       "      <td>Leah Remini</td>\n",
       "      <td>Vanessa Hudgens</td>\n",
       "    </tr>\n",
       "    <tr>\n",
       "      <th>57</th>\n",
       "      <td>Holmes &amp; Watson</td>\n",
       "      <td>Etan Cohen (director/screenplay); Will Ferrell...</td>\n",
       "      <td>Mystery Adventure Comedy Crime</td>\n",
       "      <td>Etan Cohen</td>\n",
       "      <td>Will Ferrell</td>\n",
       "      <td>John C. Reilly</td>\n",
       "      <td>Rebecca Hall</td>\n",
       "    </tr>\n",
       "    <tr>\n",
       "      <th>58</th>\n",
       "      <td>Vice</td>\n",
       "      <td>Adam McKay (director/screenplay); Christian Ba...</td>\n",
       "      <td>Comedy Drama</td>\n",
       "      <td>Adam McKay</td>\n",
       "      <td>Christian Bale</td>\n",
       "      <td>Amy Adams</td>\n",
       "      <td>Steve Carell</td>\n",
       "    </tr>\n",
       "    <tr>\n",
       "      <th>59</th>\n",
       "      <td>On the Basis of Sex</td>\n",
       "      <td>Mimi Leder (director); Daniel Stiepleman (scre...</td>\n",
       "      <td>Drama History</td>\n",
       "      <td>Mimi Leder</td>\n",
       "      <td>Felicity Jones</td>\n",
       "      <td>Armie Hammer</td>\n",
       "      <td>Justin Theroux</td>\n",
       "    </tr>\n",
       "    <tr>\n",
       "      <th>60</th>\n",
       "      <td>Destroyer</td>\n",
       "      <td>Karyn Kusama (director); Phil Hay, Matt Manfre...</td>\n",
       "      <td>Thriller Crime Drama Action</td>\n",
       "      <td>Karyn Kusama</td>\n",
       "      <td>Nicole Kidman</td>\n",
       "      <td>Sebastian Stan</td>\n",
       "      <td>Toby Kebbell</td>\n",
       "    </tr>\n",
       "  </tbody>\n",
       "</table>\n",
       "<p>246 rows × 7 columns</p>\n",
       "</div>"
      ],
      "text/plain": [
       "                movie_title  \\\n",
       "0   Insidious: The Last Key   \n",
       "1          The Strange Ones   \n",
       "2              The Commuter   \n",
       "3                Proud Mary   \n",
       "4          Acts of Violence   \n",
       "..                      ...   \n",
       "56               Second Act   \n",
       "57          Holmes & Watson   \n",
       "58                     Vice   \n",
       "59      On the Basis of Sex   \n",
       "60                Destroyer   \n",
       "\n",
       "                                        Cast and crew  \\\n",
       "0   Adam Robitel (director); Leigh Whannell (scree...   \n",
       "1   Christopher Radcliff (director/screenplay); La...   \n",
       "2   Jaume Collet-Serra (director); Byron Willinger...   \n",
       "3   Babak Najafi (director); John S. Newman, Chris...   \n",
       "4   Brett Donowho (director); Nicolas Aaron Mezzan...   \n",
       "..                                                ...   \n",
       "56  Peter Segal (director); Justin Zackham, Elaine...   \n",
       "57  Etan Cohen (director/screenplay); Will Ferrell...   \n",
       "58  Adam McKay (director/screenplay); Christian Ba...   \n",
       "59  Mimi Leder (director); Daniel Stiepleman (scre...   \n",
       "60  Karyn Kusama (director); Phil Hay, Matt Manfre...   \n",
       "\n",
       "                            genres  \\\n",
       "0          Horror Mystery Thriller   \n",
       "1                    Drama Mystery   \n",
       "2          Action Thriller Mystery   \n",
       "3            Thriller Action Crime   \n",
       "4            Action Crime Thriller   \n",
       "..                             ...   \n",
       "56                  Romance Comedy   \n",
       "57  Mystery Adventure Comedy Crime   \n",
       "58                    Comedy Drama   \n",
       "59                   Drama History   \n",
       "60     Thriller Crime Drama Action   \n",
       "\n",
       "                                        director_name  \\\n",
       "0                                        Adam Robitel   \n",
       "1   Christopher Radcliff (director/screenplay); La...   \n",
       "2                                  Jaume Collet-Serra   \n",
       "3                                        Babak Najafi   \n",
       "4                                       Brett Donowho   \n",
       "..                                                ...   \n",
       "56                                        Peter Segal   \n",
       "57                                         Etan Cohen   \n",
       "58                                         Adam McKay   \n",
       "59                                         Mimi Leder   \n",
       "60                                       Karyn Kusama   \n",
       "\n",
       "                                  actor_1_name            actor_2_name  \\\n",
       "0                                    Lin Shaye           Angus Sampson   \n",
       "1   Lauren Wolkstein (director); Alex Pettyfer  James Freedson-Jackson   \n",
       "2                                  Liam Neeson            Vera Farmiga   \n",
       "3                             Taraji P. Henson    Jahi Di'Allo Winston   \n",
       "4                                 Bruce Willis             Cole Hauser   \n",
       "..                                         ...                     ...   \n",
       "56                              Jennifer Lopez             Leah Remini   \n",
       "57                                Will Ferrell          John C. Reilly   \n",
       "58                              Christian Bale               Amy Adams   \n",
       "59                              Felicity Jones            Armie Hammer   \n",
       "60                               Nicole Kidman          Sebastian Stan   \n",
       "\n",
       "       actor_3_name  \n",
       "0    Leigh Whannell  \n",
       "1     Emily Althaus  \n",
       "2    Patrick Wilson  \n",
       "3       Billy Brown  \n",
       "4     Shawn Ashmore  \n",
       "..              ...  \n",
       "56  Vanessa Hudgens  \n",
       "57     Rebecca Hall  \n",
       "58     Steve Carell  \n",
       "59   Justin Theroux  \n",
       "60     Toby Kebbell  \n",
       "\n",
       "[246 rows x 7 columns]"
      ]
     },
     "execution_count": 101,
     "metadata": {},
     "output_type": "execute_result"
    }
   ],
   "source": [
    "movies_2018"
   ]
  },
  {
   "cell_type": "code",
   "execution_count": 102,
   "metadata": {},
   "outputs": [],
   "source": [
    "new_data = movies_2018[['director_name','actor_1_name','actor_2_name','actor_3_name','genres','movie_title']]"
   ]
  },
  {
   "cell_type": "code",
   "execution_count": 103,
   "metadata": {},
   "outputs": [
    {
     "data": {
      "text/html": [
       "<div>\n",
       "<style scoped>\n",
       "    .dataframe tbody tr th:only-of-type {\n",
       "        vertical-align: middle;\n",
       "    }\n",
       "\n",
       "    .dataframe tbody tr th {\n",
       "        vertical-align: top;\n",
       "    }\n",
       "\n",
       "    .dataframe thead th {\n",
       "        text-align: right;\n",
       "    }\n",
       "</style>\n",
       "<table border=\"1\" class=\"dataframe\">\n",
       "  <thead>\n",
       "    <tr style=\"text-align: right;\">\n",
       "      <th></th>\n",
       "      <th>director_name</th>\n",
       "      <th>actor_1_name</th>\n",
       "      <th>actor_2_name</th>\n",
       "      <th>actor_3_name</th>\n",
       "      <th>genres</th>\n",
       "      <th>movie_title</th>\n",
       "    </tr>\n",
       "  </thead>\n",
       "  <tbody>\n",
       "    <tr>\n",
       "      <th>0</th>\n",
       "      <td>Adam Robitel</td>\n",
       "      <td>Lin Shaye</td>\n",
       "      <td>Angus Sampson</td>\n",
       "      <td>Leigh Whannell</td>\n",
       "      <td>Horror Mystery Thriller</td>\n",
       "      <td>Insidious: The Last Key</td>\n",
       "    </tr>\n",
       "    <tr>\n",
       "      <th>1</th>\n",
       "      <td>Christopher Radcliff (director/screenplay); La...</td>\n",
       "      <td>Lauren Wolkstein (director); Alex Pettyfer</td>\n",
       "      <td>James Freedson-Jackson</td>\n",
       "      <td>Emily Althaus</td>\n",
       "      <td>Drama Mystery</td>\n",
       "      <td>The Strange Ones</td>\n",
       "    </tr>\n",
       "    <tr>\n",
       "      <th>2</th>\n",
       "      <td>Jaume Collet-Serra</td>\n",
       "      <td>Liam Neeson</td>\n",
       "      <td>Vera Farmiga</td>\n",
       "      <td>Patrick Wilson</td>\n",
       "      <td>Action Thriller Mystery</td>\n",
       "      <td>The Commuter</td>\n",
       "    </tr>\n",
       "    <tr>\n",
       "      <th>3</th>\n",
       "      <td>Babak Najafi</td>\n",
       "      <td>Taraji P. Henson</td>\n",
       "      <td>Jahi Di'Allo Winston</td>\n",
       "      <td>Billy Brown</td>\n",
       "      <td>Thriller Action Crime</td>\n",
       "      <td>Proud Mary</td>\n",
       "    </tr>\n",
       "    <tr>\n",
       "      <th>4</th>\n",
       "      <td>Brett Donowho</td>\n",
       "      <td>Bruce Willis</td>\n",
       "      <td>Cole Hauser</td>\n",
       "      <td>Shawn Ashmore</td>\n",
       "      <td>Action Crime Thriller</td>\n",
       "      <td>Acts of Violence</td>\n",
       "    </tr>\n",
       "    <tr>\n",
       "      <th>...</th>\n",
       "      <td>...</td>\n",
       "      <td>...</td>\n",
       "      <td>...</td>\n",
       "      <td>...</td>\n",
       "      <td>...</td>\n",
       "      <td>...</td>\n",
       "    </tr>\n",
       "    <tr>\n",
       "      <th>56</th>\n",
       "      <td>Peter Segal</td>\n",
       "      <td>Jennifer Lopez</td>\n",
       "      <td>Leah Remini</td>\n",
       "      <td>Vanessa Hudgens</td>\n",
       "      <td>Romance Comedy</td>\n",
       "      <td>Second Act</td>\n",
       "    </tr>\n",
       "    <tr>\n",
       "      <th>57</th>\n",
       "      <td>Etan Cohen</td>\n",
       "      <td>Will Ferrell</td>\n",
       "      <td>John C. Reilly</td>\n",
       "      <td>Rebecca Hall</td>\n",
       "      <td>Mystery Adventure Comedy Crime</td>\n",
       "      <td>Holmes &amp; Watson</td>\n",
       "    </tr>\n",
       "    <tr>\n",
       "      <th>58</th>\n",
       "      <td>Adam McKay</td>\n",
       "      <td>Christian Bale</td>\n",
       "      <td>Amy Adams</td>\n",
       "      <td>Steve Carell</td>\n",
       "      <td>Comedy Drama</td>\n",
       "      <td>Vice</td>\n",
       "    </tr>\n",
       "    <tr>\n",
       "      <th>59</th>\n",
       "      <td>Mimi Leder</td>\n",
       "      <td>Felicity Jones</td>\n",
       "      <td>Armie Hammer</td>\n",
       "      <td>Justin Theroux</td>\n",
       "      <td>Drama History</td>\n",
       "      <td>On the Basis of Sex</td>\n",
       "    </tr>\n",
       "    <tr>\n",
       "      <th>60</th>\n",
       "      <td>Karyn Kusama</td>\n",
       "      <td>Nicole Kidman</td>\n",
       "      <td>Sebastian Stan</td>\n",
       "      <td>Toby Kebbell</td>\n",
       "      <td>Thriller Crime Drama Action</td>\n",
       "      <td>Destroyer</td>\n",
       "    </tr>\n",
       "  </tbody>\n",
       "</table>\n",
       "<p>246 rows × 6 columns</p>\n",
       "</div>"
      ],
      "text/plain": [
       "                                        director_name  \\\n",
       "0                                        Adam Robitel   \n",
       "1   Christopher Radcliff (director/screenplay); La...   \n",
       "2                                  Jaume Collet-Serra   \n",
       "3                                        Babak Najafi   \n",
       "4                                       Brett Donowho   \n",
       "..                                                ...   \n",
       "56                                        Peter Segal   \n",
       "57                                         Etan Cohen   \n",
       "58                                         Adam McKay   \n",
       "59                                         Mimi Leder   \n",
       "60                                       Karyn Kusama   \n",
       "\n",
       "                                  actor_1_name            actor_2_name  \\\n",
       "0                                    Lin Shaye           Angus Sampson   \n",
       "1   Lauren Wolkstein (director); Alex Pettyfer  James Freedson-Jackson   \n",
       "2                                  Liam Neeson            Vera Farmiga   \n",
       "3                             Taraji P. Henson    Jahi Di'Allo Winston   \n",
       "4                                 Bruce Willis             Cole Hauser   \n",
       "..                                         ...                     ...   \n",
       "56                              Jennifer Lopez             Leah Remini   \n",
       "57                                Will Ferrell          John C. Reilly   \n",
       "58                              Christian Bale               Amy Adams   \n",
       "59                              Felicity Jones            Armie Hammer   \n",
       "60                               Nicole Kidman          Sebastian Stan   \n",
       "\n",
       "       actor_3_name                          genres              movie_title  \n",
       "0    Leigh Whannell         Horror Mystery Thriller  Insidious: The Last Key  \n",
       "1     Emily Althaus                   Drama Mystery         The Strange Ones  \n",
       "2    Patrick Wilson         Action Thriller Mystery             The Commuter  \n",
       "3       Billy Brown           Thriller Action Crime               Proud Mary  \n",
       "4     Shawn Ashmore           Action Crime Thriller         Acts of Violence  \n",
       "..              ...                             ...                      ...  \n",
       "56  Vanessa Hudgens                  Romance Comedy               Second Act  \n",
       "57     Rebecca Hall  Mystery Adventure Comedy Crime          Holmes & Watson  \n",
       "58     Steve Carell                    Comedy Drama                     Vice  \n",
       "59   Justin Theroux                   Drama History      On the Basis of Sex  \n",
       "60     Toby Kebbell     Thriller Crime Drama Action                Destroyer  \n",
       "\n",
       "[246 rows x 6 columns]"
      ]
     },
     "execution_count": 103,
     "metadata": {},
     "output_type": "execute_result"
    }
   ],
   "source": [
    "new_data"
   ]
  },
  {
   "cell_type": "code",
   "execution_count": 104,
   "metadata": {},
   "outputs": [
    {
     "data": {
      "text/plain": [
       "director_name     0\n",
       "actor_1_name      0\n",
       "actor_2_name      4\n",
       "actor_3_name     15\n",
       "genres            0\n",
       "movie_title       0\n",
       "dtype: int64"
      ]
     },
     "execution_count": 104,
     "metadata": {},
     "output_type": "execute_result"
    }
   ],
   "source": [
    "new_data.isnull().sum()"
   ]
  },
  {
   "cell_type": "code",
   "execution_count": 105,
   "metadata": {},
   "outputs": [
    {
     "name": "stderr",
     "output_type": "stream",
     "text": [
      "C:\\Users\\shekh\\AppData\\Local\\Temp\\ipykernel_5324\\1315689337.py:1: FutureWarning: Series.replace without 'value' and with non-dict-like 'to_replace' is deprecated and will raise in a future version. Explicitly specify the new values instead.\n",
      "  new_data['actor_2_name'] = new_data['actor_2_name'].replace(\"unknown\")\n",
      "C:\\Users\\shekh\\AppData\\Local\\Temp\\ipykernel_5324\\1315689337.py:1: SettingWithCopyWarning: \n",
      "A value is trying to be set on a copy of a slice from a DataFrame.\n",
      "Try using .loc[row_indexer,col_indexer] = value instead\n",
      "\n",
      "See the caveats in the documentation: https://pandas.pydata.org/pandas-docs/stable/user_guide/indexing.html#returning-a-view-versus-a-copy\n",
      "  new_data['actor_2_name'] = new_data['actor_2_name'].replace(\"unknown\")\n",
      "C:\\Users\\shekh\\AppData\\Local\\Temp\\ipykernel_5324\\1315689337.py:2: FutureWarning: Series.replace without 'value' and with non-dict-like 'to_replace' is deprecated and will raise in a future version. Explicitly specify the new values instead.\n",
      "  new_data['actor_3_name'] = new_data['actor_3_name'].replace(\"unknown\")\n",
      "C:\\Users\\shekh\\AppData\\Local\\Temp\\ipykernel_5324\\1315689337.py:2: SettingWithCopyWarning: \n",
      "A value is trying to be set on a copy of a slice from a DataFrame.\n",
      "Try using .loc[row_indexer,col_indexer] = value instead\n",
      "\n",
      "See the caveats in the documentation: https://pandas.pydata.org/pandas-docs/stable/user_guide/indexing.html#returning-a-view-versus-a-copy\n",
      "  new_data['actor_3_name'] = new_data['actor_3_name'].replace(\"unknown\")\n"
     ]
    }
   ],
   "source": [
    "new_data['actor_2_name'] = new_data['actor_2_name'].replace(\"unknown\")\n",
    "new_data['actor_3_name'] = new_data['actor_3_name'].replace(\"unknown\")"
   ]
  },
  {
   "cell_type": "code",
   "execution_count": 106,
   "metadata": {},
   "outputs": [
    {
     "data": {
      "text/html": [
       "<div>\n",
       "<style scoped>\n",
       "    .dataframe tbody tr th:only-of-type {\n",
       "        vertical-align: middle;\n",
       "    }\n",
       "\n",
       "    .dataframe tbody tr th {\n",
       "        vertical-align: top;\n",
       "    }\n",
       "\n",
       "    .dataframe thead th {\n",
       "        text-align: right;\n",
       "    }\n",
       "</style>\n",
       "<table border=\"1\" class=\"dataframe\">\n",
       "  <thead>\n",
       "    <tr style=\"text-align: right;\">\n",
       "      <th></th>\n",
       "      <th>director_name</th>\n",
       "      <th>actor_1_name</th>\n",
       "      <th>actor_2_name</th>\n",
       "      <th>actor_3_name</th>\n",
       "      <th>genres</th>\n",
       "      <th>movie_title</th>\n",
       "    </tr>\n",
       "  </thead>\n",
       "  <tbody>\n",
       "    <tr>\n",
       "      <th>0</th>\n",
       "      <td>Adam Robitel</td>\n",
       "      <td>Lin Shaye</td>\n",
       "      <td>Angus Sampson</td>\n",
       "      <td>Leigh Whannell</td>\n",
       "      <td>Horror Mystery Thriller</td>\n",
       "      <td>Insidious: The Last Key</td>\n",
       "    </tr>\n",
       "    <tr>\n",
       "      <th>1</th>\n",
       "      <td>Christopher Radcliff (director/screenplay); La...</td>\n",
       "      <td>Lauren Wolkstein (director); Alex Pettyfer</td>\n",
       "      <td>James Freedson-Jackson</td>\n",
       "      <td>Emily Althaus</td>\n",
       "      <td>Drama Mystery</td>\n",
       "      <td>The Strange Ones</td>\n",
       "    </tr>\n",
       "    <tr>\n",
       "      <th>2</th>\n",
       "      <td>Jaume Collet-Serra</td>\n",
       "      <td>Liam Neeson</td>\n",
       "      <td>Vera Farmiga</td>\n",
       "      <td>Patrick Wilson</td>\n",
       "      <td>Action Thriller Mystery</td>\n",
       "      <td>The Commuter</td>\n",
       "    </tr>\n",
       "    <tr>\n",
       "      <th>3</th>\n",
       "      <td>Babak Najafi</td>\n",
       "      <td>Taraji P. Henson</td>\n",
       "      <td>Jahi Di'Allo Winston</td>\n",
       "      <td>Billy Brown</td>\n",
       "      <td>Thriller Action Crime</td>\n",
       "      <td>Proud Mary</td>\n",
       "    </tr>\n",
       "    <tr>\n",
       "      <th>4</th>\n",
       "      <td>Brett Donowho</td>\n",
       "      <td>Bruce Willis</td>\n",
       "      <td>Cole Hauser</td>\n",
       "      <td>Shawn Ashmore</td>\n",
       "      <td>Action Crime Thriller</td>\n",
       "      <td>Acts of Violence</td>\n",
       "    </tr>\n",
       "    <tr>\n",
       "      <th>...</th>\n",
       "      <td>...</td>\n",
       "      <td>...</td>\n",
       "      <td>...</td>\n",
       "      <td>...</td>\n",
       "      <td>...</td>\n",
       "      <td>...</td>\n",
       "    </tr>\n",
       "    <tr>\n",
       "      <th>56</th>\n",
       "      <td>Peter Segal</td>\n",
       "      <td>Jennifer Lopez</td>\n",
       "      <td>Leah Remini</td>\n",
       "      <td>Vanessa Hudgens</td>\n",
       "      <td>Romance Comedy</td>\n",
       "      <td>Second Act</td>\n",
       "    </tr>\n",
       "    <tr>\n",
       "      <th>57</th>\n",
       "      <td>Etan Cohen</td>\n",
       "      <td>Will Ferrell</td>\n",
       "      <td>John C. Reilly</td>\n",
       "      <td>Rebecca Hall</td>\n",
       "      <td>Mystery Adventure Comedy Crime</td>\n",
       "      <td>Holmes &amp; Watson</td>\n",
       "    </tr>\n",
       "    <tr>\n",
       "      <th>58</th>\n",
       "      <td>Adam McKay</td>\n",
       "      <td>Christian Bale</td>\n",
       "      <td>Amy Adams</td>\n",
       "      <td>Steve Carell</td>\n",
       "      <td>Comedy Drama</td>\n",
       "      <td>Vice</td>\n",
       "    </tr>\n",
       "    <tr>\n",
       "      <th>59</th>\n",
       "      <td>Mimi Leder</td>\n",
       "      <td>Felicity Jones</td>\n",
       "      <td>Armie Hammer</td>\n",
       "      <td>Justin Theroux</td>\n",
       "      <td>Drama History</td>\n",
       "      <td>On the Basis of Sex</td>\n",
       "    </tr>\n",
       "    <tr>\n",
       "      <th>60</th>\n",
       "      <td>Karyn Kusama</td>\n",
       "      <td>Nicole Kidman</td>\n",
       "      <td>Sebastian Stan</td>\n",
       "      <td>Toby Kebbell</td>\n",
       "      <td>Thriller Crime Drama Action</td>\n",
       "      <td>Destroyer</td>\n",
       "    </tr>\n",
       "  </tbody>\n",
       "</table>\n",
       "<p>246 rows × 6 columns</p>\n",
       "</div>"
      ],
      "text/plain": [
       "                                        director_name  \\\n",
       "0                                        Adam Robitel   \n",
       "1   Christopher Radcliff (director/screenplay); La...   \n",
       "2                                  Jaume Collet-Serra   \n",
       "3                                        Babak Najafi   \n",
       "4                                       Brett Donowho   \n",
       "..                                                ...   \n",
       "56                                        Peter Segal   \n",
       "57                                         Etan Cohen   \n",
       "58                                         Adam McKay   \n",
       "59                                         Mimi Leder   \n",
       "60                                       Karyn Kusama   \n",
       "\n",
       "                                  actor_1_name            actor_2_name  \\\n",
       "0                                    Lin Shaye           Angus Sampson   \n",
       "1   Lauren Wolkstein (director); Alex Pettyfer  James Freedson-Jackson   \n",
       "2                                  Liam Neeson            Vera Farmiga   \n",
       "3                             Taraji P. Henson    Jahi Di'Allo Winston   \n",
       "4                                 Bruce Willis             Cole Hauser   \n",
       "..                                         ...                     ...   \n",
       "56                              Jennifer Lopez             Leah Remini   \n",
       "57                                Will Ferrell          John C. Reilly   \n",
       "58                              Christian Bale               Amy Adams   \n",
       "59                              Felicity Jones            Armie Hammer   \n",
       "60                               Nicole Kidman          Sebastian Stan   \n",
       "\n",
       "       actor_3_name                          genres              movie_title  \n",
       "0    Leigh Whannell         Horror Mystery Thriller  Insidious: The Last Key  \n",
       "1     Emily Althaus                   Drama Mystery         The Strange Ones  \n",
       "2    Patrick Wilson         Action Thriller Mystery             The Commuter  \n",
       "3       Billy Brown           Thriller Action Crime               Proud Mary  \n",
       "4     Shawn Ashmore           Action Crime Thriller         Acts of Violence  \n",
       "..              ...                             ...                      ...  \n",
       "56  Vanessa Hudgens                  Romance Comedy               Second Act  \n",
       "57     Rebecca Hall  Mystery Adventure Comedy Crime          Holmes & Watson  \n",
       "58     Steve Carell                    Comedy Drama                     Vice  \n",
       "59   Justin Theroux                   Drama History      On the Basis of Sex  \n",
       "60     Toby Kebbell     Thriller Crime Drama Action                Destroyer  \n",
       "\n",
       "[246 rows x 6 columns]"
      ]
     },
     "execution_count": 106,
     "metadata": {},
     "output_type": "execute_result"
    }
   ],
   "source": [
    "new_data"
   ]
  },
  {
   "cell_type": "code",
   "execution_count": 107,
   "metadata": {},
   "outputs": [
    {
     "name": "stderr",
     "output_type": "stream",
     "text": [
      "C:\\Users\\shekh\\AppData\\Local\\Temp\\ipykernel_5324\\2199470232.py:1: SettingWithCopyWarning: \n",
      "A value is trying to be set on a copy of a slice from a DataFrame.\n",
      "Try using .loc[row_indexer,col_indexer] = value instead\n",
      "\n",
      "See the caveats in the documentation: https://pandas.pydata.org/pandas-docs/stable/user_guide/indexing.html#returning-a-view-versus-a-copy\n",
      "  new_data['movie_title'] = new_data['movie_title'].str.lower()\n"
     ]
    }
   ],
   "source": [
    "new_data['movie_title'] = new_data['movie_title'].str.lower()"
   ]
  },
  {
   "cell_type": "code",
   "execution_count": 108,
   "metadata": {},
   "outputs": [
    {
     "data": {
      "text/html": [
       "<div>\n",
       "<style scoped>\n",
       "    .dataframe tbody tr th:only-of-type {\n",
       "        vertical-align: middle;\n",
       "    }\n",
       "\n",
       "    .dataframe tbody tr th {\n",
       "        vertical-align: top;\n",
       "    }\n",
       "\n",
       "    .dataframe thead th {\n",
       "        text-align: right;\n",
       "    }\n",
       "</style>\n",
       "<table border=\"1\" class=\"dataframe\">\n",
       "  <thead>\n",
       "    <tr style=\"text-align: right;\">\n",
       "      <th></th>\n",
       "      <th>director_name</th>\n",
       "      <th>actor_1_name</th>\n",
       "      <th>actor_2_name</th>\n",
       "      <th>actor_3_name</th>\n",
       "      <th>genres</th>\n",
       "      <th>movie_title</th>\n",
       "    </tr>\n",
       "  </thead>\n",
       "  <tbody>\n",
       "    <tr>\n",
       "      <th>0</th>\n",
       "      <td>Adam Robitel</td>\n",
       "      <td>Lin Shaye</td>\n",
       "      <td>Angus Sampson</td>\n",
       "      <td>Leigh Whannell</td>\n",
       "      <td>Horror Mystery Thriller</td>\n",
       "      <td>insidious: the last key</td>\n",
       "    </tr>\n",
       "    <tr>\n",
       "      <th>1</th>\n",
       "      <td>Christopher Radcliff (director/screenplay); La...</td>\n",
       "      <td>Lauren Wolkstein (director); Alex Pettyfer</td>\n",
       "      <td>James Freedson-Jackson</td>\n",
       "      <td>Emily Althaus</td>\n",
       "      <td>Drama Mystery</td>\n",
       "      <td>the strange ones</td>\n",
       "    </tr>\n",
       "    <tr>\n",
       "      <th>2</th>\n",
       "      <td>Jaume Collet-Serra</td>\n",
       "      <td>Liam Neeson</td>\n",
       "      <td>Vera Farmiga</td>\n",
       "      <td>Patrick Wilson</td>\n",
       "      <td>Action Thriller Mystery</td>\n",
       "      <td>the commuter</td>\n",
       "    </tr>\n",
       "    <tr>\n",
       "      <th>3</th>\n",
       "      <td>Babak Najafi</td>\n",
       "      <td>Taraji P. Henson</td>\n",
       "      <td>Jahi Di'Allo Winston</td>\n",
       "      <td>Billy Brown</td>\n",
       "      <td>Thriller Action Crime</td>\n",
       "      <td>proud mary</td>\n",
       "    </tr>\n",
       "    <tr>\n",
       "      <th>4</th>\n",
       "      <td>Brett Donowho</td>\n",
       "      <td>Bruce Willis</td>\n",
       "      <td>Cole Hauser</td>\n",
       "      <td>Shawn Ashmore</td>\n",
       "      <td>Action Crime Thriller</td>\n",
       "      <td>acts of violence</td>\n",
       "    </tr>\n",
       "    <tr>\n",
       "      <th>...</th>\n",
       "      <td>...</td>\n",
       "      <td>...</td>\n",
       "      <td>...</td>\n",
       "      <td>...</td>\n",
       "      <td>...</td>\n",
       "      <td>...</td>\n",
       "    </tr>\n",
       "    <tr>\n",
       "      <th>56</th>\n",
       "      <td>Peter Segal</td>\n",
       "      <td>Jennifer Lopez</td>\n",
       "      <td>Leah Remini</td>\n",
       "      <td>Vanessa Hudgens</td>\n",
       "      <td>Romance Comedy</td>\n",
       "      <td>second act</td>\n",
       "    </tr>\n",
       "    <tr>\n",
       "      <th>57</th>\n",
       "      <td>Etan Cohen</td>\n",
       "      <td>Will Ferrell</td>\n",
       "      <td>John C. Reilly</td>\n",
       "      <td>Rebecca Hall</td>\n",
       "      <td>Mystery Adventure Comedy Crime</td>\n",
       "      <td>holmes &amp; watson</td>\n",
       "    </tr>\n",
       "    <tr>\n",
       "      <th>58</th>\n",
       "      <td>Adam McKay</td>\n",
       "      <td>Christian Bale</td>\n",
       "      <td>Amy Adams</td>\n",
       "      <td>Steve Carell</td>\n",
       "      <td>Comedy Drama</td>\n",
       "      <td>vice</td>\n",
       "    </tr>\n",
       "    <tr>\n",
       "      <th>59</th>\n",
       "      <td>Mimi Leder</td>\n",
       "      <td>Felicity Jones</td>\n",
       "      <td>Armie Hammer</td>\n",
       "      <td>Justin Theroux</td>\n",
       "      <td>Drama History</td>\n",
       "      <td>on the basis of sex</td>\n",
       "    </tr>\n",
       "    <tr>\n",
       "      <th>60</th>\n",
       "      <td>Karyn Kusama</td>\n",
       "      <td>Nicole Kidman</td>\n",
       "      <td>Sebastian Stan</td>\n",
       "      <td>Toby Kebbell</td>\n",
       "      <td>Thriller Crime Drama Action</td>\n",
       "      <td>destroyer</td>\n",
       "    </tr>\n",
       "  </tbody>\n",
       "</table>\n",
       "<p>246 rows × 6 columns</p>\n",
       "</div>"
      ],
      "text/plain": [
       "                                        director_name  \\\n",
       "0                                        Adam Robitel   \n",
       "1   Christopher Radcliff (director/screenplay); La...   \n",
       "2                                  Jaume Collet-Serra   \n",
       "3                                        Babak Najafi   \n",
       "4                                       Brett Donowho   \n",
       "..                                                ...   \n",
       "56                                        Peter Segal   \n",
       "57                                         Etan Cohen   \n",
       "58                                         Adam McKay   \n",
       "59                                         Mimi Leder   \n",
       "60                                       Karyn Kusama   \n",
       "\n",
       "                                  actor_1_name            actor_2_name  \\\n",
       "0                                    Lin Shaye           Angus Sampson   \n",
       "1   Lauren Wolkstein (director); Alex Pettyfer  James Freedson-Jackson   \n",
       "2                                  Liam Neeson            Vera Farmiga   \n",
       "3                             Taraji P. Henson    Jahi Di'Allo Winston   \n",
       "4                                 Bruce Willis             Cole Hauser   \n",
       "..                                         ...                     ...   \n",
       "56                              Jennifer Lopez             Leah Remini   \n",
       "57                                Will Ferrell          John C. Reilly   \n",
       "58                              Christian Bale               Amy Adams   \n",
       "59                              Felicity Jones            Armie Hammer   \n",
       "60                               Nicole Kidman          Sebastian Stan   \n",
       "\n",
       "       actor_3_name                          genres              movie_title  \n",
       "0    Leigh Whannell         Horror Mystery Thriller  insidious: the last key  \n",
       "1     Emily Althaus                   Drama Mystery         the strange ones  \n",
       "2    Patrick Wilson         Action Thriller Mystery             the commuter  \n",
       "3       Billy Brown           Thriller Action Crime               proud mary  \n",
       "4     Shawn Ashmore           Action Crime Thriller         acts of violence  \n",
       "..              ...                             ...                      ...  \n",
       "56  Vanessa Hudgens                  Romance Comedy               second act  \n",
       "57     Rebecca Hall  Mystery Adventure Comedy Crime          holmes & watson  \n",
       "58     Steve Carell                    Comedy Drama                     vice  \n",
       "59   Justin Theroux                   Drama History      on the basis of sex  \n",
       "60     Toby Kebbell     Thriller Crime Drama Action                destroyer  \n",
       "\n",
       "[246 rows x 6 columns]"
      ]
     },
     "execution_count": 108,
     "metadata": {},
     "output_type": "execute_result"
    }
   ],
   "source": [
    "new_data"
   ]
  },
  {
   "cell_type": "code",
   "execution_count": 1,
   "metadata": {},
   "outputs": [],
   "source": [
    "import pandas as pd"
   ]
  },
  {
   "cell_type": "code",
   "execution_count": 22,
   "metadata": {},
   "outputs": [
    {
     "name": "stderr",
     "output_type": "stream",
     "text": [
      "C:\\Users\\shekh\\AppData\\Local\\Temp\\ipykernel_14864\\1642837390.py:8: DeprecationWarning: Using 'method_whitelist' with Retry is deprecated and will be removed in v2.0. Use 'allowed_methods' instead\n",
      "  retry_strategy = Retry(\n"
     ]
    }
   ],
   "source": [
    "import pandas as pd\n",
    "import requests\n",
    "from requests.adapters import HTTPAdapter\n",
    "from urllib3.util.retry import Retry\n",
    "from requests.exceptions import Timeout, RequestException, ConnectionError\n",
    "\n",
    "# Setup retry strategy\n",
    "retry_strategy = Retry(\n",
    "    total=5,  # Total number of retries\n",
    "    backoff_factor=2,  # Exponential backoff factor\n",
    "    status_forcelist=[429, 500, 502, 503, 504],  # Retry on these HTTP status codes\n",
    "    method_whitelist=[\"HEAD\", \"GET\", \"OPTIONS\"]  # Retry only on these methods\n",
    ")\n",
    "\n",
    "# Create an HTTP adapter with the retry strategy\n",
    "adapter = HTTPAdapter(max_retries=retry_strategy)\n",
    "\n",
    "# Create a session and mount the adapter\n",
    "session = requests.Session()\n",
    "session.mount(\"https://\", adapter)\n",
    "session.mount(\"http://\", adapter)\n",
    "\n",
    "# URL of the Wikipedia page\n",
    "url_2018 = 'https://en.wikipedia.org/wiki/List_of_Hindi_films_of_2018'\n",
    "\n",
    "def fetch_html(url):\n",
    "    try:\n",
    "        response = session.get(url, timeout=20)\n",
    "        response.raise_for_status()  # Raise an exception for HTTP errors\n",
    "        return response.content\n",
    "    except Timeout:\n",
    "        print(f\"Request timed out for URL {url}.\")\n",
    "        return None\n",
    "    except ConnectionError as e:\n",
    "        print(f\"Connection error for URL {url}: {e}\")\n",
    "        return None\n",
    "    except RequestException as e:\n",
    "        print(f\"Request error fetching data from URL {url}: {e}\")\n",
    "        return None\n",
    "    except Exception as e:\n",
    "        print(f\"Unexpected error fetching data from URL {url}: {e}\")\n",
    "        return None\n",
    "\n",
    "# Fetch HTML content from the URL\n",
    "html_content_2018 = fetch_html(url_2018)\n",
    "\n",
    "# Read HTML data using pandas if content is fetched successfully\n",
    "if html_content_2018:\n",
    "    try:\n",
    "        # Reading multiple tables on the page\n",
    "        tables_2018 = pd.read_html(html_content_2018, header=0)\n",
    "        \n",
    "        # Extract specific tables\n",
    "        df1_2018 = tables_2018[2]\n",
    "        df2_2018 = tables_2018[3]\n",
    "        df3_2018 = tables_2018[4]\n",
    "        df4_2018 = tables_2018[5]\n",
    "        \n",
    "    except Exception as e:\n",
    "        print(f\"Error reading HTML content: {e}\")\n",
    "else:\n",
    "    print(\"Failed to fetch HTML content.\")\n"
   ]
  },
  {
   "cell_type": "code",
   "execution_count": 26,
   "metadata": {},
   "outputs": [],
   "source": [
    "movies_2018 = pd.concat([df1_2018,df1_2018,df3_2018,df4_2018],axis=0)"
   ]
  },
  {
   "cell_type": "code",
   "execution_count": 27,
   "metadata": {},
   "outputs": [
    {
     "data": {
      "text/plain": [
       "104"
      ]
     },
     "execution_count": 27,
     "metadata": {},
     "output_type": "execute_result"
    }
   ],
   "source": [
    "len(movies_2018)"
   ]
  },
  {
   "cell_type": "code",
   "execution_count": 29,
   "metadata": {},
   "outputs": [],
   "source": [
    "movies_2018 = movies_2018[['Title','Director','Cast']]"
   ]
  },
  {
   "cell_type": "code",
   "execution_count": 34,
   "metadata": {},
   "outputs": [
    {
     "data": {
      "text/html": [
       "<div>\n",
       "<style scoped>\n",
       "    .dataframe tbody tr th:only-of-type {\n",
       "        vertical-align: middle;\n",
       "    }\n",
       "\n",
       "    .dataframe tbody tr th {\n",
       "        vertical-align: top;\n",
       "    }\n",
       "\n",
       "    .dataframe thead th {\n",
       "        text-align: right;\n",
       "    }\n",
       "</style>\n",
       "<table border=\"1\" class=\"dataframe\">\n",
       "  <thead>\n",
       "    <tr style=\"text-align: right;\">\n",
       "      <th></th>\n",
       "      <th>Title</th>\n",
       "      <th>Director</th>\n",
       "      <th>Cast</th>\n",
       "    </tr>\n",
       "  </thead>\n",
       "  <tbody>\n",
       "    <tr>\n",
       "      <th>0</th>\n",
       "      <td>1921</td>\n",
       "      <td>Vikram Bhatt</td>\n",
       "      <td>Zareen Khan, Karan Kundra, Tobby Hinston, Soni...</td>\n",
       "    </tr>\n",
       "    <tr>\n",
       "      <th>1</th>\n",
       "      <td>Kaalakaandi</td>\n",
       "      <td>Akshat Verma</td>\n",
       "      <td>Saif Ali Khan, Isha Talwar, Shenaz Treasury, A...</td>\n",
       "    </tr>\n",
       "    <tr>\n",
       "      <th>2</th>\n",
       "      <td>Mukkabaaz</td>\n",
       "      <td>Anurag Kashyap</td>\n",
       "      <td>Vineet Kumar Singh, Zoya Hussain, Ravi Kishan,...</td>\n",
       "    </tr>\n",
       "    <tr>\n",
       "      <th>3</th>\n",
       "      <td>Phir Se...</td>\n",
       "      <td>Kunal Kohli</td>\n",
       "      <td>Jennifer Winget, Kunal Kohli, Rajit Kapur</td>\n",
       "    </tr>\n",
       "    <tr>\n",
       "      <th>4</th>\n",
       "      <td>My Birthday Song</td>\n",
       "      <td>Samir Soni</td>\n",
       "      <td>Sanjay Suri, Nora Fatehi, Pitobash</td>\n",
       "    </tr>\n",
       "    <tr>\n",
       "      <th>...</th>\n",
       "      <td>...</td>\n",
       "      <td>...</td>\n",
       "      <td>...</td>\n",
       "    </tr>\n",
       "    <tr>\n",
       "      <th>19</th>\n",
       "      <td>Rajma Chawal</td>\n",
       "      <td>Leena Yadav</td>\n",
       "      <td>Rishi Kapoor, Anirudh Tanwar, Amyra Dastur</td>\n",
       "    </tr>\n",
       "    <tr>\n",
       "      <th>20</th>\n",
       "      <td>Kedarnath</td>\n",
       "      <td>Abhishek Kapoor</td>\n",
       "      <td>Sushant Singh Rajput, Sara Ali Khan</td>\n",
       "    </tr>\n",
       "    <tr>\n",
       "      <th>21</th>\n",
       "      <td>Ascharyachakit!</td>\n",
       "      <td>Samit Kakkad</td>\n",
       "      <td>Priyanka Bose, Vaibhav Raj Gupta, Ankit Raaj, ...</td>\n",
       "    </tr>\n",
       "    <tr>\n",
       "      <th>22</th>\n",
       "      <td>Zero</td>\n",
       "      <td>Aanand L. Rai</td>\n",
       "      <td>Shah Rukh Khan, Katrina Kaif, Anushka Sharma, ...</td>\n",
       "    </tr>\n",
       "    <tr>\n",
       "      <th>23</th>\n",
       "      <td>Simmba</td>\n",
       "      <td>Rohit Shetty</td>\n",
       "      <td>Ranveer Singh, Sara Ali Khan, Sonu Sood</td>\n",
       "    </tr>\n",
       "  </tbody>\n",
       "</table>\n",
       "<p>104 rows × 3 columns</p>\n",
       "</div>"
      ],
      "text/plain": [
       "               Title         Director  \\\n",
       "0               1921     Vikram Bhatt   \n",
       "1        Kaalakaandi     Akshat Verma   \n",
       "2          Mukkabaaz   Anurag Kashyap   \n",
       "3         Phir Se...      Kunal Kohli   \n",
       "4   My Birthday Song       Samir Soni   \n",
       "..               ...              ...   \n",
       "19      Rajma Chawal      Leena Yadav   \n",
       "20         Kedarnath  Abhishek Kapoor   \n",
       "21   Ascharyachakit!     Samit Kakkad   \n",
       "22              Zero    Aanand L. Rai   \n",
       "23            Simmba     Rohit Shetty   \n",
       "\n",
       "                                                 Cast  \n",
       "0   Zareen Khan, Karan Kundra, Tobby Hinston, Soni...  \n",
       "1   Saif Ali Khan, Isha Talwar, Shenaz Treasury, A...  \n",
       "2   Vineet Kumar Singh, Zoya Hussain, Ravi Kishan,...  \n",
       "3           Jennifer Winget, Kunal Kohli, Rajit Kapur  \n",
       "4                  Sanjay Suri, Nora Fatehi, Pitobash  \n",
       "..                                                ...  \n",
       "19         Rishi Kapoor, Anirudh Tanwar, Amyra Dastur  \n",
       "20                Sushant Singh Rajput, Sara Ali Khan  \n",
       "21  Priyanka Bose, Vaibhav Raj Gupta, Ankit Raaj, ...  \n",
       "22  Shah Rukh Khan, Katrina Kaif, Anushka Sharma, ...  \n",
       "23            Ranveer Singh, Sara Ali Khan, Sonu Sood  \n",
       "\n",
       "[104 rows x 3 columns]"
      ]
     },
     "execution_count": 34,
     "metadata": {},
     "output_type": "execute_result"
    }
   ],
   "source": [
    "movies_2018"
   ]
  },
  {
   "cell_type": "code",
   "execution_count": 107,
   "metadata": {},
   "outputs": [],
   "source": [
    "# for i in movies_2018['Cast']:\n",
    "#     try:\n",
    "#         print(i.split(\",\")[2])\n",
    "#     except Exception as e:\n",
    "#         print(e)\n",
    "import numpy as np\n",
    "\n",
    "def get_actor11(text):\n",
    "    \n",
    "    actor = []\n",
    "    for i in text:\n",
    "        try:\n",
    "            return i.split(\",\")[2]\n",
    "        except Exception as e:\n",
    "            print(e)\n",
    "            return np.nan"
   ]
  },
  {
   "cell_type": "code",
   "execution_count": 108,
   "metadata": {},
   "outputs": [
    {
     "data": {
      "text/plain": [
       "' Tobby Hinston'"
      ]
     },
     "execution_count": 108,
     "metadata": {},
     "output_type": "execute_result"
    }
   ],
   "source": [
    "\n",
    "get_actor11(movies_2018['Cast'])\n"
   ]
  },
  {
   "cell_type": "code",
   "execution_count": 121,
   "metadata": {},
   "outputs": [],
   "source": [
    "\n",
    "\n",
    "def get(x):\n",
    "    if isinstance(x, str): \n",
    "        actor_list = x.split(\",\")\n",
    "        if actor_list[0]:\n",
    "            return actor_list[0].strip()  \n",
    "    return None\n"
   ]
  },
  {
   "cell_type": "code",
   "execution_count": 122,
   "metadata": {},
   "outputs": [
    {
     "name": "stderr",
     "output_type": "stream",
     "text": [
      "C:\\Users\\shekh\\AppData\\Local\\Temp\\ipykernel_14864\\2911645283.py:1: SettingWithCopyWarning: \n",
      "A value is trying to be set on a copy of a slice from a DataFrame.\n",
      "Try using .loc[row_indexer,col_indexer] = value instead\n",
      "\n",
      "See the caveats in the documentation: https://pandas.pydata.org/pandas-docs/stable/user_guide/indexing.html#returning-a-view-versus-a-copy\n",
      "  movies_2018['actor_1_name'] = movies_2018['Cast'].apply(lambda x:get(x))\n"
     ]
    }
   ],
   "source": [
    "movies_2018['actor_1_name'] = movies_2018['Cast'].apply(lambda x:get(x))"
   ]
  },
  {
   "cell_type": "code",
   "execution_count": 125,
   "metadata": {},
   "outputs": [
    {
     "name": "stderr",
     "output_type": "stream",
     "text": [
      "C:\\Users\\shekh\\AppData\\Local\\Temp\\ipykernel_14864\\1443873180.py:10: SettingWithCopyWarning: \n",
      "A value is trying to be set on a copy of a slice from a DataFrame.\n",
      "Try using .loc[row_indexer,col_indexer] = value instead\n",
      "\n",
      "See the caveats in the documentation: https://pandas.pydata.org/pandas-docs/stable/user_guide/indexing.html#returning-a-view-versus-a-copy\n",
      "  movies_2018['actor_2_name'] = movies_2018['Cast'].apply(lambda x:get2(x))\n"
     ]
    }
   ],
   "source": [
    "def get2(x):\n",
    "    if isinstance(x, str): \n",
    "        actor_list = x.split(\",\")\n",
    "        if len(actor_list)>=2:\n",
    "            return actor_list[1].strip()\n",
    "        else:\n",
    "            return np.nan  \n",
    "    return np.nan\n",
    "\n",
    "movies_2018['actor_2_name'] = movies_2018['Cast'].apply(lambda x:get2(x))"
   ]
  },
  {
   "cell_type": "code",
   "execution_count": 127,
   "metadata": {},
   "outputs": [
    {
     "name": "stderr",
     "output_type": "stream",
     "text": [
      "C:\\Users\\shekh\\AppData\\Local\\Temp\\ipykernel_14864\\121515625.py:10: SettingWithCopyWarning: \n",
      "A value is trying to be set on a copy of a slice from a DataFrame.\n",
      "Try using .loc[row_indexer,col_indexer] = value instead\n",
      "\n",
      "See the caveats in the documentation: https://pandas.pydata.org/pandas-docs/stable/user_guide/indexing.html#returning-a-view-versus-a-copy\n",
      "  movies_2018['actor_3_name'] = movies_2018['Cast'].apply(lambda x:get3(x))\n"
     ]
    }
   ],
   "source": [
    "def get3(x):\n",
    "    if isinstance(x, str): \n",
    "        actor_list = x.split(\",\")\n",
    "        if len(actor_list)>=3:\n",
    "            return actor_list[2].strip()\n",
    "        else:\n",
    "            return np.nan  \n",
    "    return np.nan\n",
    "\n",
    "movies_2018['actor_3_name'] = movies_2018['Cast'].apply(lambda x:get3(x))"
   ]
  },
  {
   "cell_type": "code",
   "execution_count": 128,
   "metadata": {},
   "outputs": [
    {
     "data": {
      "text/html": [
       "<div>\n",
       "<style scoped>\n",
       "    .dataframe tbody tr th:only-of-type {\n",
       "        vertical-align: middle;\n",
       "    }\n",
       "\n",
       "    .dataframe tbody tr th {\n",
       "        vertical-align: top;\n",
       "    }\n",
       "\n",
       "    .dataframe thead th {\n",
       "        text-align: right;\n",
       "    }\n",
       "</style>\n",
       "<table border=\"1\" class=\"dataframe\">\n",
       "  <thead>\n",
       "    <tr style=\"text-align: right;\">\n",
       "      <th></th>\n",
       "      <th>Title</th>\n",
       "      <th>Director</th>\n",
       "      <th>Cast</th>\n",
       "      <th>actor_1_name</th>\n",
       "      <th>actor_2_name</th>\n",
       "      <th>actor_3_name</th>\n",
       "    </tr>\n",
       "  </thead>\n",
       "  <tbody>\n",
       "    <tr>\n",
       "      <th>0</th>\n",
       "      <td>1921</td>\n",
       "      <td>Vikram Bhatt</td>\n",
       "      <td>Zareen Khan, Karan Kundra, Tobby Hinston, Soni...</td>\n",
       "      <td>Zareen Khan</td>\n",
       "      <td>Karan Kundra</td>\n",
       "      <td>Tobby Hinston</td>\n",
       "    </tr>\n",
       "    <tr>\n",
       "      <th>1</th>\n",
       "      <td>Kaalakaandi</td>\n",
       "      <td>Akshat Verma</td>\n",
       "      <td>Saif Ali Khan, Isha Talwar, Shenaz Treasury, A...</td>\n",
       "      <td>Saif Ali Khan</td>\n",
       "      <td>Isha Talwar</td>\n",
       "      <td>Shenaz Treasury</td>\n",
       "    </tr>\n",
       "    <tr>\n",
       "      <th>2</th>\n",
       "      <td>Mukkabaaz</td>\n",
       "      <td>Anurag Kashyap</td>\n",
       "      <td>Vineet Kumar Singh, Zoya Hussain, Ravi Kishan,...</td>\n",
       "      <td>Vineet Kumar Singh</td>\n",
       "      <td>Zoya Hussain</td>\n",
       "      <td>Ravi Kishan</td>\n",
       "    </tr>\n",
       "    <tr>\n",
       "      <th>3</th>\n",
       "      <td>Phir Se...</td>\n",
       "      <td>Kunal Kohli</td>\n",
       "      <td>Jennifer Winget, Kunal Kohli, Rajit Kapur</td>\n",
       "      <td>Jennifer Winget</td>\n",
       "      <td>Kunal Kohli</td>\n",
       "      <td>Rajit Kapur</td>\n",
       "    </tr>\n",
       "    <tr>\n",
       "      <th>4</th>\n",
       "      <td>My Birthday Song</td>\n",
       "      <td>Samir Soni</td>\n",
       "      <td>Sanjay Suri, Nora Fatehi, Pitobash</td>\n",
       "      <td>Sanjay Suri</td>\n",
       "      <td>Nora Fatehi</td>\n",
       "      <td>Pitobash</td>\n",
       "    </tr>\n",
       "  </tbody>\n",
       "</table>\n",
       "</div>"
      ],
      "text/plain": [
       "              Title        Director                                               Cast        actor_1_name  actor_2_name     actor_3_name\n",
       "0              1921    Vikram Bhatt  Zareen Khan, Karan Kundra, Tobby Hinston, Soni...         Zareen Khan  Karan Kundra    Tobby Hinston\n",
       "1       Kaalakaandi    Akshat Verma  Saif Ali Khan, Isha Talwar, Shenaz Treasury, A...       Saif Ali Khan   Isha Talwar  Shenaz Treasury\n",
       "2         Mukkabaaz  Anurag Kashyap  Vineet Kumar Singh, Zoya Hussain, Ravi Kishan,...  Vineet Kumar Singh  Zoya Hussain      Ravi Kishan\n",
       "3        Phir Se...     Kunal Kohli          Jennifer Winget, Kunal Kohli, Rajit Kapur     Jennifer Winget   Kunal Kohli      Rajit Kapur\n",
       "4  My Birthday Song      Samir Soni                 Sanjay Suri, Nora Fatehi, Pitobash         Sanjay Suri   Nora Fatehi         Pitobash"
      ]
     },
     "execution_count": 128,
     "metadata": {},
     "output_type": "execute_result"
    }
   ],
   "source": [
    "movies_2018.head()"
   ]
  },
  {
   "cell_type": "code",
   "execution_count": 129,
   "metadata": {},
   "outputs": [],
   "source": [
    "movies_2018 = movies_2018.drop('Cast',axis=1)"
   ]
  },
  {
   "cell_type": "code",
   "execution_count": 131,
   "metadata": {},
   "outputs": [],
   "source": [
    "movies_2018['comb'] = movies_2018['actor_1_name']+\" \"+movies_2018['actor_2_name']+\" \"+movies_2018['actor_3_name']+\" \"+movies_2018['Director']"
   ]
  },
  {
   "cell_type": "code",
   "execution_count": 134,
   "metadata": {},
   "outputs": [],
   "source": [
    "movies_2018.reset_index(inplace=True)"
   ]
  },
  {
   "cell_type": "code",
   "execution_count": 136,
   "metadata": {},
   "outputs": [
    {
     "data": {
      "text/plain": [
       "index            0\n",
       "Title            1\n",
       "Director         1\n",
       "actor_1_name     2\n",
       "actor_2_name     4\n",
       "actor_3_name    18\n",
       "comb            18\n",
       "dtype: int64"
      ]
     },
     "execution_count": 136,
     "metadata": {},
     "output_type": "execute_result"
    }
   ],
   "source": [
    "movies_2018.isnull().sum()"
   ]
  },
  {
   "cell_type": "code",
   "execution_count": 137,
   "metadata": {},
   "outputs": [],
   "source": [
    "movies_2018.dropna(subset='comb',axis=0,inplace=True)"
   ]
  },
  {
   "cell_type": "code",
   "execution_count": 138,
   "metadata": {},
   "outputs": [
    {
     "data": {
      "text/plain": [
       "index           0\n",
       "Title           0\n",
       "Director        0\n",
       "actor_1_name    0\n",
       "actor_2_name    0\n",
       "actor_3_name    0\n",
       "comb            0\n",
       "dtype: int64"
      ]
     },
     "execution_count": 138,
     "metadata": {},
     "output_type": "execute_result"
    }
   ],
   "source": [
    "movies_2018.isnull().sum()"
   ]
  },
  {
   "cell_type": "code",
   "execution_count": 139,
   "metadata": {},
   "outputs": [
    {
     "data": {
      "text/plain": [
       "86"
      ]
     },
     "execution_count": 139,
     "metadata": {},
     "output_type": "execute_result"
    }
   ],
   "source": [
    "len(movies_2018)"
   ]
  },
  {
   "cell_type": "code",
   "execution_count": 147,
   "metadata": {},
   "outputs": [],
   "source": [
    "movies_2018 = movies_2018.rename(columns={'Title':'movie_title',\"Director\":\"director_name\"})"
   ]
  },
  {
   "cell_type": "code",
   "execution_count": 140,
   "metadata": {},
   "outputs": [],
   "source": [
    "movies_2018.to_csv('movies_2018_hindi.csv',index=False)"
   ]
  },
  {
   "cell_type": "code",
   "execution_count": 149,
   "metadata": {},
   "outputs": [],
   "source": [
    "movies_2018.drop('index',axis=1,inplace=True)"
   ]
  },
  {
   "cell_type": "code",
   "execution_count": 151,
   "metadata": {},
   "outputs": [],
   "source": [
    "movies_2018['movie_title'] = movies_2018['movie_title'].str.lower()"
   ]
  },
  {
   "cell_type": "code",
   "execution_count": 152,
   "metadata": {},
   "outputs": [
    {
     "data": {
      "text/html": [
       "<div>\n",
       "<style scoped>\n",
       "    .dataframe tbody tr th:only-of-type {\n",
       "        vertical-align: middle;\n",
       "    }\n",
       "\n",
       "    .dataframe tbody tr th {\n",
       "        vertical-align: top;\n",
       "    }\n",
       "\n",
       "    .dataframe thead th {\n",
       "        text-align: right;\n",
       "    }\n",
       "</style>\n",
       "<table border=\"1\" class=\"dataframe\">\n",
       "  <thead>\n",
       "    <tr style=\"text-align: right;\">\n",
       "      <th></th>\n",
       "      <th>movie_title</th>\n",
       "      <th>director_name</th>\n",
       "      <th>actor_1_name</th>\n",
       "      <th>actor_2_name</th>\n",
       "      <th>actor_3_name</th>\n",
       "      <th>comb</th>\n",
       "    </tr>\n",
       "  </thead>\n",
       "  <tbody>\n",
       "    <tr>\n",
       "      <th>0</th>\n",
       "      <td>1921</td>\n",
       "      <td>Vikram Bhatt</td>\n",
       "      <td>Zareen Khan</td>\n",
       "      <td>Karan Kundra</td>\n",
       "      <td>Tobby Hinston</td>\n",
       "      <td>Zareen Khan Karan Kundra Tobby Hinston Vikram ...</td>\n",
       "    </tr>\n",
       "    <tr>\n",
       "      <th>1</th>\n",
       "      <td>kaalakaandi</td>\n",
       "      <td>Akshat Verma</td>\n",
       "      <td>Saif Ali Khan</td>\n",
       "      <td>Isha Talwar</td>\n",
       "      <td>Shenaz Treasury</td>\n",
       "      <td>Saif Ali Khan Isha Talwar Shenaz Treasury Aksh...</td>\n",
       "    </tr>\n",
       "  </tbody>\n",
       "</table>\n",
       "</div>"
      ],
      "text/plain": [
       "   movie_title director_name   actor_1_name  actor_2_name     actor_3_name                                               comb\n",
       "0         1921  Vikram Bhatt    Zareen Khan  Karan Kundra    Tobby Hinston  Zareen Khan Karan Kundra Tobby Hinston Vikram ...\n",
       "1  kaalakaandi  Akshat Verma  Saif Ali Khan   Isha Talwar  Shenaz Treasury  Saif Ali Khan Isha Talwar Shenaz Treasury Aksh..."
      ]
     },
     "execution_count": 152,
     "metadata": {},
     "output_type": "execute_result"
    }
   ],
   "source": [
    "movies_2018.head(2)"
   ]
  },
  {
   "cell_type": "code",
   "execution_count": 162,
   "metadata": {},
   "outputs": [
    {
     "data": {
      "text/plain": [
       "21"
      ]
     },
     "execution_count": 162,
     "metadata": {},
     "output_type": "execute_result"
    }
   ],
   "source": [
    "movies_2018.duplicated(subset=['movie_title']).sum()"
   ]
  },
  {
   "cell_type": "code",
   "execution_count": 163,
   "metadata": {},
   "outputs": [],
   "source": [
    "movies_2018.drop_duplicates(subset=['movie_title'],inplace=True)"
   ]
  },
  {
   "cell_type": "code",
   "execution_count": 165,
   "metadata": {},
   "outputs": [],
   "source": [
    "movies_2018.reset_index(inplace=True)"
   ]
  },
  {
   "cell_type": "code",
   "execution_count": 166,
   "metadata": {},
   "outputs": [
    {
     "data": {
      "text/plain": [
       "0"
      ]
     },
     "execution_count": 166,
     "metadata": {},
     "output_type": "execute_result"
    }
   ],
   "source": [
    "movies_2018.duplicated(subset=['movie_title']).sum()"
   ]
  },
  {
   "cell_type": "code",
   "execution_count": 167,
   "metadata": {},
   "outputs": [
    {
     "data": {
      "text/plain": [
       "65"
      ]
     },
     "execution_count": 167,
     "metadata": {},
     "output_type": "execute_result"
    }
   ],
   "source": [
    "len(movies_2018)"
   ]
  },
  {
   "cell_type": "code",
   "execution_count": 169,
   "metadata": {},
   "outputs": [],
   "source": [
    "movies_2018.drop('index',axis=1,inplace=True)"
   ]
  },
  {
   "cell_type": "code",
   "execution_count": 171,
   "metadata": {},
   "outputs": [
    {
     "data": {
      "text/plain": [
       "movie_title      0\n",
       "director_name    0\n",
       "actor_1_name     0\n",
       "actor_2_name     0\n",
       "actor_3_name     0\n",
       "comb             0\n",
       "dtype: int64"
      ]
     },
     "execution_count": 171,
     "metadata": {},
     "output_type": "execute_result"
    }
   ],
   "source": [
    "movies_2018.isnull().sum()"
   ]
  },
  {
   "cell_type": "code",
   "execution_count": 178,
   "metadata": {},
   "outputs": [],
   "source": [
    "\n",
    "\n",
    "from tmdbv3api import TMDb\n",
    "import json\n",
    "import requests\n",
    "tmdb = TMDb()\n",
    "tmdb.api_key = '6d8bfe0dbef34d25e64f64cabec93e20' \n",
    "\n",
    "from tmdbv3api import Movie\n",
    "\n",
    "tmdb_movie = Movie()\n",
    "\n",
    "# Using LRU cache to store results of previously fetched movie genres\n",
    "def get_geners(x):\n",
    "    genres = []\n",
    "\n",
    "    result = tmdb_movie.search(x)\n",
    "\n",
    "    movie_id = result[0].id\n",
    "    responce = requests.get('https://api.themoviedb.org/3/movie/{}?api_key={}'.format(movie_id,tmdb.api_key))\n",
    "    data_json = responce.json()\n",
    "\n",
    "    if data_json['genres']:\n",
    "        genres_str = \" \"\n",
    "        for i in range(0,len(data_json['genres'])):\n",
    "            genres.append(data_json['genres'][i]['name'])\n",
    "        return genres_str.join(genres)\n",
    "    else:\n",
    "        return np.nan\n"
   ]
  },
  {
   "cell_type": "code",
   "execution_count": 179,
   "metadata": {},
   "outputs": [
    {
     "data": {
      "text/plain": [
       "'1921'"
      ]
     },
     "execution_count": 179,
     "metadata": {},
     "output_type": "execute_result"
    }
   ],
   "source": [
    "movies_2018['movie_title'][0]"
   ]
  },
  {
   "cell_type": "code",
   "execution_count": 177,
   "metadata": {},
   "outputs": [
    {
     "data": {
      "text/plain": [
       "'History Drama War'"
      ]
     },
     "execution_count": 177,
     "metadata": {},
     "output_type": "execute_result"
    }
   ],
   "source": [
    "get_geners(movies_2018['movie_title'][0])"
   ]
  },
  {
   "cell_type": "code",
   "execution_count": 180,
   "metadata": {},
   "outputs": [
    {
     "data": {
      "text/plain": [
       "65"
      ]
     },
     "execution_count": 180,
     "metadata": {},
     "output_type": "execute_result"
    }
   ],
   "source": [
    "len(movies_2018)"
   ]
  },
  {
   "cell_type": "code",
   "execution_count": 182,
   "metadata": {},
   "outputs": [],
   "source": [
    "\n",
    "from functools import lru_cache\n",
    "\n",
    "\n",
    "# Using LRU cache to store results of previously fetched movie genres\n",
    "@lru_cache(maxsize=1000)\n",
    "def fetch_movie_genres(movie_id):\n",
    "    try:\n",
    "        response = requests.get(f'https://api.themoviedb.org/3/movie/{movie_id}?api_key={tmdb.api_key}')\n",
    "        if response.status_code != 200:\n",
    "            return np.nan\n",
    "        \n",
    "        data_json = response.json()\n",
    "        if 'genres' in data_json and data_json['genres']:\n",
    "            return \" \".join([genre['name'] for genre in data_json['genres']])\n",
    "        else:\n",
    "            return np.nan\n",
    "    except Exception as e:\n",
    "        print(f\"Error fetching genres for movie ID {movie_id}: {e}\")\n",
    "        return np.nan\n",
    "\n",
    "def get_genres(x):\n",
    "    try:\n",
    "        result = tmdb_movie.search(x)\n",
    "        if not result:\n",
    "            return np.nan\n",
    "        \n",
    "        movie_id = result[0].id\n",
    "        return fetch_movie_genres(movie_id)\n",
    "    except Exception as e:\n",
    "        print(f\"Error fetching genres for {x}: {e}\")\n",
    "        return np.nan\n"
   ]
  },
  {
   "cell_type": "code",
   "execution_count": 183,
   "metadata": {},
   "outputs": [],
   "source": [
    "movies_2018['genres'] = movies_2018['movie_title'].apply(lambda x:get_geners(x))"
   ]
  },
  {
   "cell_type": "code",
   "execution_count": 185,
   "metadata": {},
   "outputs": [
    {
     "data": {
      "text/html": [
       "<div>\n",
       "<style scoped>\n",
       "    .dataframe tbody tr th:only-of-type {\n",
       "        vertical-align: middle;\n",
       "    }\n",
       "\n",
       "    .dataframe tbody tr th {\n",
       "        vertical-align: top;\n",
       "    }\n",
       "\n",
       "    .dataframe thead th {\n",
       "        text-align: right;\n",
       "    }\n",
       "</style>\n",
       "<table border=\"1\" class=\"dataframe\">\n",
       "  <thead>\n",
       "    <tr style=\"text-align: right;\">\n",
       "      <th></th>\n",
       "      <th>movie_title</th>\n",
       "      <th>director_name</th>\n",
       "      <th>actor_1_name</th>\n",
       "      <th>actor_2_name</th>\n",
       "      <th>actor_3_name</th>\n",
       "      <th>comb</th>\n",
       "      <th>genres</th>\n",
       "    </tr>\n",
       "  </thead>\n",
       "  <tbody>\n",
       "    <tr>\n",
       "      <th>0</th>\n",
       "      <td>1921</td>\n",
       "      <td>Vikram Bhatt</td>\n",
       "      <td>Zareen Khan</td>\n",
       "      <td>Karan Kundra</td>\n",
       "      <td>Tobby Hinston</td>\n",
       "      <td>Zareen Khan Karan Kundra Tobby Hinston Vikram ...</td>\n",
       "      <td>History Drama War</td>\n",
       "    </tr>\n",
       "    <tr>\n",
       "      <th>1</th>\n",
       "      <td>kaalakaandi</td>\n",
       "      <td>Akshat Verma</td>\n",
       "      <td>Saif Ali Khan</td>\n",
       "      <td>Isha Talwar</td>\n",
       "      <td>Shenaz Treasury</td>\n",
       "      <td>Saif Ali Khan Isha Talwar Shenaz Treasury Aksh...</td>\n",
       "      <td>Comedy Thriller Drama</td>\n",
       "    </tr>\n",
       "    <tr>\n",
       "      <th>2</th>\n",
       "      <td>mukkabaaz</td>\n",
       "      <td>Anurag Kashyap</td>\n",
       "      <td>Vineet Kumar Singh</td>\n",
       "      <td>Zoya Hussain</td>\n",
       "      <td>Ravi Kishan</td>\n",
       "      <td>Vineet Kumar Singh Zoya Hussain Ravi Kishan An...</td>\n",
       "      <td>Drama</td>\n",
       "    </tr>\n",
       "    <tr>\n",
       "      <th>3</th>\n",
       "      <td>phir se...</td>\n",
       "      <td>Kunal Kohli</td>\n",
       "      <td>Jennifer Winget</td>\n",
       "      <td>Kunal Kohli</td>\n",
       "      <td>Rajit Kapur</td>\n",
       "      <td>Jennifer Winget Kunal Kohli Rajit Kapur Kunal ...</td>\n",
       "      <td>Comedy Drama</td>\n",
       "    </tr>\n",
       "    <tr>\n",
       "      <th>4</th>\n",
       "      <td>my birthday song</td>\n",
       "      <td>Samir Soni</td>\n",
       "      <td>Sanjay Suri</td>\n",
       "      <td>Nora Fatehi</td>\n",
       "      <td>Pitobash</td>\n",
       "      <td>Sanjay Suri Nora Fatehi Pitobash Samir Soni</td>\n",
       "      <td>Thriller</td>\n",
       "    </tr>\n",
       "  </tbody>\n",
       "</table>\n",
       "</div>"
      ],
      "text/plain": [
       "        movie_title   director_name        actor_1_name  actor_2_name     actor_3_name                                               comb                 genres\n",
       "0              1921    Vikram Bhatt         Zareen Khan  Karan Kundra    Tobby Hinston  Zareen Khan Karan Kundra Tobby Hinston Vikram ...      History Drama War\n",
       "1       kaalakaandi    Akshat Verma       Saif Ali Khan   Isha Talwar  Shenaz Treasury  Saif Ali Khan Isha Talwar Shenaz Treasury Aksh...  Comedy Thriller Drama\n",
       "2         mukkabaaz  Anurag Kashyap  Vineet Kumar Singh  Zoya Hussain      Ravi Kishan  Vineet Kumar Singh Zoya Hussain Ravi Kishan An...                  Drama\n",
       "3        phir se...     Kunal Kohli     Jennifer Winget   Kunal Kohli      Rajit Kapur  Jennifer Winget Kunal Kohli Rajit Kapur Kunal ...           Comedy Drama\n",
       "4  my birthday song      Samir Soni         Sanjay Suri   Nora Fatehi         Pitobash        Sanjay Suri Nora Fatehi Pitobash Samir Soni               Thriller"
      ]
     },
     "execution_count": 185,
     "metadata": {},
     "output_type": "execute_result"
    }
   ],
   "source": [
    "movies_2018.head(5)"
   ]
  },
  {
   "cell_type": "code",
   "execution_count": 186,
   "metadata": {},
   "outputs": [
    {
     "data": {
      "text/plain": [
       "0"
      ]
     },
     "execution_count": 186,
     "metadata": {},
     "output_type": "execute_result"
    }
   ],
   "source": [
    "movies_2018.duplicated(subset='movie_title').sum()"
   ]
  },
  {
   "cell_type": "code",
   "execution_count": 187,
   "metadata": {},
   "outputs": [
    {
     "data": {
      "text/plain": [
       "movie_title      0\n",
       "director_name    0\n",
       "actor_1_name     0\n",
       "actor_2_name     0\n",
       "actor_3_name     0\n",
       "comb             0\n",
       "genres           2\n",
       "dtype: int64"
      ]
     },
     "execution_count": 187,
     "metadata": {},
     "output_type": "execute_result"
    }
   ],
   "source": [
    "movies_2018.isnull().sum()"
   ]
  },
  {
   "cell_type": "code",
   "execution_count": 188,
   "metadata": {},
   "outputs": [],
   "source": [
    "movies_2018.dropna(inplace=True)"
   ]
  },
  {
   "cell_type": "code",
   "execution_count": 189,
   "metadata": {},
   "outputs": [
    {
     "data": {
      "text/plain": [
       "movie_title      0\n",
       "director_name    0\n",
       "actor_1_name     0\n",
       "actor_2_name     0\n",
       "actor_3_name     0\n",
       "comb             0\n",
       "genres           0\n",
       "dtype: int64"
      ]
     },
     "execution_count": 189,
     "metadata": {},
     "output_type": "execute_result"
    }
   ],
   "source": [
    "movies_2018.isnull().sum()"
   ]
  },
  {
   "cell_type": "code",
   "execution_count": 190,
   "metadata": {},
   "outputs": [
    {
     "data": {
      "text/plain": [
       "63"
      ]
     },
     "execution_count": 190,
     "metadata": {},
     "output_type": "execute_result"
    }
   ],
   "source": [
    "len(movies_2018)"
   ]
  },
  {
   "cell_type": "code",
   "execution_count": 192,
   "metadata": {},
   "outputs": [],
   "source": [
    "movies_2018.to_csv(\"movies_2018_hindi.csv\",index=False)"
   ]
  },
  {
   "cell_type": "code",
   "execution_count": 193,
   "metadata": {},
   "outputs": [],
   "source": [
    "# URL of the Wikipedia page\n",
    "url_2017 = 'https://en.wikipedia.org/wiki/List_of_Hindi_films_of_2017'\n",
    "\n",
    "def fetch_html(url):\n",
    "    try:\n",
    "        response = session.get(url, timeout=20)\n",
    "        response.raise_for_status()  # Raise an exception for HTTP errors\n",
    "        return response.content\n",
    "    except Timeout:\n",
    "        print(f\"Request timed out for URL {url}.\")\n",
    "        return None\n",
    "    except ConnectionError as e:\n",
    "        print(f\"Connection error for URL {url}: {e}\")\n",
    "        return None\n",
    "    except RequestException as e:\n",
    "        print(f\"Request error fetching data from URL {url}: {e}\")\n",
    "        return None\n",
    "    except Exception as e:\n",
    "        print(f\"Unexpected error fetching data from URL {url}: {e}\")\n",
    "        return None\n",
    "\n",
    "# Fetch HTML content from the URL\n",
    "html_content_2017 = fetch_html(url_2017)\n",
    "\n",
    "# Read HTML data using pandas if content is fetched successfully\n",
    "if html_content_2017:\n",
    "    try:\n",
    "        # Reading multiple tables on the page\n",
    "        tables_2017 = pd.read_html(html_content_2017, header=0)\n",
    "        \n",
    "        # Extract specific tables\n",
    "        df1_2017 = tables_2017[2]\n",
    "        df2_2017 = tables_2017[3]\n",
    "        df3_2017 = tables_2017[4]\n",
    "        df4_2017 = tables_2017[5]\n",
    "        \n",
    "    except Exception as e:\n",
    "        print(f\"Error reading HTML content: {e}\")\n",
    "else:\n",
    "    print(\"Failed to fetch HTML content.\")\n"
   ]
  },
  {
   "cell_type": "code",
   "execution_count": 195,
   "metadata": {},
   "outputs": [],
   "source": [
    "movies_2017 = pd.concat([df1_2017,df2_2017,df3_2017,df4_2017],axis=0).reset_index()"
   ]
  },
  {
   "cell_type": "code",
   "execution_count": 198,
   "metadata": {},
   "outputs": [
    {
     "data": {
      "text/html": [
       "<div>\n",
       "<style scoped>\n",
       "    .dataframe tbody tr th:only-of-type {\n",
       "        vertical-align: middle;\n",
       "    }\n",
       "\n",
       "    .dataframe tbody tr th {\n",
       "        vertical-align: top;\n",
       "    }\n",
       "\n",
       "    .dataframe thead th {\n",
       "        text-align: right;\n",
       "    }\n",
       "</style>\n",
       "<table border=\"1\" class=\"dataframe\">\n",
       "  <thead>\n",
       "    <tr style=\"text-align: right;\">\n",
       "      <th></th>\n",
       "      <th>index</th>\n",
       "      <th>Opening</th>\n",
       "      <th>Opening.1</th>\n",
       "      <th>Title</th>\n",
       "      <th>Director</th>\n",
       "      <th>Cast</th>\n",
       "      <th>Production house</th>\n",
       "      <th>Ref.</th>\n",
       "    </tr>\n",
       "  </thead>\n",
       "  <tbody>\n",
       "    <tr>\n",
       "      <th>0</th>\n",
       "      <td>0</td>\n",
       "      <td>J A N</td>\n",
       "      <td>12</td>\n",
       "      <td>1921</td>\n",
       "      <td>Vikram Bhatt</td>\n",
       "      <td>Zareen Khan, Karan Kundra, Tobby Hinston, Soni...</td>\n",
       "      <td>Reliance Entertainment, LoneRanger Productions...</td>\n",
       "      <td>[15][16]</td>\n",
       "    </tr>\n",
       "    <tr>\n",
       "      <th>1</th>\n",
       "      <td>1</td>\n",
       "      <td>J A N</td>\n",
       "      <td>12</td>\n",
       "      <td>Kaalakaandi</td>\n",
       "      <td>Akshat Verma</td>\n",
       "      <td>Saif Ali Khan, Isha Talwar, Shenaz Treasury, A...</td>\n",
       "      <td>Cinestaan Film Company</td>\n",
       "      <td>[17][18]</td>\n",
       "    </tr>\n",
       "    <tr>\n",
       "      <th>2</th>\n",
       "      <td>2</td>\n",
       "      <td>J A N</td>\n",
       "      <td>12</td>\n",
       "      <td>Mukkabaaz</td>\n",
       "      <td>Anurag Kashyap</td>\n",
       "      <td>Vineet Kumar Singh, Zoya Hussain, Ravi Kishan,...</td>\n",
       "      <td>Eros International, Colour Yellow Productions</td>\n",
       "      <td>[19][20]</td>\n",
       "    </tr>\n",
       "    <tr>\n",
       "      <th>3</th>\n",
       "      <td>3</td>\n",
       "      <td>J A N</td>\n",
       "      <td>15</td>\n",
       "      <td>Phir Se...</td>\n",
       "      <td>Kunal Kohli</td>\n",
       "      <td>Jennifer Winget, Kunal Kohli, Rajit Kapur</td>\n",
       "      <td>Bombay Film Company</td>\n",
       "      <td>[21]</td>\n",
       "    </tr>\n",
       "    <tr>\n",
       "      <th>4</th>\n",
       "      <td>4</td>\n",
       "      <td>J A N</td>\n",
       "      <td>19</td>\n",
       "      <td>My Birthday Song</td>\n",
       "      <td>Samir Soni</td>\n",
       "      <td>Sanjay Suri, Nora Fatehi, Pitobash</td>\n",
       "      <td>Kahwa entertainment</td>\n",
       "      <td>[22][23]</td>\n",
       "    </tr>\n",
       "  </tbody>\n",
       "</table>\n",
       "</div>"
      ],
      "text/plain": [
       "   index Opening  Opening.1             Title        Director                                               Cast                                   Production house      Ref.\n",
       "0      0   J A N         12              1921    Vikram Bhatt  Zareen Khan, Karan Kundra, Tobby Hinston, Soni...  Reliance Entertainment, LoneRanger Productions...  [15][16]\n",
       "1      1   J A N         12       Kaalakaandi    Akshat Verma  Saif Ali Khan, Isha Talwar, Shenaz Treasury, A...                             Cinestaan Film Company  [17][18]\n",
       "2      2   J A N         12         Mukkabaaz  Anurag Kashyap  Vineet Kumar Singh, Zoya Hussain, Ravi Kishan,...      Eros International, Colour Yellow Productions  [19][20]\n",
       "3      3   J A N         15        Phir Se...     Kunal Kohli          Jennifer Winget, Kunal Kohli, Rajit Kapur                                Bombay Film Company      [21]\n",
       "4      4   J A N         19  My Birthday Song      Samir Soni                 Sanjay Suri, Nora Fatehi, Pitobash                                Kahwa entertainment  [22][23]"
      ]
     },
     "execution_count": 198,
     "metadata": {},
     "output_type": "execute_result"
    }
   ],
   "source": [
    "movies_2017.head()"
   ]
  },
  {
   "cell_type": "code",
   "execution_count": 200,
   "metadata": {},
   "outputs": [],
   "source": [
    "movies_2017 = movies_2017[['Title','Director','Cast']]"
   ]
  },
  {
   "cell_type": "code",
   "execution_count": 202,
   "metadata": {},
   "outputs": [
    {
     "data": {
      "text/html": [
       "<div>\n",
       "<style scoped>\n",
       "    .dataframe tbody tr th:only-of-type {\n",
       "        vertical-align: middle;\n",
       "    }\n",
       "\n",
       "    .dataframe tbody tr th {\n",
       "        vertical-align: top;\n",
       "    }\n",
       "\n",
       "    .dataframe thead th {\n",
       "        text-align: right;\n",
       "    }\n",
       "</style>\n",
       "<table border=\"1\" class=\"dataframe\">\n",
       "  <thead>\n",
       "    <tr style=\"text-align: right;\">\n",
       "      <th></th>\n",
       "      <th>Title</th>\n",
       "      <th>Director</th>\n",
       "      <th>Cast</th>\n",
       "    </tr>\n",
       "  </thead>\n",
       "  <tbody>\n",
       "    <tr>\n",
       "      <th>0</th>\n",
       "      <td>1921</td>\n",
       "      <td>Vikram Bhatt</td>\n",
       "      <td>Zareen Khan, Karan Kundra, Tobby Hinston, Soni...</td>\n",
       "    </tr>\n",
       "    <tr>\n",
       "      <th>1</th>\n",
       "      <td>Kaalakaandi</td>\n",
       "      <td>Akshat Verma</td>\n",
       "      <td>Saif Ali Khan, Isha Talwar, Shenaz Treasury, A...</td>\n",
       "    </tr>\n",
       "  </tbody>\n",
       "</table>\n",
       "</div>"
      ],
      "text/plain": [
       "         Title      Director                                               Cast\n",
       "0         1921  Vikram Bhatt  Zareen Khan, Karan Kundra, Tobby Hinston, Soni...\n",
       "1  Kaalakaandi  Akshat Verma  Saif Ali Khan, Isha Talwar, Shenaz Treasury, A..."
      ]
     },
     "execution_count": 202,
     "metadata": {},
     "output_type": "execute_result"
    }
   ],
   "source": [
    "movies_2017.head(2)"
   ]
  },
  {
   "cell_type": "code",
   "execution_count": 203,
   "metadata": {},
   "outputs": [
    {
     "name": "stderr",
     "output_type": "stream",
     "text": [
      "C:\\Users\\shekh\\AppData\\Local\\Temp\\ipykernel_14864\\3453103994.py:8: SettingWithCopyWarning: \n",
      "A value is trying to be set on a copy of a slice from a DataFrame.\n",
      "Try using .loc[row_indexer,col_indexer] = value instead\n",
      "\n",
      "See the caveats in the documentation: https://pandas.pydata.org/pandas-docs/stable/user_guide/indexing.html#returning-a-view-versus-a-copy\n",
      "  movies_2017['actor_1_name'] = movies_2017['Cast'].apply(lambda x:get(x))\n",
      "C:\\Users\\shekh\\AppData\\Local\\Temp\\ipykernel_14864\\3453103994.py:19: SettingWithCopyWarning: \n",
      "A value is trying to be set on a copy of a slice from a DataFrame.\n",
      "Try using .loc[row_indexer,col_indexer] = value instead\n",
      "\n",
      "See the caveats in the documentation: https://pandas.pydata.org/pandas-docs/stable/user_guide/indexing.html#returning-a-view-versus-a-copy\n",
      "  movies_2017['actor_2_name'] = movies_2017['Cast'].apply(lambda x:get2(x))\n",
      "C:\\Users\\shekh\\AppData\\Local\\Temp\\ipykernel_14864\\3453103994.py:30: SettingWithCopyWarning: \n",
      "A value is trying to be set on a copy of a slice from a DataFrame.\n",
      "Try using .loc[row_indexer,col_indexer] = value instead\n",
      "\n",
      "See the caveats in the documentation: https://pandas.pydata.org/pandas-docs/stable/user_guide/indexing.html#returning-a-view-versus-a-copy\n",
      "  movies_2017['actor_3_name'] = movies_2017['Cast'].apply(lambda x:get3(x))\n"
     ]
    }
   ],
   "source": [
    "\n",
    "\n",
    "def get(x):\n",
    "    if isinstance(x, str): \n",
    "        actor_list = x.split(\",\")\n",
    "        if actor_list[0]:\n",
    "            return actor_list[0].strip()  \n",
    "    return None\n",
    "\n",
    "movies_2017['actor_1_name'] = movies_2017['Cast'].apply(lambda x:get(x))\n",
    "\n",
    "def get2(x):\n",
    "    if isinstance(x, str): \n",
    "        actor_list = x.split(\",\")\n",
    "        if len(actor_list)>=2:\n",
    "            return actor_list[1].strip()\n",
    "        else:\n",
    "            return np.nan  \n",
    "    return np.nan\n",
    "\n",
    "movies_2017['actor_2_name'] = movies_2017['Cast'].apply(lambda x:get2(x))\n",
    "\n",
    "def get3(x):\n",
    "    if isinstance(x, str): \n",
    "        actor_list = x.split(\",\")\n",
    "        if len(actor_list)>=3:\n",
    "            return actor_list[2].strip()\n",
    "        else:\n",
    "            return np.nan  \n",
    "    return np.nan\n",
    "\n",
    "movies_2017['actor_3_name'] = movies_2017['Cast'].apply(lambda x:get3(x))"
   ]
  },
  {
   "cell_type": "code",
   "execution_count": 205,
   "metadata": {},
   "outputs": [],
   "source": [
    "movies_2017 = movies_2017.rename(columns={'Title':'movie_title',\"Director\":\"director_name\"})"
   ]
  },
  {
   "cell_type": "code",
   "execution_count": 207,
   "metadata": {},
   "outputs": [],
   "source": [
    "movies_2017.drop('Cast',inplace=True,axis=1)"
   ]
  },
  {
   "cell_type": "code",
   "execution_count": 209,
   "metadata": {},
   "outputs": [],
   "source": [
    "movies_2017['movie_title'] = movies_2017['movie_title'].str.lower()"
   ]
  },
  {
   "cell_type": "code",
   "execution_count": 211,
   "metadata": {},
   "outputs": [],
   "source": [
    "movies_2017['comb'] = movies_2017['actor_1_name']+\" \"+movies_2017['actor_2_name']+\" \"+movies_2017['actor_3_name']+\" \"+movies_2017['director_name']"
   ]
  },
  {
   "cell_type": "code",
   "execution_count": 213,
   "metadata": {},
   "outputs": [
    {
     "data": {
      "text/plain": [
       "0"
      ]
     },
     "execution_count": 213,
     "metadata": {},
     "output_type": "execute_result"
    }
   ],
   "source": [
    "movies_2017.duplicated(subset='movie_title').sum()"
   ]
  },
  {
   "cell_type": "code",
   "execution_count": 214,
   "metadata": {},
   "outputs": [
    {
     "data": {
      "text/plain": [
       "movie_title       1\n",
       "director_name     1\n",
       "actor_1_name      2\n",
       "actor_2_name      5\n",
       "actor_3_name     21\n",
       "comb             21\n",
       "dtype: int64"
      ]
     },
     "execution_count": 214,
     "metadata": {},
     "output_type": "execute_result"
    }
   ],
   "source": [
    "movies_2017.isnull().sum()"
   ]
  },
  {
   "cell_type": "code",
   "execution_count": 215,
   "metadata": {},
   "outputs": [
    {
     "data": {
      "text/plain": [
       "104"
      ]
     },
     "execution_count": 215,
     "metadata": {},
     "output_type": "execute_result"
    }
   ],
   "source": [
    "len(movies_2017)"
   ]
  },
  {
   "cell_type": "code",
   "execution_count": 216,
   "metadata": {},
   "outputs": [],
   "source": [
    "movies_2017.dropna(inplace=True)"
   ]
  },
  {
   "cell_type": "code",
   "execution_count": 225,
   "metadata": {},
   "outputs": [
    {
     "data": {
      "text/plain": [
       "movie_title      0\n",
       "director_name    0\n",
       "actor_1_name     0\n",
       "actor_2_name     0\n",
       "actor_3_name     0\n",
       "comb             0\n",
       "genres           0\n",
       "dtype: int64"
      ]
     },
     "execution_count": 225,
     "metadata": {},
     "output_type": "execute_result"
    }
   ],
   "source": [
    "movies_2017.isnull().sum()"
   ]
  },
  {
   "cell_type": "code",
   "execution_count": 218,
   "metadata": {},
   "outputs": [
    {
     "data": {
      "text/plain": [
       "83"
      ]
     },
     "execution_count": 218,
     "metadata": {},
     "output_type": "execute_result"
    }
   ],
   "source": [
    "len(movies_2017)"
   ]
  },
  {
   "cell_type": "code",
   "execution_count": 221,
   "metadata": {},
   "outputs": [],
   "source": [
    "movies_2017['genres'] = movies_2017['movie_title'].apply(lambda x:get_genres(x))"
   ]
  },
  {
   "cell_type": "code",
   "execution_count": 224,
   "metadata": {},
   "outputs": [],
   "source": [
    "movies_2017.dropna(inplace=True)"
   ]
  },
  {
   "cell_type": "code",
   "execution_count": 226,
   "metadata": {},
   "outputs": [],
   "source": [
    "movies_2017.to_csv(\"movies_2017_hindi.csv\",index=False)"
   ]
  },
  {
   "cell_type": "code",
   "execution_count": 229,
   "metadata": {},
   "outputs": [
    {
     "name": "stderr",
     "output_type": "stream",
     "text": [
      "C:\\Users\\shekh\\AppData\\Local\\Temp\\ipykernel_14864\\2911451016.py:8: DeprecationWarning: Using 'method_whitelist' with Retry is deprecated and will be removed in v2.0. Use 'allowed_methods' instead\n",
      "  retry_strategy = Retry(\n"
     ]
    }
   ],
   "source": [
    "import pandas as pd\n",
    "import requests\n",
    "from requests.adapters import HTTPAdapter\n",
    "from urllib3.util.retry import Retry\n",
    "from requests.exceptions import Timeout, RequestException, ConnectionError\n",
    "\n",
    "\n",
    "\n",
    "from functools import lru_cache\n",
    "\n",
    "from tmdbv3api import TMDb\n",
    "import json\n",
    "import requests\n",
    "tmdb = TMDb()\n",
    "tmdb.api_key = '6d8bfe0dbef34d25e64f64cabec93e20' \n",
    "\n",
    "from tmdbv3api import Movie\n",
    "\n",
    "tmdb_movie = Movie()\n",
    "\n",
    "\n",
    "# Using LRU cache to store results of previously fetched movie genres\n",
    "@lru_cache(maxsize=1000)\n",
    "def fetch_movie_genres(movie_id):\n",
    "    try:\n",
    "        response = requests.get(f'https://api.themoviedb.org/3/movie/{movie_id}?api_key={tmdb.api_key}')\n",
    "        if response.status_code != 200:\n",
    "            return np.nan\n",
    "        \n",
    "        data_json = response.json()\n",
    "        if 'genres' in data_json and data_json['genres']:\n",
    "            return \" \".join([genre['name'] for genre in data_json['genres']])\n",
    "        else:\n",
    "            return np.nan\n",
    "    except Exception as e:\n",
    "        print(f\"Error fetching genres for movie ID {movie_id}: {e}\")\n",
    "        return np.nan\n",
    "\n",
    "def get_genres(x):\n",
    "    try:\n",
    "        result = tmdb_movie.search(x)\n",
    "        if not result:\n",
    "            return np.nan\n",
    "        \n",
    "        movie_id = result[0].id\n",
    "        return fetch_movie_genres(movie_id)\n",
    "    except Exception as e:\n",
    "        print(f\"Error fetching genres for {x}: {e}\")\n",
    "        return np.nan\n",
    "\n",
    "\n",
    "\n",
    "# Setup retry strategy\n",
    "retry_strategy = Retry(\n",
    "    total=5,  # Total number of retries\n",
    "    backoff_factor=2,  # Exponential backoff factor\n",
    "    status_forcelist=[429, 500, 502, 503, 504],  # Retry on these HTTP status codes\n",
    "    method_whitelist=[\"HEAD\", \"GET\", \"OPTIONS\"]  # Retry only on these methods\n",
    ")\n",
    "\n",
    "# Create an HTTP adapter with the retry strategy\n",
    "adapter = HTTPAdapter(max_retries=retry_strategy)\n",
    "\n",
    "# Create a session and mount the adapter\n",
    "session = requests.Session()\n",
    "session.mount(\"https://\", adapter)\n",
    "session.mount(\"http://\", adapter)\n",
    "\n",
    "\n",
    "def get(x):\n",
    "    if isinstance(x, str): \n",
    "        actor_list = x.split(\",\")\n",
    "        if actor_list[0]:\n",
    "            return actor_list[0].strip()  \n",
    "    return None\n",
    "\n",
    "def get2(x):\n",
    "    if isinstance(x, str): \n",
    "        actor_list = x.split(\",\")\n",
    "        if len(actor_list)>=2:\n",
    "            return actor_list[1].strip()\n",
    "        else:\n",
    "            return np.nan  \n",
    "    return np.nan\n",
    "\n",
    "\n",
    "def get3(x):\n",
    "    if isinstance(x, str): \n",
    "        actor_list = x.split(\",\")\n",
    "        if len(actor_list)>=3:\n",
    "            return actor_list[2].strip()\n",
    "        else:\n",
    "            return np.nan  \n",
    "    return np.nan\n",
    "\n",
    "\n",
    "\n",
    "def fetch_html(url):\n",
    "    try:\n",
    "        response = session.get(url, timeout=20)\n",
    "        response.raise_for_status()  # Raise an exception for HTTP errors\n",
    "        return response.content\n",
    "    except Timeout:\n",
    "        print(f\"Request timed out for URL {url}.\")\n",
    "        return None\n",
    "    except ConnectionError as e:\n",
    "        print(f\"Connection error for URL {url}: {e}\")\n",
    "        return None\n",
    "    except RequestException as e:\n",
    "        print(f\"Request error fetching data from URL {url}: {e}\")\n",
    "        return None\n",
    "    except Exception as e:\n",
    "        print(f\"Unexpected error fetching data from URL {url}: {e}\")\n",
    "        return None\n",
    "\n",
    "\n",
    "def create_df(url):\n",
    "    # Fetch HTML content from the URL\n",
    "    html_content = fetch_html(url)\n",
    "\n",
    "    # Read HTML data using pandas if content is fetched successfully\n",
    "    if html_content:\n",
    "        try:\n",
    "            # Reading multiple tables on the page\n",
    "            tables = pd.read_html(html_content, header=0)\n",
    "        \n",
    "            # Extract specific tables\n",
    "            df1 = tables[2]\n",
    "            df2 = tables[3]\n",
    "            df3 = tables[4]\n",
    "            df4 = tables[5]\n",
    "        \n",
    "        except Exception as e:\n",
    "            print(f\"Error reading HTML content: {e}\")\n",
    "    else:\n",
    "        print(\"Failed to fetch HTML content.\")\n",
    "    \n",
    "    movies = pd.concat([df1,df2,df3,df4],axis=0).reset_index()\n",
    "\n",
    "    movies = movies[['Title','Director','Cast']]\n",
    "    movies['actor_1_name'] = movies['Cast'].apply(lambda x:get(x))\n",
    "    movies['actor_2_name'] = movies['Cast'].apply(lambda x:get2(x))\n",
    "    movies['actor_3_name'] = movies['Cast'].apply(lambda x:get3(x))\n",
    "    movies = movies.rename(columns={'Title':'movie_title',\"Director\":\"director_name\"})\n",
    "\n",
    "    movies.drop('Cast',inplace=True,axis=1)\n",
    "    movies['movie_title'] = movies['movie_title'].str.lower()\n",
    "\n",
    "    movies['comb'] = movies['actor_1_name']+\" \"+movies['actor_2_name']+\" \"+movies['actor_3_name']+\" \"+movies['director_name']\n",
    "    \n",
    "    movies['genres'] = movies['movie_title'].apply(lambda x:get_genres(x))\n",
    "\n",
    "    return movies"
   ]
  },
  {
   "cell_type": "code",
   "execution_count": 230,
   "metadata": {},
   "outputs": [
    {
     "name": "stdout",
     "output_type": "stream",
     "text": [
      "Error fetching genres for poorna: courage has no limit: attribute name must be string, not 'int'\n",
      "Error fetching genres for romeo-n-bullet: attribute name must be string, not 'int'\n",
      "Error fetching genres for ek thi rani aisi bhi: attribute name must be string, not 'int'\n",
      "Error fetching genres for ajab singh ki gajab kahani: attribute name must be string, not 'int'\n",
      "Error fetching genres for chakallaspur: attribute name must be string, not 'int'\n",
      "Error fetching genres for nan: quote_from_bytes() expected bytes\n",
      "Error fetching genres for main terrorist nahi hoon: attribute name must be string, not 'int'\n",
      "Error fetching genres for saankal: attribute name must be string, not 'int'\n"
     ]
    }
   ],
   "source": [
    "data_2017_movies = create_df(\"https://en.wikipedia.org/wiki/List_of_Hindi_films_of_2017\")\n",
    "data_2018_movies = create_df('https://en.wikipedia.org/wiki/List_of_Hindi_films_of_2018')\n",
    "data_2019_movies = create_df(\"https://en.wikipedia.org/wiki/List_of_Hindi_films_of_2019\")\n",
    "data_2020_movies = create_df('https://en.wikipedia.org/wiki/List_of_Hindi_films_of_2020')\n",
    "data_2021_movies = create_df(\"https://en.wikipedia.org/wiki/List_of_Hindi_films_of_2021\")\n",
    "data_2022_movies = create_df('https://en.wikipedia.org/wiki/List_of_Hindi_films_of_2022')\n",
    "data_2023_movies = create_df(\"https://en.wikipedia.org/wiki/List_of_Hindi_films_of_2023\")\n",
    "data_2024_movies = create_df('https://en.wikipedia.org/wiki/List_of_Hindi_films_of_2024')\n"
   ]
  },
  {
   "cell_type": "code",
   "execution_count": 232,
   "metadata": {},
   "outputs": [
    {
     "data": {
      "text/plain": [
       "0"
      ]
     },
     "execution_count": 232,
     "metadata": {},
     "output_type": "execute_result"
    }
   ],
   "source": [
    "data_2017_movies.duplicated().sum()"
   ]
  },
  {
   "cell_type": "code",
   "execution_count": 233,
   "metadata": {},
   "outputs": [
    {
     "data": {
      "text/plain": [
       "movie_title       1\n",
       "director_name     1\n",
       "actor_1_name      1\n",
       "actor_2_name     18\n",
       "actor_3_name     58\n",
       "comb             58\n",
       "genres           16\n",
       "dtype: int64"
      ]
     },
     "execution_count": 233,
     "metadata": {},
     "output_type": "execute_result"
    }
   ],
   "source": [
    "data_2017_movies.isnull().sum()"
   ]
  },
  {
   "cell_type": "code",
   "execution_count": 234,
   "metadata": {},
   "outputs": [
    {
     "data": {
      "text/plain": [
       "127"
      ]
     },
     "execution_count": 234,
     "metadata": {},
     "output_type": "execute_result"
    }
   ],
   "source": [
    "len(data_2017_movies)"
   ]
  },
  {
   "cell_type": "code",
   "execution_count": null,
   "metadata": {},
   "outputs": [],
   "source": []
  }
 ],
 "metadata": {
  "kernelspec": {
   "display_name": "Python 3",
   "language": "python",
   "name": "python3"
  },
  "language_info": {
   "codemirror_mode": {
    "name": "ipython",
    "version": 3
   },
   "file_extension": ".py",
   "mimetype": "text/x-python",
   "name": "python",
   "nbconvert_exporter": "python",
   "pygments_lexer": "ipython3",
   "version": "3.11.4"
  }
 },
 "nbformat": 4,
 "nbformat_minor": 2
}
