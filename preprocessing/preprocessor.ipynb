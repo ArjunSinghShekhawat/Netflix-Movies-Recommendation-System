{
 "cells": [
  {
   "cell_type": "code",
   "execution_count": 1,
   "metadata": {},
   "outputs": [],
   "source": [
    "import pandas as pd\n",
    "import numpy as np\n",
    "import matplotlib.pyplot as plt\n",
    "import warnings\n",
    "warnings.filterwarnings('ignore')\n",
    "from sklearn.feature_extraction.text import CountVectorizer"
   ]
  },
  {
   "cell_type": "code",
   "execution_count": 2,
   "metadata": {},
   "outputs": [],
   "source": [
    "data = pd.read_csv(r\"D:\\Netflix-Recommender-System-and-Deployment-main\\main_data.csv\")"
   ]
  },
  {
   "cell_type": "code",
   "execution_count": 3,
   "metadata": {},
   "outputs": [],
   "source": [
    "data = data.drop('Unnamed: 0',axis=1)"
   ]
  },
  {
   "cell_type": "code",
   "execution_count": 4,
   "metadata": {},
   "outputs": [
    {
     "data": {
      "text/html": [
       "<div>\n",
       "<style scoped>\n",
       "    .dataframe tbody tr th:only-of-type {\n",
       "        vertical-align: middle;\n",
       "    }\n",
       "\n",
       "    .dataframe tbody tr th {\n",
       "        vertical-align: top;\n",
       "    }\n",
       "\n",
       "    .dataframe thead th {\n",
       "        text-align: right;\n",
       "    }\n",
       "</style>\n",
       "<table border=\"1\" class=\"dataframe\">\n",
       "  <thead>\n",
       "    <tr style=\"text-align: right;\">\n",
       "      <th></th>\n",
       "      <th>director_name</th>\n",
       "      <th>actor_1_name</th>\n",
       "      <th>actor_2_name</th>\n",
       "      <th>actor_3_name</th>\n",
       "      <th>genres</th>\n",
       "      <th>movie_title</th>\n",
       "      <th>comb</th>\n",
       "    </tr>\n",
       "  </thead>\n",
       "  <tbody>\n",
       "    <tr>\n",
       "      <th>0</th>\n",
       "      <td>James Cameron</td>\n",
       "      <td>CCH Pounder</td>\n",
       "      <td>Joel David Moore</td>\n",
       "      <td>Wes Studi</td>\n",
       "      <td>Action Adventure Fantasy Sci-Fi</td>\n",
       "      <td>avatar</td>\n",
       "      <td>CCH Pounder Joel David Moore Wes Studi James C...</td>\n",
       "    </tr>\n",
       "    <tr>\n",
       "      <th>1</th>\n",
       "      <td>Gore Verbinski</td>\n",
       "      <td>Johnny Depp</td>\n",
       "      <td>Orlando Bloom</td>\n",
       "      <td>Jack Davenport</td>\n",
       "      <td>Action Adventure Fantasy</td>\n",
       "      <td>pirates of the caribbean: at world's end</td>\n",
       "      <td>Johnny Depp Orlando Bloom Jack Davenport Gore ...</td>\n",
       "    </tr>\n",
       "    <tr>\n",
       "      <th>2</th>\n",
       "      <td>Sam Mendes</td>\n",
       "      <td>Christoph Waltz</td>\n",
       "      <td>Rory Kinnear</td>\n",
       "      <td>Stephanie Sigman</td>\n",
       "      <td>Action Adventure Thriller</td>\n",
       "      <td>spectre</td>\n",
       "      <td>Christoph Waltz Rory Kinnear Stephanie Sigman ...</td>\n",
       "    </tr>\n",
       "    <tr>\n",
       "      <th>3</th>\n",
       "      <td>Christopher Nolan</td>\n",
       "      <td>Tom Hardy</td>\n",
       "      <td>Christian Bale</td>\n",
       "      <td>Joseph Gordon-Levitt</td>\n",
       "      <td>Action Thriller</td>\n",
       "      <td>the dark knight rises</td>\n",
       "      <td>Tom Hardy Christian Bale Joseph Gordon-Levitt ...</td>\n",
       "    </tr>\n",
       "    <tr>\n",
       "      <th>4</th>\n",
       "      <td>Andrew Stanton</td>\n",
       "      <td>Daryl Sabara</td>\n",
       "      <td>Samantha Morton</td>\n",
       "      <td>Polly Walker</td>\n",
       "      <td>Action Adventure Sci-Fi</td>\n",
       "      <td>john carter</td>\n",
       "      <td>Daryl Sabara Samantha Morton Polly Walker Andr...</td>\n",
       "    </tr>\n",
       "    <tr>\n",
       "      <th>...</th>\n",
       "      <td>...</td>\n",
       "      <td>...</td>\n",
       "      <td>...</td>\n",
       "      <td>...</td>\n",
       "      <td>...</td>\n",
       "      <td>...</td>\n",
       "      <td>...</td>\n",
       "    </tr>\n",
       "    <tr>\n",
       "      <th>7606</th>\n",
       "      <td>Christopher Landon</td>\n",
       "      <td>Meghann Fahy</td>\n",
       "      <td>Brandon Sklenar</td>\n",
       "      <td>Jeffery Self</td>\n",
       "      <td>Horror Thriller</td>\n",
       "      <td>the black phone 2</td>\n",
       "      <td>Meghann Fahy Brandon Sklenar Jeffery Self Chri...</td>\n",
       "    </tr>\n",
       "    <tr>\n",
       "      <th>7607</th>\n",
       "      <td>Simon McQuoid</td>\n",
       "      <td>Lewis Tan</td>\n",
       "      <td>Karl Urban</td>\n",
       "      <td>Jessica McNamee</td>\n",
       "      <td>Action Fantasy Adventure</td>\n",
       "      <td>mortal kombat 2</td>\n",
       "      <td>Lewis Tan Karl Urban Jessica McNamee Simon McQ...</td>\n",
       "    </tr>\n",
       "    <tr>\n",
       "      <th>7608</th>\n",
       "      <td>Jon M. Chu</td>\n",
       "      <td>Cynthia Erivo</td>\n",
       "      <td>Ariana Grande</td>\n",
       "      <td>Michelle Yeoh</td>\n",
       "      <td>Drama Fantasy Music</td>\n",
       "      <td>wicked part two</td>\n",
       "      <td>Cynthia Erivo Ariana Grande Michelle Yeoh Jon ...</td>\n",
       "    </tr>\n",
       "    <tr>\n",
       "      <th>7609</th>\n",
       "      <td>James Cameron</td>\n",
       "      <td>Sam Worthington</td>\n",
       "      <td>Zoe Saldana</td>\n",
       "      <td>Sigourney Weaver</td>\n",
       "      <td>Science Fiction Adventure Fantasy</td>\n",
       "      <td>avatar 3</td>\n",
       "      <td>Sam Worthington Zoe Saldana Sigourney Weaver J...</td>\n",
       "    </tr>\n",
       "    <tr>\n",
       "      <th>7610</th>\n",
       "      <td>Derek Drymon</td>\n",
       "      <td>Tom Kenny</td>\n",
       "      <td>Bill Fagerbakke</td>\n",
       "      <td>Clancy Brown</td>\n",
       "      <td>Comedy Animation</td>\n",
       "      <td>the spongebob movie: search for squarepants</td>\n",
       "      <td>Tom Kenny Bill Fagerbakke Clancy Brown Derek D...</td>\n",
       "    </tr>\n",
       "  </tbody>\n",
       "</table>\n",
       "<p>7611 rows × 7 columns</p>\n",
       "</div>"
      ],
      "text/plain": [
       "           director_name     actor_1_name      actor_2_name  \\\n",
       "0          James Cameron      CCH Pounder  Joel David Moore   \n",
       "1         Gore Verbinski      Johnny Depp     Orlando Bloom   \n",
       "2             Sam Mendes  Christoph Waltz      Rory Kinnear   \n",
       "3      Christopher Nolan        Tom Hardy    Christian Bale   \n",
       "4         Andrew Stanton     Daryl Sabara   Samantha Morton   \n",
       "...                  ...              ...               ...   \n",
       "7606  Christopher Landon     Meghann Fahy   Brandon Sklenar   \n",
       "7607       Simon McQuoid        Lewis Tan        Karl Urban   \n",
       "7608          Jon M. Chu    Cynthia Erivo     Ariana Grande   \n",
       "7609       James Cameron  Sam Worthington       Zoe Saldana   \n",
       "7610        Derek Drymon        Tom Kenny   Bill Fagerbakke   \n",
       "\n",
       "              actor_3_name                             genres  \\\n",
       "0                Wes Studi    Action Adventure Fantasy Sci-Fi   \n",
       "1           Jack Davenport           Action Adventure Fantasy   \n",
       "2         Stephanie Sigman          Action Adventure Thriller   \n",
       "3     Joseph Gordon-Levitt                    Action Thriller   \n",
       "4             Polly Walker            Action Adventure Sci-Fi   \n",
       "...                    ...                                ...   \n",
       "7606          Jeffery Self                    Horror Thriller   \n",
       "7607       Jessica McNamee           Action Fantasy Adventure   \n",
       "7608         Michelle Yeoh                Drama Fantasy Music   \n",
       "7609      Sigourney Weaver  Science Fiction Adventure Fantasy   \n",
       "7610          Clancy Brown                   Comedy Animation   \n",
       "\n",
       "                                      movie_title  \\\n",
       "0                                          avatar   \n",
       "1        pirates of the caribbean: at world's end   \n",
       "2                                         spectre   \n",
       "3                           the dark knight rises   \n",
       "4                                     john carter   \n",
       "...                                           ...   \n",
       "7606                            the black phone 2   \n",
       "7607                              mortal kombat 2   \n",
       "7608                              wicked part two   \n",
       "7609                                     avatar 3   \n",
       "7610  the spongebob movie: search for squarepants   \n",
       "\n",
       "                                                   comb  \n",
       "0     CCH Pounder Joel David Moore Wes Studi James C...  \n",
       "1     Johnny Depp Orlando Bloom Jack Davenport Gore ...  \n",
       "2     Christoph Waltz Rory Kinnear Stephanie Sigman ...  \n",
       "3     Tom Hardy Christian Bale Joseph Gordon-Levitt ...  \n",
       "4     Daryl Sabara Samantha Morton Polly Walker Andr...  \n",
       "...                                                 ...  \n",
       "7606  Meghann Fahy Brandon Sklenar Jeffery Self Chri...  \n",
       "7607  Lewis Tan Karl Urban Jessica McNamee Simon McQ...  \n",
       "7608  Cynthia Erivo Ariana Grande Michelle Yeoh Jon ...  \n",
       "7609  Sam Worthington Zoe Saldana Sigourney Weaver J...  \n",
       "7610  Tom Kenny Bill Fagerbakke Clancy Brown Derek D...  \n",
       "\n",
       "[7611 rows x 7 columns]"
      ]
     },
     "execution_count": 4,
     "metadata": {},
     "output_type": "execute_result"
    }
   ],
   "source": [
    "data"
   ]
  },
  {
   "cell_type": "code",
   "execution_count": 5,
   "metadata": {},
   "outputs": [],
   "source": [
    "vector = CountVectorizer()"
   ]
  },
  {
   "cell_type": "code",
   "execution_count": 6,
   "metadata": {},
   "outputs": [],
   "source": [
    "matrix = vector.fit_transform(data['comb'])"
   ]
  },
  {
   "cell_type": "code",
   "execution_count": 7,
   "metadata": {},
   "outputs": [],
   "source": [
    "from sklearn.metrics.pairwise import cosine_similarity"
   ]
  },
  {
   "cell_type": "code",
   "execution_count": 8,
   "metadata": {},
   "outputs": [],
   "source": [
    "similarity = cosine_similarity(matrix)"
   ]
  },
  {
   "cell_type": "code",
   "execution_count": 21,
   "metadata": {},
   "outputs": [],
   "source": [
    "index = data.loc[data['movie_title']=='lage raho munna bhai'].index[0]"
   ]
  },
  {
   "cell_type": "code",
   "execution_count": 22,
   "metadata": {},
   "outputs": [
    {
     "data": {
      "text/plain": [
       "3946"
      ]
     },
     "execution_count": 22,
     "metadata": {},
     "output_type": "execute_result"
    }
   ],
   "source": [
    "index"
   ]
  },
  {
   "cell_type": "code",
   "execution_count": 23,
   "metadata": {},
   "outputs": [],
   "source": [
    "_list = sorted(list(enumerate(similarity[index])),key=lambda x:x[1],reverse=True)"
   ]
  },
  {
   "cell_type": "code",
   "execution_count": 24,
   "metadata": {},
   "outputs": [],
   "source": [
    "_list = _list[1:11]"
   ]
  },
  {
   "cell_type": "code",
   "execution_count": 13,
   "metadata": {},
   "outputs": [
    {
     "data": {
      "text/plain": [
       "'shark night 3d'"
      ]
     },
     "execution_count": 13,
     "metadata": {},
     "output_type": "execute_result"
    }
   ],
   "source": [
    "data['movie_title'][1849]"
   ]
  },
  {
   "cell_type": "code",
   "execution_count": 25,
   "metadata": {},
   "outputs": [],
   "source": [
    "l = []\n",
    "\n",
    "for i in range(len(_list)):\n",
    "    a = _list[i][0]\n",
    "    l.append(data['movie_title'][a])\n"
   ]
  },
  {
   "cell_type": "code",
   "execution_count": 26,
   "metadata": {},
   "outputs": [
    {
     "data": {
      "text/plain": [
       "['saheb, biwi aur gangster 3',\n",
       " 'paa',\n",
       " 'toolsidas junior',\n",
       " 'fugly',\n",
       " 'sp chauhan',\n",
       " 'mission mangal',\n",
       " 'prassthanam',\n",
       " 'panipat',\n",
       " 'shakuntala devi',\n",
       " 'torbaaz']"
      ]
     },
     "execution_count": 26,
     "metadata": {},
     "output_type": "execute_result"
    }
   ],
   "source": [
    "l"
   ]
  },
  {
   "cell_type": "code",
   "execution_count": 55,
   "metadata": {},
   "outputs": [
    {
     "data": {
      "text/html": [
       "<div>\n",
       "<style scoped>\n",
       "    .dataframe tbody tr th:only-of-type {\n",
       "        vertical-align: middle;\n",
       "    }\n",
       "\n",
       "    .dataframe tbody tr th {\n",
       "        vertical-align: top;\n",
       "    }\n",
       "\n",
       "    .dataframe thead th {\n",
       "        text-align: right;\n",
       "    }\n",
       "</style>\n",
       "<table border=\"1\" class=\"dataframe\">\n",
       "  <thead>\n",
       "    <tr style=\"text-align: right;\">\n",
       "      <th></th>\n",
       "      <th>director_name</th>\n",
       "      <th>actor_1_name</th>\n",
       "      <th>actor_2_name</th>\n",
       "      <th>actor_3_name</th>\n",
       "      <th>genres</th>\n",
       "      <th>movie_title</th>\n",
       "      <th>comb</th>\n",
       "    </tr>\n",
       "  </thead>\n",
       "  <tbody>\n",
       "    <tr>\n",
       "      <th>0</th>\n",
       "      <td>James Cameron</td>\n",
       "      <td>CCH Pounder</td>\n",
       "      <td>Joel David Moore</td>\n",
       "      <td>Wes Studi</td>\n",
       "      <td>Action Adventure Fantasy Sci-Fi</td>\n",
       "      <td>avatar</td>\n",
       "      <td>CCH Pounder Joel David Moore Wes Studi James C...</td>\n",
       "    </tr>\n",
       "    <tr>\n",
       "      <th>1</th>\n",
       "      <td>Gore Verbinski</td>\n",
       "      <td>Johnny Depp</td>\n",
       "      <td>Orlando Bloom</td>\n",
       "      <td>Jack Davenport</td>\n",
       "      <td>Action Adventure Fantasy</td>\n",
       "      <td>pirates of the caribbean: at world's end</td>\n",
       "      <td>Johnny Depp Orlando Bloom Jack Davenport Gore ...</td>\n",
       "    </tr>\n",
       "    <tr>\n",
       "      <th>2</th>\n",
       "      <td>Sam Mendes</td>\n",
       "      <td>Christoph Waltz</td>\n",
       "      <td>Rory Kinnear</td>\n",
       "      <td>Stephanie Sigman</td>\n",
       "      <td>Action Adventure Thriller</td>\n",
       "      <td>spectre</td>\n",
       "      <td>Christoph Waltz Rory Kinnear Stephanie Sigman ...</td>\n",
       "    </tr>\n",
       "    <tr>\n",
       "      <th>3</th>\n",
       "      <td>Christopher Nolan</td>\n",
       "      <td>Tom Hardy</td>\n",
       "      <td>Christian Bale</td>\n",
       "      <td>Joseph Gordon-Levitt</td>\n",
       "      <td>Action Thriller</td>\n",
       "      <td>the dark knight rises</td>\n",
       "      <td>Tom Hardy Christian Bale Joseph Gordon-Levitt ...</td>\n",
       "    </tr>\n",
       "    <tr>\n",
       "      <th>4</th>\n",
       "      <td>Andrew Stanton</td>\n",
       "      <td>Daryl Sabara</td>\n",
       "      <td>Samantha Morton</td>\n",
       "      <td>Polly Walker</td>\n",
       "      <td>Action Adventure Sci-Fi</td>\n",
       "      <td>john carter</td>\n",
       "      <td>Daryl Sabara Samantha Morton Polly Walker Andr...</td>\n",
       "    </tr>\n",
       "    <tr>\n",
       "      <th>...</th>\n",
       "      <td>...</td>\n",
       "      <td>...</td>\n",
       "      <td>...</td>\n",
       "      <td>...</td>\n",
       "      <td>...</td>\n",
       "      <td>...</td>\n",
       "      <td>...</td>\n",
       "    </tr>\n",
       "    <tr>\n",
       "      <th>7606</th>\n",
       "      <td>Christopher Landon</td>\n",
       "      <td>Meghann Fahy</td>\n",
       "      <td>Brandon Sklenar</td>\n",
       "      <td>Jeffery Self</td>\n",
       "      <td>Horror Thriller</td>\n",
       "      <td>the black phone 2</td>\n",
       "      <td>Meghann Fahy Brandon Sklenar Jeffery Self Chri...</td>\n",
       "    </tr>\n",
       "    <tr>\n",
       "      <th>7607</th>\n",
       "      <td>Simon McQuoid</td>\n",
       "      <td>Lewis Tan</td>\n",
       "      <td>Karl Urban</td>\n",
       "      <td>Jessica McNamee</td>\n",
       "      <td>Action Fantasy Adventure</td>\n",
       "      <td>mortal kombat 2</td>\n",
       "      <td>Lewis Tan Karl Urban Jessica McNamee Simon McQ...</td>\n",
       "    </tr>\n",
       "    <tr>\n",
       "      <th>7608</th>\n",
       "      <td>Jon M. Chu</td>\n",
       "      <td>Cynthia Erivo</td>\n",
       "      <td>Ariana Grande</td>\n",
       "      <td>Michelle Yeoh</td>\n",
       "      <td>Drama Fantasy Music</td>\n",
       "      <td>wicked part two</td>\n",
       "      <td>Cynthia Erivo Ariana Grande Michelle Yeoh Jon ...</td>\n",
       "    </tr>\n",
       "    <tr>\n",
       "      <th>7609</th>\n",
       "      <td>James Cameron</td>\n",
       "      <td>Sam Worthington</td>\n",
       "      <td>Zoe Saldana</td>\n",
       "      <td>Sigourney Weaver</td>\n",
       "      <td>Science Fiction Adventure Fantasy</td>\n",
       "      <td>avatar 3</td>\n",
       "      <td>Sam Worthington Zoe Saldana Sigourney Weaver J...</td>\n",
       "    </tr>\n",
       "    <tr>\n",
       "      <th>7610</th>\n",
       "      <td>Derek Drymon</td>\n",
       "      <td>Tom Kenny</td>\n",
       "      <td>Bill Fagerbakke</td>\n",
       "      <td>Clancy Brown</td>\n",
       "      <td>Comedy Animation</td>\n",
       "      <td>the spongebob movie: search for squarepants</td>\n",
       "      <td>Tom Kenny Bill Fagerbakke Clancy Brown Derek D...</td>\n",
       "    </tr>\n",
       "  </tbody>\n",
       "</table>\n",
       "<p>7611 rows × 7 columns</p>\n",
       "</div>"
      ],
      "text/plain": [
       "           director_name     actor_1_name      actor_2_name  \\\n",
       "0          James Cameron      CCH Pounder  Joel David Moore   \n",
       "1         Gore Verbinski      Johnny Depp     Orlando Bloom   \n",
       "2             Sam Mendes  Christoph Waltz      Rory Kinnear   \n",
       "3      Christopher Nolan        Tom Hardy    Christian Bale   \n",
       "4         Andrew Stanton     Daryl Sabara   Samantha Morton   \n",
       "...                  ...              ...               ...   \n",
       "7606  Christopher Landon     Meghann Fahy   Brandon Sklenar   \n",
       "7607       Simon McQuoid        Lewis Tan        Karl Urban   \n",
       "7608          Jon M. Chu    Cynthia Erivo     Ariana Grande   \n",
       "7609       James Cameron  Sam Worthington       Zoe Saldana   \n",
       "7610        Derek Drymon        Tom Kenny   Bill Fagerbakke   \n",
       "\n",
       "              actor_3_name                             genres  \\\n",
       "0                Wes Studi    Action Adventure Fantasy Sci-Fi   \n",
       "1           Jack Davenport           Action Adventure Fantasy   \n",
       "2         Stephanie Sigman          Action Adventure Thriller   \n",
       "3     Joseph Gordon-Levitt                    Action Thriller   \n",
       "4             Polly Walker            Action Adventure Sci-Fi   \n",
       "...                    ...                                ...   \n",
       "7606          Jeffery Self                    Horror Thriller   \n",
       "7607       Jessica McNamee           Action Fantasy Adventure   \n",
       "7608         Michelle Yeoh                Drama Fantasy Music   \n",
       "7609      Sigourney Weaver  Science Fiction Adventure Fantasy   \n",
       "7610          Clancy Brown                   Comedy Animation   \n",
       "\n",
       "                                      movie_title  \\\n",
       "0                                          avatar   \n",
       "1        pirates of the caribbean: at world's end   \n",
       "2                                         spectre   \n",
       "3                           the dark knight rises   \n",
       "4                                     john carter   \n",
       "...                                           ...   \n",
       "7606                            the black phone 2   \n",
       "7607                              mortal kombat 2   \n",
       "7608                              wicked part two   \n",
       "7609                                     avatar 3   \n",
       "7610  the spongebob movie: search for squarepants   \n",
       "\n",
       "                                                   comb  \n",
       "0     CCH Pounder Joel David Moore Wes Studi James C...  \n",
       "1     Johnny Depp Orlando Bloom Jack Davenport Gore ...  \n",
       "2     Christoph Waltz Rory Kinnear Stephanie Sigman ...  \n",
       "3     Tom Hardy Christian Bale Joseph Gordon-Levitt ...  \n",
       "4     Daryl Sabara Samantha Morton Polly Walker Andr...  \n",
       "...                                                 ...  \n",
       "7606  Meghann Fahy Brandon Sklenar Jeffery Self Chri...  \n",
       "7607  Lewis Tan Karl Urban Jessica McNamee Simon McQ...  \n",
       "7608  Cynthia Erivo Ariana Grande Michelle Yeoh Jon ...  \n",
       "7609  Sam Worthington Zoe Saldana Sigourney Weaver J...  \n",
       "7610  Tom Kenny Bill Fagerbakke Clancy Brown Derek D...  \n",
       "\n",
       "[7611 rows x 7 columns]"
      ]
     },
     "execution_count": 55,
     "metadata": {},
     "output_type": "execute_result"
    }
   ],
   "source": [
    "data"
   ]
  },
  {
   "cell_type": "code",
   "execution_count": 37,
   "metadata": {},
   "outputs": [],
   "source": [
    "\n",
    "import pickle\n",
    "\n",
    "\n",
    "def create_similarity():\n",
    "    data = pd.read_csv(r\"D:\\Netflix-Recommender-System-and-Deployment-main\\main_data.csv\")\n",
    "    # creating a count matrix\n",
    "    cv = CountVectorizer()\n",
    "    count_matrix = cv.fit_transform(data['comb'])\n",
    "    # creating a similarity score matrix\n",
    "    similarity = cosine_similarity(count_matrix)\n",
    "    return data,similarity\n",
    "\n",
    "def rcmd(m):\n",
    "    m = m.lower()\n",
    "    try:\n",
    "        data.head()\n",
    "        similarity.shape\n",
    "    except:\n",
    "        data, similarity = create_similarity()\n",
    "    if m not in data['movie_title'].unique():\n",
    "        return('Sorry! try another movie name')\n",
    "    else:\n",
    "        i = data.loc[data['movie_title']==m].index[0]\n",
    "        lst = list(enumerate(similarity[i]))\n",
    "        lst = sorted(lst, key = lambda x:x[1] ,reverse=True)\n",
    "        lst = lst[1:11] # excluding first item since it is the requested movie itself\n",
    "        l = []\n",
    "        for i in range(len(lst)):\n",
    "            a = lst[i][0]\n",
    "            l.append(data['movie_title'][a])\n",
    "        return l\n",
    "    "
   ]
  },
  {
   "cell_type": "code",
   "execution_count": 38,
   "metadata": {},
   "outputs": [
    {
     "data": {
      "text/plain": [
       "['saheb, biwi aur gangster 3',\n",
       " 'paa',\n",
       " 'toolsidas junior',\n",
       " 'fugly',\n",
       " 'sp chauhan',\n",
       " 'mission mangal',\n",
       " 'prassthanam',\n",
       " 'panipat',\n",
       " 'shakuntala devi',\n",
       " 'torbaaz']"
      ]
     },
     "execution_count": 38,
     "metadata": {},
     "output_type": "execute_result"
    }
   ],
   "source": [
    "rcmd(\"Lage raho munna bhai\")"
   ]
  },
  {
   "cell_type": "code",
   "execution_count": 44,
   "metadata": {},
   "outputs": [],
   "source": [
    "import requests\n",
    "import pandas as pd\n",
    "from sklearn.feature_extraction.text import CountVectorizer\n",
    "from sklearn.metrics.pairwise import cosine_similarity\n",
    "\n",
    "def create_similarity():\n",
    "    data = pd.read_csv(r\"D:\\Netflix-Recommender-System-and-Deployment-main\\main_data.csv\")\n",
    "    cv = CountVectorizer()\n",
    "    count_matrix = cv.fit_transform(data['comb'])\n",
    "    similarity = cosine_similarity(count_matrix)\n",
    "    return data, similarity\n",
    "\n",
    "def fetch_poster(movie_title):\n",
    "    api_key = '6d8bfe0dbef34d25e64f64cabec93e20'\n",
    "    url = f'https://api.themoviedb.org/3/search/movie?api_key={api_key}&query={movie_title}'\n",
    "    response = requests.get(url)\n",
    "    data = response.json()\n",
    "    if data['results']:\n",
    "        poster_path = data['results'][0]['poster_path']\n",
    "        full_path = f'https://image.tmdb.org/t/p/w500{poster_path}'\n",
    "        return full_path\n",
    "    return None\n",
    "\n",
    "def rcmd(m):\n",
    "    m = m.lower()\n",
    "    try:\n",
    "        data.head()\n",
    "        similarity.shape\n",
    "    except:\n",
    "        data, similarity = create_similarity()\n",
    "    if m not in data['movie_title'].unique():\n",
    "        return {'error': 'Sorry! try another movie name'}\n",
    "    else:\n",
    "        i = data.loc[data['movie_title'] == m].index[0]\n",
    "        lst = list(enumerate(similarity[i]))\n",
    "        lst = sorted(lst, key=lambda x: x[1], reverse=True)\n",
    "        lst = lst[1:11]\n",
    "        recommendations = {}\n",
    "        for i in range(len(lst)):\n",
    "            movie_index = lst[i][0]\n",
    "            movie_title = data['movie_title'][movie_index]\n",
    "            poster_url = fetch_poster(movie_title)\n",
    "            recommendations[movie_title] = poster_url\n",
    "        return recommendations\n"
   ]
  },
  {
   "cell_type": "code",
   "execution_count": 46,
   "metadata": {},
   "outputs": [],
   "source": [
    "a = rcmd('jawan')"
   ]
  },
  {
   "cell_type": "code",
   "execution_count": 47,
   "metadata": {},
   "outputs": [
    {
     "data": {
      "text/plain": [
       "10"
      ]
     },
     "execution_count": 47,
     "metadata": {},
     "output_type": "execute_result"
    }
   ],
   "source": [
    "len(a)"
   ]
  },
  {
   "cell_type": "code",
   "execution_count": 48,
   "metadata": {},
   "outputs": [
    {
     "data": {
      "text/plain": [
       "{'kabhi alvida naa kehna': 'https://image.tmdb.org/t/p/w500/dkYQgRPuik4FGIUdGGVYGQJWrHa.jpg',\n",
       " 'jab tak hai jaan': 'https://image.tmdb.org/t/p/w500/1TlzJZrzUlaC95Noqt3oMoxQxCu.jpg',\n",
       " 'my name is khan': 'https://image.tmdb.org/t/p/w500/5Y36lCiNyyV71mjq6LavgiggbhT.jpg',\n",
       " 'veer-zaara': 'https://image.tmdb.org/t/p/w500/7rc8qXMjMcemhVFjKP2JWCS1Wpz.jpg',\n",
       " 'zero': 'https://image.tmdb.org/t/p/w500/biIwrulLNGntQ7McqN2iRVfiapt.jpg',\n",
       " 'pathaan': 'https://image.tmdb.org/t/p/w500/arf00BkwvXo0CFKbaD9OpqdE4Nu.jpg',\n",
       " 'dunki': 'https://image.tmdb.org/t/p/w500/b4Oe15CGLL61Ped0RAS9JpqdmCt.jpg',\n",
       " 'kavan': 'https://image.tmdb.org/t/p/w500/hqePCECNlXBRMAJz9cd5VoP25Lf.jpg',\n",
       " 'tubelight': 'https://image.tmdb.org/t/p/w500/hy7Ka19Vx2TwXA6OWZSe4XuMDlK.jpg',\n",
       " 'mumbaikar': 'https://image.tmdb.org/t/p/w500/we0j8oUGcUEHXBTfjo1M6EnBNc0.jpg'}"
      ]
     },
     "execution_count": 48,
     "metadata": {},
     "output_type": "execute_result"
    }
   ],
   "source": [
    "a"
   ]
  },
  {
   "cell_type": "code",
   "execution_count": 51,
   "metadata": {},
   "outputs": [],
   "source": [
    "\n",
    "def create_similarity():\n",
    "    data = pd.read_csv(r\"D:\\Netflix-Recommender-System-and-Deployment-main\\main_data.csv\")\n",
    "    # creating a count matrix\n",
    "    cv = CountVectorizer()\n",
    "    count_matrix = cv.fit_transform(data['comb'])\n",
    "    # creating a similarity score matrix\n",
    "    similarity = cosine_similarity(count_matrix)\n",
    "    return data,similarity\n",
    "\n",
    "def rcmd(m):\n",
    "    m = m.lower()\n",
    "    try:\n",
    "        data.head()\n",
    "        similarity.shape\n",
    "    except:\n",
    "        data, similarity = create_similarity()\n",
    "    if m not in data['movie_title'].unique():\n",
    "        return('Sorry! try another movie name')\n",
    "    else:\n",
    "        i = data.loc[data['movie_title']==m].index[0]\n",
    "        lst = list(enumerate(similarity[i]))\n",
    "        lst = sorted(lst, key = lambda x:x[1] ,reverse=True)\n",
    "        lst = lst[1:11] # excluding first item since it is the requested movie itself\n",
    "        l = []\n",
    "        for i in range(len(lst)):\n",
    "            a = lst[i][0]\n",
    "            l.append(data['movie_title'][a])\n",
    "        return l"
   ]
  },
  {
   "cell_type": "code",
   "execution_count": 70,
   "metadata": {},
   "outputs": [],
   "source": [
    "ll = rcmd('jawan')"
   ]
  },
  {
   "cell_type": "code",
   "execution_count": 61,
   "metadata": {},
   "outputs": [],
   "source": [
    "pos  =  fetch_poster(ll)"
   ]
  },
  {
   "cell_type": "code",
   "execution_count": 56,
   "metadata": {},
   "outputs": [],
   "source": [
    "pos"
   ]
  },
  {
   "cell_type": "code",
   "execution_count": 57,
   "metadata": {},
   "outputs": [
    {
     "data": {
      "text/plain": [
       "['kabhi alvida naa kehna',\n",
       " 'jab tak hai jaan',\n",
       " 'my name is khan',\n",
       " 'veer-zaara',\n",
       " 'zero',\n",
       " 'pathaan',\n",
       " 'dunki',\n",
       " 'kavan',\n",
       " 'tubelight',\n",
       " 'mumbaikar']"
      ]
     },
     "execution_count": 57,
     "metadata": {},
     "output_type": "execute_result"
    }
   ],
   "source": [
    "ll"
   ]
  },
  {
   "cell_type": "code",
   "execution_count": 58,
   "metadata": {},
   "outputs": [
    {
     "data": {
      "text/plain": [
       "'https://image.tmdb.org/t/p/w500/dkYQgRPuik4FGIUdGGVYGQJWrHa.jpg'"
      ]
     },
     "execution_count": 58,
     "metadata": {},
     "output_type": "execute_result"
    }
   ],
   "source": [
    "fetch_poster('kabhi alvida naa kehna')"
   ]
  },
  {
   "cell_type": "code",
   "execution_count": 71,
   "metadata": {},
   "outputs": [],
   "source": [
    "dic = {}\n",
    "for i in ll:\n",
    "    pos = fetch_poster(i)\n",
    "    dic.update({pos:i})"
   ]
  },
  {
   "cell_type": "code",
   "execution_count": 72,
   "metadata": {},
   "outputs": [
    {
     "data": {
      "text/plain": [
       "{'https://image.tmdb.org/t/p/w500/dkYQgRPuik4FGIUdGGVYGQJWrHa.jpg': 'kabhi alvida naa kehna',\n",
       " 'https://image.tmdb.org/t/p/w500/1TlzJZrzUlaC95Noqt3oMoxQxCu.jpg': 'jab tak hai jaan',\n",
       " 'https://image.tmdb.org/t/p/w500/5Y36lCiNyyV71mjq6LavgiggbhT.jpg': 'my name is khan',\n",
       " 'https://image.tmdb.org/t/p/w500/7rc8qXMjMcemhVFjKP2JWCS1Wpz.jpg': 'veer-zaara',\n",
       " 'https://image.tmdb.org/t/p/w500/biIwrulLNGntQ7McqN2iRVfiapt.jpg': 'zero',\n",
       " 'https://image.tmdb.org/t/p/w500/arf00BkwvXo0CFKbaD9OpqdE4Nu.jpg': 'pathaan',\n",
       " 'https://image.tmdb.org/t/p/w500/b4Oe15CGLL61Ped0RAS9JpqdmCt.jpg': 'dunki',\n",
       " 'https://image.tmdb.org/t/p/w500/hqePCECNlXBRMAJz9cd5VoP25Lf.jpg': 'kavan',\n",
       " 'https://image.tmdb.org/t/p/w500/hy7Ka19Vx2TwXA6OWZSe4XuMDlK.jpg': 'tubelight',\n",
       " 'https://image.tmdb.org/t/p/w500/we0j8oUGcUEHXBTfjo1M6EnBNc0.jpg': 'mumbaikar'}"
      ]
     },
     "execution_count": 72,
     "metadata": {},
     "output_type": "execute_result"
    }
   ],
   "source": [
    "dic"
   ]
  },
  {
   "cell_type": "code",
   "execution_count": 75,
   "metadata": {},
   "outputs": [],
   "source": [
    "movie_cards = {}\n",
    "movie_list = rcmd('जवान')\n",
    "for i in movie_list:\n",
    "    pos = fetch_poster(i)\n",
    "    movie_cards.update({pos:i})"
   ]
  },
  {
   "cell_type": "code",
   "execution_count": 76,
   "metadata": {},
   "outputs": [
    {
     "data": {
      "text/plain": [
       "{'https://image.tmdb.org/t/p/w500/nBVYp2xxx2R02n21EGlDky8CgWR.jpg': 'S',\n",
       " 'https://image.tmdb.org/t/p/w500/hkxxMIGaiCTmrEArK7J56JTKUlB.jpg': 'o',\n",
       " 'https://image.tmdb.org/t/p/w500/zaRzz2BxjxIVb7ja0gSedj1Hn1E.jpg': 'r',\n",
       " 'https://image.tmdb.org/t/p/w500/3daOEMQCOGU2n9EbUC0PICnUCek.jpg': 'h',\n",
       " 'https://image.tmdb.org/t/p/w500/4HYQ1haWir4cljNfDTI5YEmdFdy.jpg': '!',\n",
       " None: ' ',\n",
       " 'https://image.tmdb.org/t/p/w500/z1p34vh7dEOnLDmyCrlUVLuoDzd.jpg': 't',\n",
       " 'https://image.tmdb.org/t/p/w500/7Md3nuV0ZprBTnkdR3OrUCEsrSP.jpg': 'm',\n",
       " 'https://image.tmdb.org/t/p/w500/bT1utDcZabXDzyhTUqQ3jc2XcmG.jpg': 'e',\n",
       " 'https://image.tmdb.org/t/p/w500/38N7GRJLu7IWyEdil96YobJ5LWM.jpg': 'v',\n",
       " 'https://image.tmdb.org/t/p/w500/4xJd3uwtL1vCuZgEfEc8JXI9Uyx.jpg': 'i'}"
      ]
     },
     "execution_count": 76,
     "metadata": {},
     "output_type": "execute_result"
    }
   ],
   "source": [
    "movie_cards"
   ]
  },
  {
   "cell_type": "code",
   "execution_count": 77,
   "metadata": {},
   "outputs": [],
   "source": [
    "def fetch_poster(movie_title):\n",
    "    api_key = '6d8bfe0dbef34d25e64f64cabec93e20'\n",
    "    url = f'https://api.themoviedb.org/3/search/movie?api_key={api_key}&query={movie_title}&language=en-US'\n",
    "    response = requests.get(url)\n",
    "    data = response.json()\n",
    "    if data['results']:\n",
    "        poster_path = data['results'][0]['poster_path']\n",
    "        full_path = f'https://image.tmdb.org/t/p/w500{poster_path}'\n",
    "        return full_path\n",
    "    return None\n",
    "movie_cards = {}\n",
    "movie_list = rcmd('जवान')\n",
    "for i in movie_list:\n",
    "    pos = fetch_poster(i)\n",
    "    movie_cards.update({pos:i})"
   ]
  },
  {
   "cell_type": "code",
   "execution_count": 78,
   "metadata": {},
   "outputs": [
    {
     "data": {
      "text/plain": [
       "{'https://image.tmdb.org/t/p/w500/nBVYp2xxx2R02n21EGlDky8CgWR.jpg': 'S',\n",
       " 'https://image.tmdb.org/t/p/w500/hkxxMIGaiCTmrEArK7J56JTKUlB.jpg': 'o',\n",
       " 'https://image.tmdb.org/t/p/w500/zaRzz2BxjxIVb7ja0gSedj1Hn1E.jpg': 'r',\n",
       " 'https://image.tmdb.org/t/p/w500/3daOEMQCOGU2n9EbUC0PICnUCek.jpg': 'h',\n",
       " 'https://image.tmdb.org/t/p/w500/4HYQ1haWir4cljNfDTI5YEmdFdy.jpg': '!',\n",
       " None: ' ',\n",
       " 'https://image.tmdb.org/t/p/w500/z1p34vh7dEOnLDmyCrlUVLuoDzd.jpg': 't',\n",
       " 'https://image.tmdb.org/t/p/w500/7Md3nuV0ZprBTnkdR3OrUCEsrSP.jpg': 'm',\n",
       " 'https://image.tmdb.org/t/p/w500/bT1utDcZabXDzyhTUqQ3jc2XcmG.jpg': 'e',\n",
       " 'https://image.tmdb.org/t/p/w500/38N7GRJLu7IWyEdil96YobJ5LWM.jpg': 'v',\n",
       " 'https://image.tmdb.org/t/p/w500/4xJd3uwtL1vCuZgEfEc8JXI9Uyx.jpg': 'i'}"
      ]
     },
     "execution_count": 78,
     "metadata": {},
     "output_type": "execute_result"
    }
   ],
   "source": [
    "movie_cards"
   ]
  },
  {
   "cell_type": "code",
   "execution_count": 79,
   "metadata": {},
   "outputs": [
    {
     "name": "stdout",
     "output_type": "stream",
     "text": [
      "Collecting googletrans==4.0.0-rc1\n",
      "  Downloading googletrans-4.0.0rc1.tar.gz (20 kB)\n",
      "  Preparing metadata (setup.py): started\n",
      "  Preparing metadata (setup.py): finished with status 'done'\n",
      "Collecting httpx==0.13.3 (from googletrans==4.0.0-rc1)\n",
      "  Downloading httpx-0.13.3-py3-none-any.whl.metadata (25 kB)\n",
      "Requirement already satisfied: certifi in c:\\users\\shekh\\appdata\\local\\programs\\python\\python311\\lib\\site-packages (from httpx==0.13.3->googletrans==4.0.0-rc1) (2023.7.22)\n",
      "Collecting hstspreload (from httpx==0.13.3->googletrans==4.0.0-rc1)\n",
      "  Downloading hstspreload-2024.5.1-py3-none-any.whl.metadata (2.1 kB)\n",
      "Requirement already satisfied: sniffio in c:\\users\\shekh\\appdata\\local\\programs\\python\\python311\\lib\\site-packages (from httpx==0.13.3->googletrans==4.0.0-rc1) (1.3.0)\n",
      "Collecting chardet==3.* (from httpx==0.13.3->googletrans==4.0.0-rc1)\n",
      "  Downloading chardet-3.0.4-py2.py3-none-any.whl.metadata (3.2 kB)\n",
      "Collecting idna==2.* (from httpx==0.13.3->googletrans==4.0.0-rc1)\n",
      "  Downloading idna-2.10-py2.py3-none-any.whl.metadata (9.1 kB)\n",
      "Collecting rfc3986<2,>=1.3 (from httpx==0.13.3->googletrans==4.0.0-rc1)\n",
      "  Downloading rfc3986-1.5.0-py2.py3-none-any.whl.metadata (6.5 kB)\n",
      "Collecting httpcore==0.9.* (from httpx==0.13.3->googletrans==4.0.0-rc1)\n",
      "  Downloading httpcore-0.9.1-py3-none-any.whl.metadata (4.6 kB)\n",
      "Collecting h11<0.10,>=0.8 (from httpcore==0.9.*->httpx==0.13.3->googletrans==4.0.0-rc1)\n",
      "  Downloading h11-0.9.0-py2.py3-none-any.whl.metadata (8.1 kB)\n",
      "Collecting h2==3.* (from httpcore==0.9.*->httpx==0.13.3->googletrans==4.0.0-rc1)\n",
      "  Downloading h2-3.2.0-py2.py3-none-any.whl.metadata (32 kB)\n",
      "Collecting hyperframe<6,>=5.2.0 (from h2==3.*->httpcore==0.9.*->httpx==0.13.3->googletrans==4.0.0-rc1)\n",
      "  Downloading hyperframe-5.2.0-py2.py3-none-any.whl.metadata (7.2 kB)\n",
      "Collecting hpack<4,>=3.0 (from h2==3.*->httpcore==0.9.*->httpx==0.13.3->googletrans==4.0.0-rc1)\n",
      "  Downloading hpack-3.0.0-py2.py3-none-any.whl.metadata (7.0 kB)\n",
      "Downloading httpx-0.13.3-py3-none-any.whl (55 kB)\n",
      "   ---------------------------------------- 0.0/55.1 kB ? eta -:--:--\n",
      "   ---------------------------------------- 55.1/55.1 kB ? eta 0:00:00\n",
      "Downloading chardet-3.0.4-py2.py3-none-any.whl (133 kB)\n",
      "   ---------------------------------------- 0.0/133.4 kB ? eta -:--:--\n",
      "   ---------------------------------------- 133.4/133.4 kB 8.2 MB/s eta 0:00:00\n",
      "Downloading httpcore-0.9.1-py3-none-any.whl (42 kB)\n",
      "   ---------------------------------------- 0.0/42.6 kB ? eta -:--:--\n",
      "   ---------------------------------------- 42.6/42.6 kB 2.0 MB/s eta 0:00:00\n",
      "Downloading idna-2.10-py2.py3-none-any.whl (58 kB)\n",
      "   ---------------------------------------- 0.0/58.8 kB ? eta -:--:--\n",
      "   ---------------------------------------- 58.8/58.8 kB 3.0 MB/s eta 0:00:00\n",
      "Downloading h2-3.2.0-py2.py3-none-any.whl (65 kB)\n",
      "   ---------------------------------------- 0.0/65.0 kB ? eta -:--:--\n",
      "   ---------------------------------------- 65.0/65.0 kB 3.4 MB/s eta 0:00:00\n",
      "Downloading rfc3986-1.5.0-py2.py3-none-any.whl (31 kB)\n",
      "Downloading hstspreload-2024.5.1-py3-none-any.whl (1.1 MB)\n",
      "   ---------------------------------------- 0.0/1.1 MB ? eta -:--:--\n",
      "   -------------------------------- ------- 0.9/1.1 MB 29.7 MB/s eta 0:00:01\n",
      "   ---------------------------------------- 1.1/1.1 MB 18.3 MB/s eta 0:00:00\n",
      "Downloading h11-0.9.0-py2.py3-none-any.whl (53 kB)\n",
      "   ---------------------------------------- 0.0/53.6 kB ? eta -:--:--\n",
      "   ---------------------------------------- 53.6/53.6 kB 2.7 MB/s eta 0:00:00\n",
      "Downloading hpack-3.0.0-py2.py3-none-any.whl (38 kB)\n",
      "Downloading hyperframe-5.2.0-py2.py3-none-any.whl (12 kB)\n",
      "Building wheels for collected packages: googletrans\n",
      "  Building wheel for googletrans (setup.py): started\n",
      "  Building wheel for googletrans (setup.py): finished with status 'done'\n",
      "  Created wheel for googletrans: filename=googletrans-4.0.0rc1-py3-none-any.whl size=17458 sha256=0d8e458b73d6128d471ec0fb3d1ea78be45978594e004d6914d812e4ffce950d\n",
      "  Stored in directory: c:\\users\\shekh\\appdata\\local\\pip\\cache\\wheels\\39\\17\\6f\\66a045ea3d168826074691b4b787b8f324d3f646d755443fda\n",
      "Successfully built googletrans\n",
      "Installing collected packages: rfc3986, hyperframe, hpack, h11, chardet, idna, hstspreload, h2, httpcore, httpx, googletrans\n",
      "  Attempting uninstall: h11\n",
      "    Found existing installation: h11 0.14.0\n",
      "    Uninstalling h11-0.14.0:\n",
      "      Successfully uninstalled h11-0.14.0\n",
      "  Attempting uninstall: idna\n",
      "    Found existing installation: idna 3.4\n",
      "    Uninstalling idna-3.4:\n",
      "      Successfully uninstalled idna-3.4\n",
      "  Attempting uninstall: httpcore\n",
      "    Found existing installation: httpcore 1.0.5\n",
      "    Uninstalling httpcore-1.0.5:\n",
      "      Successfully uninstalled httpcore-1.0.5\n",
      "  Attempting uninstall: httpx\n",
      "    Found existing installation: httpx 0.27.0\n",
      "    Uninstalling httpx-0.27.0:\n",
      "      Successfully uninstalled httpx-0.27.0\n",
      "Successfully installed chardet-3.0.4 googletrans-4.0.0rc1 h11-0.9.0 h2-3.2.0 hpack-3.0.0 hstspreload-2024.5.1 httpcore-0.9.1 httpx-0.13.3 hyperframe-5.2.0 idna-2.10 rfc3986-1.5.0\n",
      "Note: you may need to restart the kernel to use updated packages.\n"
     ]
    },
    {
     "name": "stderr",
     "output_type": "stream",
     "text": [
      "ERROR: pip's dependency resolver does not currently take into account all the packages that are installed. This behaviour is the source of the following dependency conflicts.\n",
      "openai 1.28.0 requires httpx<1,>=0.23.0, but you have httpx 0.13.3 which is incompatible.\n",
      "youtube-search-python 1.6.6 requires httpx>=0.14.2, but you have httpx 0.13.3 which is incompatible.\n"
     ]
    }
   ],
   "source": [
    "pip install googletrans==4.0.0-rc1\n"
   ]
  },
  {
   "cell_type": "code",
   "execution_count": 80,
   "metadata": {},
   "outputs": [],
   "source": [
    "import pandas as pd\n",
    "from googletrans import Translator\n",
    "\n",
    "# Function to translate text from Hindi to English\n",
    "def translate_to_english(text):\n",
    "    translator = Translator()\n",
    "    translation = translator.translate(text, src='hi', dest='en')\n",
    "    return translation.text\n",
    "\n"
   ]
  },
  {
   "cell_type": "code",
   "execution_count": 81,
   "metadata": {},
   "outputs": [
    {
     "data": {
      "text/plain": [
       "'young'"
      ]
     },
     "execution_count": 81,
     "metadata": {},
     "output_type": "execute_result"
    }
   ],
   "source": [
    "translate_to_english(\"जवान\")"
   ]
  },
  {
   "cell_type": "code",
   "execution_count": 82,
   "metadata": {},
   "outputs": [
    {
     "name": "stdout",
     "output_type": "stream",
     "text": [
      "Collecting indic-transliteration\n",
      "  Downloading indic_transliteration-2.3.59-py3-none-any.whl.metadata (1.4 kB)\n",
      "Collecting backports.functools-lru-cache (from indic-transliteration)\n",
      "  Downloading backports.functools_lru_cache-2.0.0-py2.py3-none-any.whl.metadata (3.5 kB)\n",
      "Requirement already satisfied: regex in c:\\users\\shekh\\appdata\\local\\programs\\python\\python311\\lib\\site-packages (from indic-transliteration) (2024.4.16)\n",
      "Requirement already satisfied: typer in c:\\users\\shekh\\appdata\\local\\programs\\python\\python311\\lib\\site-packages (from indic-transliteration) (0.9.4)\n",
      "Requirement already satisfied: toml in c:\\users\\shekh\\appdata\\local\\programs\\python\\python311\\lib\\site-packages (from indic-transliteration) (0.10.2)\n",
      "Collecting roman (from indic-transliteration)\n",
      "  Downloading roman-4.2-py3-none-any.whl.metadata (3.6 kB)\n",
      "Requirement already satisfied: click<9.0.0,>=7.1.1 in c:\\users\\shekh\\appdata\\local\\programs\\python\\python311\\lib\\site-packages (from typer->indic-transliteration) (8.1.7)\n",
      "Requirement already satisfied: typing-extensions>=3.7.4.3 in c:\\users\\shekh\\appdata\\local\\programs\\python\\python311\\lib\\site-packages (from typer->indic-transliteration) (4.11.0)\n",
      "Requirement already satisfied: colorama in c:\\users\\shekh\\appdata\\local\\programs\\python\\python311\\lib\\site-packages (from click<9.0.0,>=7.1.1->typer->indic-transliteration) (0.4.6)\n",
      "Downloading indic_transliteration-2.3.59-py3-none-any.whl (152 kB)\n",
      "   ---------------------------------------- 0.0/152.1 kB ? eta -:--:--\n",
      "   ---------------------------------------- 152.1/152.1 kB 8.9 MB/s eta 0:00:00\n",
      "Downloading backports.functools_lru_cache-2.0.0-py2.py3-none-any.whl (6.7 kB)\n",
      "Downloading roman-4.2-py3-none-any.whl (5.5 kB)\n",
      "Installing collected packages: roman, backports.functools-lru-cache, indic-transliteration\n",
      "Successfully installed backports.functools-lru-cache-2.0.0 indic-transliteration-2.3.59 roman-4.2\n",
      "Note: you may need to restart the kernel to use updated packages.\n"
     ]
    }
   ],
   "source": [
    "pip install indic-transliteration\n"
   ]
  },
  {
   "cell_type": "code",
   "execution_count": 83,
   "metadata": {},
   "outputs": [],
   "source": [
    "import pandas as pd\n",
    "from indic_transliteration import sanscript\n",
    "from indic_transliteration.sanscript import transliterate\n",
    "\n",
    "# Function to transliterate text from Hindi to Latin script\n",
    "def transliterate_to_latin(text):\n",
    "    return transliterate(text, sanscript.DEVANAGARI, sanscript.ITRANS)"
   ]
  },
  {
   "cell_type": "code",
   "execution_count": 84,
   "metadata": {},
   "outputs": [
    {
     "data": {
      "text/plain": [
       "'javAna'"
      ]
     },
     "execution_count": 84,
     "metadata": {},
     "output_type": "execute_result"
    }
   ],
   "source": [
    "transliterate_to_latin(\"जवान\")"
   ]
  },
  {
   "cell_type": "code",
   "execution_count": 85,
   "metadata": {},
   "outputs": [
    {
     "name": "stdout",
     "output_type": "stream",
     "text": [
      "{'S': 'https://image.tmdb.org/t/p/w500/xlIQf4y9eB14iYzNN142tROIWON.jpg', 'o': 'https://image.tmdb.org/t/p/w500/gKkl37BQuKTanygYQG1pyYgLVgf.jpg', 'r': 'https://image.tmdb.org/t/p/w500/cxevDYdeFkiixRShbObdwAHBZry.jpg', 'y': 'https://image.tmdb.org/t/p/w500/zDi2U7WYkdIoGYHcYbM9X5yReVD.jpg', '!': 'https://image.tmdb.org/t/p/w500/4HYQ1haWir4cljNfDTI5YEmdFdy.jpg', 't': 'https://image.tmdb.org/t/p/w500/tMefBSflR6PGQLv7WvFPpKLZkyk.jpg', 'a': 'https://image.tmdb.org/t/p/w500/gKkl37BQuKTanygYQG1pyYgLVgf.jpg', 'n': 'https://image.tmdb.org/t/p/w500/tMefBSflR6PGQLv7WvFPpKLZkyk.jpg', 'h': 'https://image.tmdb.org/t/p/w500/k9cl3Q0phAdSmGGFg30pYUTnEde.jpg', 'e': 'https://image.tmdb.org/t/p/w500/tMefBSflR6PGQLv7WvFPpKLZkyk.jpg', 'm': 'https://image.tmdb.org/t/p/w500/cxevDYdeFkiixRShbObdwAHBZry.jpg', 'v': 'https://image.tmdb.org/t/p/w500/dJaIw8OgACelojyV6YuVsOhtTLO.jpg', 'i': 'https://image.tmdb.org/t/p/w500/4xJd3uwtL1vCuZgEfEc8JXI9Uyx.jpg'}\n"
     ]
    }
   ],
   "source": [
    "import requests\n",
    "\n",
    "def fetch_poster(movie_title):\n",
    "    api_key = '6d8bfe0dbef34d25e64f64cabec93e20'\n",
    "    url = f'https://api.themoviedb.org/3/search/movie?api_key={api_key}&query={movie_title}&language=hi-IN'\n",
    "    response = requests.get(url)\n",
    "    data = response.json()\n",
    "    if data['results']:\n",
    "        poster_path = data['results'][0]['poster_path']\n",
    "        full_path = f'https://image.tmdb.org/t/p/w500{poster_path}'\n",
    "        return full_path\n",
    "    return None\n",
    "\n",
    "movie_cards = {}\n",
    "movie_list = rcmd('जवान')  # Assuming rcmd function gives you a list of Hindi movie titles\n",
    "for movie_title in movie_list:\n",
    "    poster_url = fetch_poster(movie_title)\n",
    "    if poster_url:\n",
    "        movie_cards[movie_title] = poster_url\n",
    "\n",
    "print(movie_cards)\n"
   ]
  },
  {
   "cell_type": "code",
   "execution_count": 1,
   "metadata": {},
   "outputs": [],
   "source": [
    "import pandas as pd"
   ]
  },
  {
   "cell_type": "code",
   "execution_count": 3,
   "metadata": {},
   "outputs": [
    {
     "ename": "SyntaxError",
     "evalue": "(unicode error) 'unicodeescape' codec can't decode bytes in position 2-3: malformed \\N character escape (2536289033.py, line 1)",
     "output_type": "error",
     "traceback": [
      "\u001b[1;36m  Cell \u001b[1;32mIn[3], line 1\u001b[1;36m\u001b[0m\n\u001b[1;33m    data = pd.read_csv('D:\\Netflix-Recommender-System-and-Deployment-main\\main_data.csv')\u001b[0m\n\u001b[1;37m                                                                                        ^\u001b[0m\n\u001b[1;31mSyntaxError\u001b[0m\u001b[1;31m:\u001b[0m (unicode error) 'unicodeescape' codec can't decode bytes in position 2-3: malformed \\N character escape\n"
     ]
    }
   ],
   "source": [
    "data = pd.read_csv('D:\\Netflix-Recommender-System-and-Deployment-main\\main_data.csv')"
   ]
  },
  {
   "cell_type": "code",
   "execution_count": null,
   "metadata": {},
   "outputs": [],
   "source": []
  },
  {
   "cell_type": "code",
   "execution_count": null,
   "metadata": {},
   "outputs": [],
   "source": []
  }
 ],
 "metadata": {
  "kernelspec": {
   "display_name": "base",
   "language": "python",
   "name": "python3"
  },
  "language_info": {
   "codemirror_mode": {
    "name": "ipython",
    "version": 3
   },
   "file_extension": ".py",
   "mimetype": "text/x-python",
   "name": "python",
   "nbconvert_exporter": "python",
   "pygments_lexer": "ipython3",
   "version": "3.11.4"
  }
 },
 "nbformat": 4,
 "nbformat_minor": 2
}
