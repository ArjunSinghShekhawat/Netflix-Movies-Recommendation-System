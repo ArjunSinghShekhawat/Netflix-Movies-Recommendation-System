{
 "cells": [
  {
   "cell_type": "code",
   "execution_count": 1,
   "metadata": {},
   "outputs": [
    {
     "name": "stderr",
     "output_type": "stream",
     "text": [
      "C:\\Users\\shekh\\AppData\\Local\\Temp\\ipykernel_17960\\1789554731.py:17: DeprecationWarning: Using 'method_whitelist' with Retry is deprecated and will be removed in v2.0. Use 'allowed_methods' instead\n",
      "  retry_strategy = Retry(\n"
     ]
    }
   ],
   "source": [
    "import pandas as pd\n",
    "import requests\n",
    "from requests.adapters import HTTPAdapter\n",
    "from urllib3.util.retry import Retry\n",
    "from requests.exceptions import Timeout, RequestException, ConnectionError\n",
    "import numpy as np\n",
    "from functools import lru_cache\n",
    "from tmdbv3api import TMDb\n",
    "import json\n",
    "import requests\n",
    "tmdb = TMDb()\n",
    "tmdb.api_key = '6d8bfe0dbef34d25e64f64cabec93e20' \n",
    "from tmdbv3api import Movie\n",
    "tmdb_movie = Movie()\n",
    "\n",
    "# Setup retry strategy\n",
    "retry_strategy = Retry(\n",
    "    total=5,  # Total number of retries\n",
    "    backoff_factor=2,  # Exponential backoff factor\n",
    "    status_forcelist=[429, 500, 502, 503, 504],  # Retry on these HTTP status codes\n",
    "    method_whitelist=[\"HEAD\", \"GET\", \"OPTIONS\"]  # Retry only on these methods\n",
    ")\n",
    "\n",
    "# Create an HTTP adapter with the retry strategy\n",
    "adapter = HTTPAdapter(max_retries=retry_strategy)\n",
    "\n",
    "# Create a session and mount the adapter\n",
    "session = requests.Session()\n",
    "session.mount(\"https://\", adapter)\n",
    "session.mount(\"http://\", adapter)\n",
    "\n",
    "\n",
    "\n",
    "# Using LRU cache to store results of previously fetched movie genres\n",
    "@lru_cache(maxsize=1000)\n",
    "def fetch_movie_genres(movie_id):\n",
    "    try:\n",
    "        response = requests.get(f'https://api.themoviedb.org/3/movie/{movie_id}?api_key={tmdb.api_key}')\n",
    "        if response.status_code != 200:\n",
    "            return np.nan\n",
    "        \n",
    "        data_json = response.json()\n",
    "        if 'genres' in data_json and data_json['genres']:\n",
    "            return \" \".join([genre['name'] for genre in data_json['genres']])\n",
    "        else:\n",
    "            return np.nan\n",
    "    except Exception as e:\n",
    "        print(f\"Error fetching genres for movie ID {movie_id}: {e}\")\n",
    "        return np.nan\n",
    "\n",
    "def get_genres(x):\n",
    "    try:\n",
    "        result = tmdb_movie.search(x)\n",
    "        if not result:\n",
    "            return np.nan\n",
    "        \n",
    "        movie_id = result[0].id\n",
    "        return fetch_movie_genres(movie_id)\n",
    "    except Exception as e:\n",
    "        print(f\"Error fetching genres for {x}: {e}\")\n",
    "        return np.nan\n",
    "\n",
    "def get_director(x):\n",
    "    if \" (director)\" in x: #we are getting \"director\"\n",
    "        return x.split(\" (director)\")[0]\n",
    "    elif \" (directors)\" in x: #we are getting \"directors\" with \"s\"\n",
    "        return x.split(\" (directors)\")[0]\n",
    "    else:\n",
    "        return x.split(\" (director/screenplay)\")[0]\n",
    "    \n",
    "\n",
    "def get_actor1(x):\n",
    "    return ((x.split(\"screenplay); \")[-1]).split(\", \")[0])\n",
    "\n",
    "def get_actor2(x):\n",
    "    if len((x.split(\"screenplay); \")[-1]).split(\", \")) < 2:\n",
    "        return np.NaN\n",
    "    else:\n",
    "        return ((x.split(\"screenplay); \")[-1]).split(\", \")[1])\n",
    "def get_actor3(x):\n",
    "    if len((x.split(\"screenplay); \")[-1]).split(\", \")) < 3:\n",
    "        return np.NaN\n",
    "    else:\n",
    "        return ((x.split(\"screenplay); \")[-1]).split(\", \")[2])\n",
    "\n",
    "\n",
    "def fetch_html(url):\n",
    "    try:\n",
    "        response = session.get(url, timeout=20)\n",
    "        response.raise_for_status()  # Raise an exception for HTTP errors\n",
    "        return response.content\n",
    "    except Timeout:\n",
    "        print(f\"Request timed out for URL {url}.\")\n",
    "        return None\n",
    "    except ConnectionError as e:\n",
    "        print(f\"Connection error for URL {url}: {e}\")\n",
    "        return None\n",
    "    except RequestException as e:\n",
    "        print(f\"Request error fetching data from URL {url}: {e}\")\n",
    "        return None\n",
    "    except Exception as e:\n",
    "        print(f\"Unexpected error fetching data from URL {url}: {e}\")\n",
    "        return None\n",
    "    \n",
    "def create_df(url):\n",
    "    # Fetch HTML content from the URL\n",
    "    html_content = fetch_html(url)\n",
    "\n",
    "    # Read HTML data using pandas if content is fetched successfully\n",
    "    if html_content:\n",
    "        try:\n",
    "            # Reading multiple tables on the page\n",
    "            tables = pd.read_html(html_content, header=0)\n",
    "        \n",
    "            # Extract specific tables\n",
    "            df1 = tables[2]\n",
    "            df2 = tables[3]\n",
    "            df3 = tables[4]\n",
    "            df4 = tables[5]\n",
    "        \n",
    "        except Exception as e:\n",
    "            print(f\"Error reading HTML content: {e}\")\n",
    "    else:\n",
    "        print(\"Failed to fetch HTML content.\")\n",
    "    \n",
    "    movies = pd.concat([df1,df2,df3,df4],axis=0)\n",
    "    movies = movies[['Title','Cast and crew']]\n",
    "    movies['genres'] = movies['Title'].apply(lambda x:get_genres(x))\n",
    "    movies['director_name'] = movies['Cast and crew'].map(lambda x: get_director(x))\n",
    "\n",
    "    movies['actor_1_name'] = movies['Cast and crew'].map(lambda x: get_actor1(x))\n",
    "    movies['actor_2_name'] = movies['Cast and crew'].map(lambda x: get_actor2(x))\n",
    "    movies['actor_3_name'] = movies['Cast and crew'].map(lambda x: get_actor3(x))\n",
    "\n",
    "    movies.drop(\"Cast and crew\",axis=1,inplace=True)\n",
    "    movies['comb'] = movies['actor_1_name']+\" \"+movies['actor_2_name']+\" \"+movies['actor_3_name']+\" \"+movies['director_name']\n",
    "    movies = movies.rename(columns={'Title':'movie_title'})\n",
    "\n",
    "\n",
    "    return movies\n",
    "    \n",
    "\n"
   ]
  },
  {
   "cell_type": "code",
   "execution_count": 18,
   "metadata": {},
   "outputs": [
    {
     "name": "stderr",
     "output_type": "stream",
     "text": [
      "C:\\Users\\shekh\\AppData\\Local\\Temp\\ipykernel_17960\\2289840006.py:16: DeprecationWarning: Using 'method_whitelist' with Retry is deprecated and will be removed in v2.0. Use 'allowed_methods' instead\n",
      "  retry_strategy = Retry(\n",
      "C:\\Users\\shekh\\AppData\\Local\\Temp\\ipykernel_17960\\2289840006.py:137: FutureWarning: Setting an item of incompatible dtype is deprecated and will raise in a future error of pandas. Value 'Ron Howard' has dtype incompatible with float64, please explicitly cast to a compatible dtype first.\n",
      "  movies.at[index, 'director_name'] = result['director_name']\n",
      "C:\\Users\\shekh\\AppData\\Local\\Temp\\ipykernel_17960\\2289840006.py:138: FutureWarning: Setting an item of incompatible dtype is deprecated and will raise in a future error of pandas. Value 'Alden Ehrenreich' has dtype incompatible with float64, please explicitly cast to a compatible dtype first.\n",
      "  movies.at[index, 'actor_1_name'] = result['actor_1_name']\n",
      "C:\\Users\\shekh\\AppData\\Local\\Temp\\ipykernel_17960\\2289840006.py:139: FutureWarning: Setting an item of incompatible dtype is deprecated and will raise in a future error of pandas. Value 'Woody Harrelson' has dtype incompatible with float64, please explicitly cast to a compatible dtype first.\n",
      "  movies.at[index, 'actor_2_name'] = result['actor_2_name']\n",
      "C:\\Users\\shekh\\AppData\\Local\\Temp\\ipykernel_17960\\2289840006.py:140: FutureWarning: Setting an item of incompatible dtype is deprecated and will raise in a future error of pandas. Value 'Emilia Clarke' has dtype incompatible with float64, please explicitly cast to a compatible dtype first.\n",
      "  movies.at[index, 'actor_3_name'] = result['actor_3_name']\n",
      "C:\\Users\\shekh\\AppData\\Local\\Temp\\ipykernel_17960\\2289840006.py:154: FutureWarning: Setting an item of incompatible dtype is deprecated and will raise in a future error of pandas. Value 'War Drama Action History' has dtype incompatible with float64, please explicitly cast to a compatible dtype first.\n",
      "  movies.loc[movies['movie_title'] == title, 'genres'] = genres\n"
     ]
    }
   ],
   "source": [
    "import pandas as pd\n",
    "import requests\n",
    "from requests.adapters import HTTPAdapter\n",
    "from urllib3.util.retry import Retry\n",
    "from requests.exceptions import Timeout, RequestException, ConnectionError\n",
    "import numpy as np\n",
    "from functools import lru_cache\n",
    "from tmdbv3api import TMDb, Movie\n",
    "from concurrent.futures import ThreadPoolExecutor, as_completed\n",
    "\n",
    "tmdb = TMDb()\n",
    "tmdb.api_key = '6d8bfe0dbef34d25e64f64cabec93e20'\n",
    "tmdb_movie = Movie()\n",
    "\n",
    "# Setup retry strategy\n",
    "retry_strategy = Retry(\n",
    "    total=5,  # Total number of retries\n",
    "    backoff_factor=2,  # Exponential backoff factor\n",
    "    status_forcelist=[429, 500, 502, 503, 504],  # Retry on these HTTP status codes\n",
    "    method_whitelist=[\"HEAD\", \"GET\", \"OPTIONS\"]  # Retry only on these methods\n",
    ")\n",
    "\n",
    "# Create an HTTP adapter with the retry strategy\n",
    "adapter = HTTPAdapter(max_retries=retry_strategy)\n",
    "\n",
    "# Create a session and mount the adapter\n",
    "session = requests.Session()\n",
    "session.mount(\"https://\", adapter)\n",
    "session.mount(\"http://\", adapter)\n",
    "\n",
    "# Using LRU cache to store results of previously fetched movie genres\n",
    "@lru_cache(maxsize=1000)\n",
    "def fetch_movie_genres(movie_id):\n",
    "    try:\n",
    "        response = session.get(f'https://api.themoviedb.org/3/movie/{movie_id}?api_key={tmdb.api_key}')\n",
    "        if response.status_code != 200:\n",
    "            return np.nan\n",
    "        \n",
    "        data_json = response.json()\n",
    "        if 'genres' in data_json and data_json['genres']:\n",
    "            return \" \".join([genre['name'] for genre in data_json['genres']])\n",
    "        else:\n",
    "            return np.nan\n",
    "    except Exception as e:\n",
    "        print(f\"Error fetching genres for movie ID {movie_id}: {e}\")\n",
    "        return np.nan\n",
    "\n",
    "def get_genres(x):\n",
    "    try:\n",
    "        result = tmdb_movie.search(x)\n",
    "        if not result:\n",
    "            return np.nan\n",
    "        \n",
    "        movie_id = result[0].id\n",
    "        return fetch_movie_genres(movie_id)\n",
    "    except Exception as e:\n",
    "        print(f\"Error fetching genres for {x}: {e}\")\n",
    "        return np.nan\n",
    "\n",
    "def get_director(x):\n",
    "    if \" (director)\" in x:\n",
    "        return x.split(\" (director)\")[0]\n",
    "    elif \" (directors)\" in x:\n",
    "        return x.split(\" (directors)\")[0]\n",
    "    else:\n",
    "        return x.split(\" (director/screenplay)\")[0]\n",
    "\n",
    "def get_actor1(x):\n",
    "    return ((x.split(\"screenplay); \")[-1]).split(\", \")[0])\n",
    "\n",
    "def get_actor2(x):\n",
    "    actors = (x.split(\"screenplay); \")[-1]).split(\", \")\n",
    "    return actors[1] if len(actors) > 1 else np.NaN\n",
    "\n",
    "def get_actor3(x):\n",
    "    actors = (x.split(\"screenplay); \")[-1]).split(\", \")\n",
    "    return actors[2] if len(actors) > 2 else np.NaN\n",
    "\n",
    "def fetch_html(url):\n",
    "    try:\n",
    "        response = session.get(url, timeout=20)\n",
    "        response.raise_for_status()\n",
    "        return response.content\n",
    "    except Timeout:\n",
    "        print(f\"Request timed out for URL {url}.\")\n",
    "        return None\n",
    "    except ConnectionError as e:\n",
    "        print(f\"Connection error for URL {url}: {e}\")\n",
    "        return None\n",
    "    except RequestException as e:\n",
    "        print(f\"Request error fetching data from URL {url}: {e}\")\n",
    "        return None\n",
    "    except Exception as e:\n",
    "        print(f\"Unexpected error fetching data from URL {url}: {e}\")\n",
    "        return None\n",
    "\n",
    "def process_actors_directors(cast_crew):\n",
    "    return {\n",
    "        'director_name': get_director(cast_crew),\n",
    "        'actor_1_name': get_actor1(cast_crew),\n",
    "        'actor_2_name': get_actor2(cast_crew),\n",
    "        'actor_3_name': get_actor3(cast_crew)\n",
    "    }\n",
    "\n",
    "def create_df(url):\n",
    "    # Fetch HTML content from the URL\n",
    "    html_content = fetch_html(url)\n",
    "\n",
    "    # Read HTML data using pandas if content is fetched successfully\n",
    "    if html_content:\n",
    "        try:\n",
    "            # Reading multiple tables on the page\n",
    "            tables = pd.read_html(html_content, header=0)\n",
    "            # Extract specific tables\n",
    "            df1 = tables[2]\n",
    "            df2 = tables[3]\n",
    "            df3 = tables[4]\n",
    "            df4 = tables[5]\n",
    "        except Exception as e:\n",
    "            print(f\"Error reading HTML content: {e}\")\n",
    "            return None\n",
    "    else:\n",
    "        print(\"Failed to fetch HTML content.\")\n",
    "        return None\n",
    "\n",
    "    movies = pd.concat([df1, df2, df3, df4], axis=0)\n",
    "    movies = movies[['Title', 'Cast and crew']]\n",
    "    movies['movie_title'] = movies['Title'].str.lower()\n",
    "    \n",
    "    # Parallelize the process of extracting director and actors\n",
    "    with ThreadPoolExecutor(max_workers=10) as executor:\n",
    "        futures = {executor.submit(process_actors_directors, row['Cast and crew']): index for index, row in movies.iterrows()}\n",
    "        for future in as_completed(futures):\n",
    "            index = futures[future]\n",
    "            try:\n",
    "                result = future.result()\n",
    "                movies.at[index, 'director_name'] = result['director_name']\n",
    "                movies.at[index, 'actor_1_name'] = result['actor_1_name']\n",
    "                movies.at[index, 'actor_2_name'] = result['actor_2_name']\n",
    "                movies.at[index, 'actor_3_name'] = result['actor_3_name']\n",
    "            except Exception as e:\n",
    "                print(f\"Error processing actors and directors for row {index}: {e}\")\n",
    "\n",
    "    movies.drop(\"Cast and crew\", axis=1, inplace=True)\n",
    "    movies['comb'] = movies['actor_1_name'] + \" \" + movies['actor_2_name'] + \" \" + movies['actor_3_name'] + \" \" + movies['director_name']\n",
    "\n",
    "    # Parallelize genre fetching\n",
    "    with ThreadPoolExecutor(max_workers=10) as executor:\n",
    "        future_to_title = {executor.submit(get_genres, title): title for title in movies['movie_title']}\n",
    "        for future in as_completed(future_to_title):\n",
    "            title = future_to_title[future]\n",
    "            try:\n",
    "                genres = future.result()\n",
    "                movies.loc[movies['movie_title'] == title, 'genres'] = genres\n",
    "            except Exception as e:\n",
    "                print(f\"Error fetching genres for {title}: {e}\")\n",
    "\n",
    "    return movies\n",
    "\n",
    "# Example usage\n",
    "url = \"https://en.wikipedia.org/wiki/List_of_American_films_of_2018\"\n",
    "movies_2018 = create_df(url)\n",
    "\n"
   ]
  },
  {
   "cell_type": "code",
   "execution_count": 19,
   "metadata": {},
   "outputs": [
    {
     "data": {
      "text/html": [
       "<div>\n",
       "<style scoped>\n",
       "    .dataframe tbody tr th:only-of-type {\n",
       "        vertical-align: middle;\n",
       "    }\n",
       "\n",
       "    .dataframe tbody tr th {\n",
       "        vertical-align: top;\n",
       "    }\n",
       "\n",
       "    .dataframe thead th {\n",
       "        text-align: right;\n",
       "    }\n",
       "</style>\n",
       "<table border=\"1\" class=\"dataframe\">\n",
       "  <thead>\n",
       "    <tr style=\"text-align: right;\">\n",
       "      <th></th>\n",
       "      <th>Title</th>\n",
       "      <th>movie_title</th>\n",
       "      <th>director_name</th>\n",
       "      <th>actor_1_name</th>\n",
       "      <th>actor_2_name</th>\n",
       "      <th>actor_3_name</th>\n",
       "      <th>comb</th>\n",
       "      <th>genres</th>\n",
       "    </tr>\n",
       "  </thead>\n",
       "  <tbody>\n",
       "    <tr>\n",
       "      <th>0</th>\n",
       "      <td>Insidious: The Last Key</td>\n",
       "      <td>insidious: the last key</td>\n",
       "      <td>Ruben Fleischer</td>\n",
       "      <td>Tom Hardy</td>\n",
       "      <td>Michelle Williams</td>\n",
       "      <td>Riz Ahmed</td>\n",
       "      <td>Tom Hardy Michelle Williams Riz Ahmed Ruben Fl...</td>\n",
       "      <td>Horror Mystery Thriller</td>\n",
       "    </tr>\n",
       "    <tr>\n",
       "      <th>1</th>\n",
       "      <td>The Strange Ones</td>\n",
       "      <td>the strange ones</td>\n",
       "      <td>Bradley Cooper</td>\n",
       "      <td>Bradley Cooper</td>\n",
       "      <td>Lady Gaga</td>\n",
       "      <td>Andrew Dice Clay</td>\n",
       "      <td>Bradley Cooper Lady Gaga Andrew Dice Clay Brad...</td>\n",
       "      <td>Drama Mystery</td>\n",
       "    </tr>\n",
       "    <tr>\n",
       "      <th>2</th>\n",
       "      <td>The Commuter</td>\n",
       "      <td>the commuter</td>\n",
       "      <td>Peter Bogdanovich</td>\n",
       "      <td>Peter Bogdanovich (director/screenplay)</td>\n",
       "      <td>NaN</td>\n",
       "      <td>NaN</td>\n",
       "      <td>NaN</td>\n",
       "      <td>Action Thriller Mystery</td>\n",
       "    </tr>\n",
       "    <tr>\n",
       "      <th>3</th>\n",
       "      <td>Proud Mary</td>\n",
       "      <td>proud mary</td>\n",
       "      <td>Damien Chazelle</td>\n",
       "      <td>Ryan Gosling</td>\n",
       "      <td>Claire Foy</td>\n",
       "      <td>Jason Clarke</td>\n",
       "      <td>Ryan Gosling Claire Foy Jason Clarke Damien Ch...</td>\n",
       "      <td>Thriller Action Crime</td>\n",
       "    </tr>\n",
       "    <tr>\n",
       "      <th>4</th>\n",
       "      <td>Acts of Violence</td>\n",
       "      <td>acts of violence</td>\n",
       "      <td>Drew Goddard</td>\n",
       "      <td>Jeff Bridges</td>\n",
       "      <td>Cynthia Erivo</td>\n",
       "      <td>Dakota Johnson</td>\n",
       "      <td>Jeff Bridges Cynthia Erivo Dakota Johnson Drew...</td>\n",
       "      <td>Action Crime Thriller</td>\n",
       "    </tr>\n",
       "    <tr>\n",
       "      <th>...</th>\n",
       "      <td>...</td>\n",
       "      <td>...</td>\n",
       "      <td>...</td>\n",
       "      <td>...</td>\n",
       "      <td>...</td>\n",
       "      <td>...</td>\n",
       "      <td>...</td>\n",
       "      <td>...</td>\n",
       "    </tr>\n",
       "    <tr>\n",
       "      <th>56</th>\n",
       "      <td>Second Act</td>\n",
       "      <td>second act</td>\n",
       "      <td>Peter Segal</td>\n",
       "      <td>Jennifer Lopez</td>\n",
       "      <td>Leah Remini</td>\n",
       "      <td>Vanessa Hudgens</td>\n",
       "      <td>Jennifer Lopez Leah Remini Vanessa Hudgens Pet...</td>\n",
       "      <td>Romance Comedy</td>\n",
       "    </tr>\n",
       "    <tr>\n",
       "      <th>57</th>\n",
       "      <td>Holmes &amp; Watson</td>\n",
       "      <td>holmes &amp; watson</td>\n",
       "      <td>Etan Cohen</td>\n",
       "      <td>Will Ferrell</td>\n",
       "      <td>John C. Reilly</td>\n",
       "      <td>Rebecca Hall</td>\n",
       "      <td>Will Ferrell John C. Reilly Rebecca Hall Etan ...</td>\n",
       "      <td>Mystery Adventure Comedy Crime</td>\n",
       "    </tr>\n",
       "    <tr>\n",
       "      <th>58</th>\n",
       "      <td>Vice</td>\n",
       "      <td>vice</td>\n",
       "      <td>Adam McKay</td>\n",
       "      <td>Christian Bale</td>\n",
       "      <td>Amy Adams</td>\n",
       "      <td>Steve Carell</td>\n",
       "      <td>Christian Bale Amy Adams Steve Carell Adam McKay</td>\n",
       "      <td>Comedy Drama</td>\n",
       "    </tr>\n",
       "    <tr>\n",
       "      <th>59</th>\n",
       "      <td>On the Basis of Sex</td>\n",
       "      <td>on the basis of sex</td>\n",
       "      <td>Mimi Leder</td>\n",
       "      <td>Felicity Jones</td>\n",
       "      <td>Armie Hammer</td>\n",
       "      <td>Justin Theroux</td>\n",
       "      <td>Felicity Jones Armie Hammer Justin Theroux Mim...</td>\n",
       "      <td>Drama History</td>\n",
       "    </tr>\n",
       "    <tr>\n",
       "      <th>60</th>\n",
       "      <td>Destroyer</td>\n",
       "      <td>destroyer</td>\n",
       "      <td>Karyn Kusama</td>\n",
       "      <td>Nicole Kidman</td>\n",
       "      <td>Sebastian Stan</td>\n",
       "      <td>Toby Kebbell</td>\n",
       "      <td>Nicole Kidman Sebastian Stan Toby Kebbell Kary...</td>\n",
       "      <td>Thriller Crime Drama Action</td>\n",
       "    </tr>\n",
       "  </tbody>\n",
       "</table>\n",
       "<p>246 rows × 8 columns</p>\n",
       "</div>"
      ],
      "text/plain": [
       "                      Title              movie_title      director_name  \\\n",
       "0   Insidious: The Last Key  insidious: the last key    Ruben Fleischer   \n",
       "1          The Strange Ones         the strange ones     Bradley Cooper   \n",
       "2              The Commuter             the commuter  Peter Bogdanovich   \n",
       "3                Proud Mary               proud mary    Damien Chazelle   \n",
       "4          Acts of Violence         acts of violence       Drew Goddard   \n",
       "..                      ...                      ...                ...   \n",
       "56               Second Act               second act        Peter Segal   \n",
       "57          Holmes & Watson          holmes & watson         Etan Cohen   \n",
       "58                     Vice                     vice         Adam McKay   \n",
       "59      On the Basis of Sex      on the basis of sex         Mimi Leder   \n",
       "60                Destroyer                destroyer       Karyn Kusama   \n",
       "\n",
       "                               actor_1_name       actor_2_name  \\\n",
       "0                                 Tom Hardy  Michelle Williams   \n",
       "1                            Bradley Cooper          Lady Gaga   \n",
       "2   Peter Bogdanovich (director/screenplay)                NaN   \n",
       "3                              Ryan Gosling         Claire Foy   \n",
       "4                              Jeff Bridges      Cynthia Erivo   \n",
       "..                                      ...                ...   \n",
       "56                           Jennifer Lopez        Leah Remini   \n",
       "57                             Will Ferrell     John C. Reilly   \n",
       "58                           Christian Bale          Amy Adams   \n",
       "59                           Felicity Jones       Armie Hammer   \n",
       "60                            Nicole Kidman     Sebastian Stan   \n",
       "\n",
       "        actor_3_name                                               comb  \\\n",
       "0          Riz Ahmed  Tom Hardy Michelle Williams Riz Ahmed Ruben Fl...   \n",
       "1   Andrew Dice Clay  Bradley Cooper Lady Gaga Andrew Dice Clay Brad...   \n",
       "2                NaN                                                NaN   \n",
       "3       Jason Clarke  Ryan Gosling Claire Foy Jason Clarke Damien Ch...   \n",
       "4     Dakota Johnson  Jeff Bridges Cynthia Erivo Dakota Johnson Drew...   \n",
       "..               ...                                                ...   \n",
       "56   Vanessa Hudgens  Jennifer Lopez Leah Remini Vanessa Hudgens Pet...   \n",
       "57      Rebecca Hall  Will Ferrell John C. Reilly Rebecca Hall Etan ...   \n",
       "58      Steve Carell   Christian Bale Amy Adams Steve Carell Adam McKay   \n",
       "59    Justin Theroux  Felicity Jones Armie Hammer Justin Theroux Mim...   \n",
       "60      Toby Kebbell  Nicole Kidman Sebastian Stan Toby Kebbell Kary...   \n",
       "\n",
       "                            genres  \n",
       "0          Horror Mystery Thriller  \n",
       "1                    Drama Mystery  \n",
       "2          Action Thriller Mystery  \n",
       "3            Thriller Action Crime  \n",
       "4            Action Crime Thriller  \n",
       "..                             ...  \n",
       "56                  Romance Comedy  \n",
       "57  Mystery Adventure Comedy Crime  \n",
       "58                    Comedy Drama  \n",
       "59                   Drama History  \n",
       "60     Thriller Crime Drama Action  \n",
       "\n",
       "[246 rows x 8 columns]"
      ]
     },
     "execution_count": 19,
     "metadata": {},
     "output_type": "execute_result"
    }
   ],
   "source": [
    "movies_2018"
   ]
  },
  {
   "cell_type": "code",
   "execution_count": 20,
   "metadata": {},
   "outputs": [
    {
     "data": {
      "text/plain": [
       "0"
      ]
     },
     "execution_count": 20,
     "metadata": {},
     "output_type": "execute_result"
    }
   ],
   "source": [
    "movies_2018.duplicated().sum()"
   ]
  },
  {
   "cell_type": "code",
   "execution_count": 21,
   "metadata": {},
   "outputs": [
    {
     "data": {
      "text/plain": [
       "Title            0\n",
       "movie_title      0\n",
       "director_name    0\n",
       "actor_1_name     0\n",
       "actor_2_name     5\n",
       "actor_3_name     9\n",
       "comb             9\n",
       "genres           0\n",
       "dtype: int64"
      ]
     },
     "execution_count": 21,
     "metadata": {},
     "output_type": "execute_result"
    }
   ],
   "source": [
    "movies_2018.isnull().sum()"
   ]
  },
  {
   "cell_type": "code",
   "execution_count": 22,
   "metadata": {},
   "outputs": [],
   "source": [
    "movies_2018.dropna(inplace=True)"
   ]
  },
  {
   "cell_type": "code",
   "execution_count": 23,
   "metadata": {},
   "outputs": [
    {
     "data": {
      "text/plain": [
       "Title            0\n",
       "movie_title      0\n",
       "director_name    0\n",
       "actor_1_name     0\n",
       "actor_2_name     0\n",
       "actor_3_name     0\n",
       "comb             0\n",
       "genres           0\n",
       "dtype: int64"
      ]
     },
     "execution_count": 23,
     "metadata": {},
     "output_type": "execute_result"
    }
   ],
   "source": [
    "movies_2018.isnull().sum()"
   ]
  },
  {
   "cell_type": "code",
   "execution_count": 24,
   "metadata": {},
   "outputs": [
    {
     "data": {
      "text/plain": [
       "237"
      ]
     },
     "execution_count": 24,
     "metadata": {},
     "output_type": "execute_result"
    }
   ],
   "source": [
    "len(movies_2018)"
   ]
  },
  {
   "cell_type": "code",
   "execution_count": 26,
   "metadata": {},
   "outputs": [
    {
     "data": {
      "text/html": [
       "<div>\n",
       "<style scoped>\n",
       "    .dataframe tbody tr th:only-of-type {\n",
       "        vertical-align: middle;\n",
       "    }\n",
       "\n",
       "    .dataframe tbody tr th {\n",
       "        vertical-align: top;\n",
       "    }\n",
       "\n",
       "    .dataframe thead th {\n",
       "        text-align: right;\n",
       "    }\n",
       "</style>\n",
       "<table border=\"1\" class=\"dataframe\">\n",
       "  <thead>\n",
       "    <tr style=\"text-align: right;\">\n",
       "      <th></th>\n",
       "      <th>movie_title</th>\n",
       "      <th>director_name</th>\n",
       "      <th>actor_1_name</th>\n",
       "      <th>actor_2_name</th>\n",
       "      <th>actor_3_name</th>\n",
       "      <th>comb</th>\n",
       "      <th>genres</th>\n",
       "    </tr>\n",
       "  </thead>\n",
       "  <tbody>\n",
       "    <tr>\n",
       "      <th>0</th>\n",
       "      <td>insidious: the last key</td>\n",
       "      <td>Ruben Fleischer</td>\n",
       "      <td>Tom Hardy</td>\n",
       "      <td>Michelle Williams</td>\n",
       "      <td>Riz Ahmed</td>\n",
       "      <td>Tom Hardy Michelle Williams Riz Ahmed Ruben Fl...</td>\n",
       "      <td>Horror Mystery Thriller</td>\n",
       "    </tr>\n",
       "    <tr>\n",
       "      <th>1</th>\n",
       "      <td>the strange ones</td>\n",
       "      <td>Bradley Cooper</td>\n",
       "      <td>Bradley Cooper</td>\n",
       "      <td>Lady Gaga</td>\n",
       "      <td>Andrew Dice Clay</td>\n",
       "      <td>Bradley Cooper Lady Gaga Andrew Dice Clay Brad...</td>\n",
       "      <td>Drama Mystery</td>\n",
       "    </tr>\n",
       "    <tr>\n",
       "      <th>3</th>\n",
       "      <td>proud mary</td>\n",
       "      <td>Damien Chazelle</td>\n",
       "      <td>Ryan Gosling</td>\n",
       "      <td>Claire Foy</td>\n",
       "      <td>Jason Clarke</td>\n",
       "      <td>Ryan Gosling Claire Foy Jason Clarke Damien Ch...</td>\n",
       "      <td>Thriller Action Crime</td>\n",
       "    </tr>\n",
       "    <tr>\n",
       "      <th>4</th>\n",
       "      <td>acts of violence</td>\n",
       "      <td>Drew Goddard</td>\n",
       "      <td>Jeff Bridges</td>\n",
       "      <td>Cynthia Erivo</td>\n",
       "      <td>Dakota Johnson</td>\n",
       "      <td>Jeff Bridges Cynthia Erivo Dakota Johnson Drew...</td>\n",
       "      <td>Action Crime Thriller</td>\n",
       "    </tr>\n",
       "    <tr>\n",
       "      <th>5</th>\n",
       "      <td>freak show</td>\n",
       "      <td>Ari Sandel</td>\n",
       "      <td>Wendi McLendon-Covey</td>\n",
       "      <td>Madison Iseman</td>\n",
       "      <td>Jeremy Ray Taylor</td>\n",
       "      <td>Wendi McLendon-Covey Madison Iseman Jeremy Ray...</td>\n",
       "      <td>Comedy Drama</td>\n",
       "    </tr>\n",
       "    <tr>\n",
       "      <th>...</th>\n",
       "      <td>...</td>\n",
       "      <td>...</td>\n",
       "      <td>...</td>\n",
       "      <td>...</td>\n",
       "      <td>...</td>\n",
       "      <td>...</td>\n",
       "      <td>...</td>\n",
       "    </tr>\n",
       "    <tr>\n",
       "      <th>56</th>\n",
       "      <td>second act</td>\n",
       "      <td>Peter Segal</td>\n",
       "      <td>Jennifer Lopez</td>\n",
       "      <td>Leah Remini</td>\n",
       "      <td>Vanessa Hudgens</td>\n",
       "      <td>Jennifer Lopez Leah Remini Vanessa Hudgens Pet...</td>\n",
       "      <td>Romance Comedy</td>\n",
       "    </tr>\n",
       "    <tr>\n",
       "      <th>57</th>\n",
       "      <td>holmes &amp; watson</td>\n",
       "      <td>Etan Cohen</td>\n",
       "      <td>Will Ferrell</td>\n",
       "      <td>John C. Reilly</td>\n",
       "      <td>Rebecca Hall</td>\n",
       "      <td>Will Ferrell John C. Reilly Rebecca Hall Etan ...</td>\n",
       "      <td>Mystery Adventure Comedy Crime</td>\n",
       "    </tr>\n",
       "    <tr>\n",
       "      <th>58</th>\n",
       "      <td>vice</td>\n",
       "      <td>Adam McKay</td>\n",
       "      <td>Christian Bale</td>\n",
       "      <td>Amy Adams</td>\n",
       "      <td>Steve Carell</td>\n",
       "      <td>Christian Bale Amy Adams Steve Carell Adam McKay</td>\n",
       "      <td>Comedy Drama</td>\n",
       "    </tr>\n",
       "    <tr>\n",
       "      <th>59</th>\n",
       "      <td>on the basis of sex</td>\n",
       "      <td>Mimi Leder</td>\n",
       "      <td>Felicity Jones</td>\n",
       "      <td>Armie Hammer</td>\n",
       "      <td>Justin Theroux</td>\n",
       "      <td>Felicity Jones Armie Hammer Justin Theroux Mim...</td>\n",
       "      <td>Drama History</td>\n",
       "    </tr>\n",
       "    <tr>\n",
       "      <th>60</th>\n",
       "      <td>destroyer</td>\n",
       "      <td>Karyn Kusama</td>\n",
       "      <td>Nicole Kidman</td>\n",
       "      <td>Sebastian Stan</td>\n",
       "      <td>Toby Kebbell</td>\n",
       "      <td>Nicole Kidman Sebastian Stan Toby Kebbell Kary...</td>\n",
       "      <td>Thriller Crime Drama Action</td>\n",
       "    </tr>\n",
       "  </tbody>\n",
       "</table>\n",
       "<p>237 rows × 7 columns</p>\n",
       "</div>"
      ],
      "text/plain": [
       "                movie_title    director_name          actor_1_name  \\\n",
       "0   insidious: the last key  Ruben Fleischer             Tom Hardy   \n",
       "1          the strange ones   Bradley Cooper        Bradley Cooper   \n",
       "3                proud mary  Damien Chazelle          Ryan Gosling   \n",
       "4          acts of violence     Drew Goddard          Jeff Bridges   \n",
       "5                freak show       Ari Sandel  Wendi McLendon-Covey   \n",
       "..                      ...              ...                   ...   \n",
       "56               second act      Peter Segal        Jennifer Lopez   \n",
       "57          holmes & watson       Etan Cohen          Will Ferrell   \n",
       "58                     vice       Adam McKay        Christian Bale   \n",
       "59      on the basis of sex       Mimi Leder        Felicity Jones   \n",
       "60                destroyer     Karyn Kusama         Nicole Kidman   \n",
       "\n",
       "         actor_2_name       actor_3_name  \\\n",
       "0   Michelle Williams          Riz Ahmed   \n",
       "1           Lady Gaga   Andrew Dice Clay   \n",
       "3          Claire Foy       Jason Clarke   \n",
       "4       Cynthia Erivo     Dakota Johnson   \n",
       "5      Madison Iseman  Jeremy Ray Taylor   \n",
       "..                ...                ...   \n",
       "56        Leah Remini    Vanessa Hudgens   \n",
       "57     John C. Reilly       Rebecca Hall   \n",
       "58          Amy Adams       Steve Carell   \n",
       "59       Armie Hammer     Justin Theroux   \n",
       "60     Sebastian Stan       Toby Kebbell   \n",
       "\n",
       "                                                 comb  \\\n",
       "0   Tom Hardy Michelle Williams Riz Ahmed Ruben Fl...   \n",
       "1   Bradley Cooper Lady Gaga Andrew Dice Clay Brad...   \n",
       "3   Ryan Gosling Claire Foy Jason Clarke Damien Ch...   \n",
       "4   Jeff Bridges Cynthia Erivo Dakota Johnson Drew...   \n",
       "5   Wendi McLendon-Covey Madison Iseman Jeremy Ray...   \n",
       "..                                                ...   \n",
       "56  Jennifer Lopez Leah Remini Vanessa Hudgens Pet...   \n",
       "57  Will Ferrell John C. Reilly Rebecca Hall Etan ...   \n",
       "58   Christian Bale Amy Adams Steve Carell Adam McKay   \n",
       "59  Felicity Jones Armie Hammer Justin Theroux Mim...   \n",
       "60  Nicole Kidman Sebastian Stan Toby Kebbell Kary...   \n",
       "\n",
       "                            genres  \n",
       "0          Horror Mystery Thriller  \n",
       "1                    Drama Mystery  \n",
       "3            Thriller Action Crime  \n",
       "4            Action Crime Thriller  \n",
       "5                     Comedy Drama  \n",
       "..                             ...  \n",
       "56                  Romance Comedy  \n",
       "57  Mystery Adventure Comedy Crime  \n",
       "58                    Comedy Drama  \n",
       "59                   Drama History  \n",
       "60     Thriller Crime Drama Action  \n",
       "\n",
       "[237 rows x 7 columns]"
      ]
     },
     "execution_count": 26,
     "metadata": {},
     "output_type": "execute_result"
    }
   ],
   "source": [
    "movies_2018"
   ]
  },
  {
   "cell_type": "code",
   "execution_count": 25,
   "metadata": {},
   "outputs": [],
   "source": [
    "movies_2018 = movies_2018.drop('Title',axis=1)"
   ]
  },
  {
   "cell_type": "code",
   "execution_count": 27,
   "metadata": {},
   "outputs": [],
   "source": [
    "movies_2018.to_csv('data_2018_american.csv',index=False)"
   ]
  },
  {
   "cell_type": "code",
   "execution_count": 28,
   "metadata": {},
   "outputs": [],
   "source": [
    "\n",
    "# Using LRU cache to store results of previously fetched movie genres\n",
    "@lru_cache(maxsize=1000)\n",
    "def fetch_movie_genres(movie_id):\n",
    "    try:\n",
    "        response = session.get(f'https://api.themoviedb.org/3/movie/{movie_id}?api_key={tmdb.api_key}')\n",
    "        if response.status_code != 200:\n",
    "            return np.nan\n",
    "        \n",
    "        data_json = response.json()\n",
    "        if 'genres' in data_json and data_json['genres']:\n",
    "            return \" \".join([genre['name'] for genre in data_json['genres']])\n",
    "        else:\n",
    "            return np.nan\n",
    "    except Exception as e:\n",
    "        print(f\"Error fetching genres for movie ID {movie_id}: {e}\")\n",
    "        return np.nan\n",
    "\n",
    "def get_genres(x):\n",
    "    try:\n",
    "        result = tmdb_movie.search(x)\n",
    "        if not result:\n",
    "            return np.nan\n",
    "        \n",
    "        movie_id = result[0].id\n",
    "        return fetch_movie_genres(movie_id)\n",
    "    except Exception as e:\n",
    "        print(f\"Error fetching genres for {x}: {e}\")\n",
    "        return np.nan\n",
    "\n",
    "def get_director(x):\n",
    "    if \" (director)\" in x:\n",
    "        return x.split(\" (director)\")[0]\n",
    "    elif \" (directors)\" in x:\n",
    "        return x.split(\" (directors)\")[0]\n",
    "    else:\n",
    "        return x.split(\" (director/screenplay)\")[0]\n",
    "\n",
    "def get_actor1(x):\n",
    "    return ((x.split(\"screenplay); \")[-1]).split(\", \")[0])\n",
    "\n",
    "def get_actor2(x):\n",
    "    actors = (x.split(\"screenplay); \")[-1]).split(\", \")\n",
    "    return actors[1] if len(actors) > 1 else np.NaN\n",
    "\n",
    "def get_actor3(x):\n",
    "    actors = (x.split(\"screenplay); \")[-1]).split(\", \")\n",
    "    return actors[2] if len(actors) > 2 else np.NaN\n",
    "\n",
    "def fetch_html(url):\n",
    "    try:\n",
    "        response = session.get(url, timeout=20)\n",
    "        response.raise_for_status()\n",
    "        return response.content\n",
    "    except Timeout:\n",
    "        print(f\"Request timed out for URL {url}.\")\n",
    "        return None\n",
    "    except ConnectionError as e:\n",
    "        print(f\"Connection error for URL {url}: {e}\")\n",
    "        return None\n",
    "    except RequestException as e:\n",
    "        print(f\"Request error fetching data from URL {url}: {e}\")\n",
    "        return None\n",
    "    except Exception as e:\n",
    "        print(f\"Unexpected error fetching data from URL {url}: {e}\")\n",
    "        return None\n",
    "\n",
    "def process_actors_directors(cast_crew):\n",
    "    return {\n",
    "        'director_name': get_director(cast_crew),\n",
    "        'actor_1_name': get_actor1(cast_crew),\n",
    "        'actor_2_name': get_actor2(cast_crew),\n",
    "        'actor_3_name': get_actor3(cast_crew)\n",
    "    }\n",
    "\n",
    "def create_df(url):\n",
    "    # Fetch HTML content from the URL\n",
    "    html_content = fetch_html(url)\n",
    "\n",
    "    # Read HTML data using pandas if content is fetched successfully\n",
    "    if html_content:\n",
    "        try:\n",
    "            # Reading multiple tables on the page\n",
    "            tables = pd.read_html(html_content, header=0)\n",
    "            # Extract specific tables\n",
    "            df1 = tables[2]\n",
    "            df2 = tables[3]\n",
    "            df3 = tables[4]\n",
    "            df4 = tables[5]\n",
    "        except Exception as e:\n",
    "            print(f\"Error reading HTML content: {e}\")\n",
    "            return None\n",
    "    else:\n",
    "        print(\"Failed to fetch HTML content.\")\n",
    "        return None\n",
    "\n",
    "    movies = pd.concat([df1, df2, df3, df4], axis=0)\n",
    "    movies = movies[['Title', 'Cast and crew']]\n",
    "    movies['movie_title'] = movies['Title'].str.lower()\n",
    "    \n",
    "    # Parallelize the process of extracting director and actors\n",
    "    with ThreadPoolExecutor(max_workers=10) as executor:\n",
    "        futures = {executor.submit(process_actors_directors, row['Cast and crew']): index for index, row in movies.iterrows()}\n",
    "        for future in as_completed(futures):\n",
    "            index = futures[future]\n",
    "            try:\n",
    "                result = future.result()\n",
    "                movies.at[index, 'director_name'] = result['director_name']\n",
    "                movies.at[index, 'actor_1_name'] = result['actor_1_name']\n",
    "                movies.at[index, 'actor_2_name'] = result['actor_2_name']\n",
    "                movies.at[index, 'actor_3_name'] = result['actor_3_name']\n",
    "            except Exception as e:\n",
    "                print(f\"Error processing actors and directors for row {index}: {e}\")\n",
    "\n",
    "    movies.drop(\"Cast and crew\", axis=1, inplace=True)\n",
    "    movies['comb'] = movies['actor_1_name'] + \" \" + movies['actor_2_name'] + \" \" + movies['actor_3_name'] + \" \" + movies['director_name']\n",
    "\n",
    "    # Parallelize genre fetching\n",
    "    with ThreadPoolExecutor(max_workers=10) as executor:\n",
    "        future_to_title = {executor.submit(get_genres, title): title for title in movies['movie_title']}\n",
    "        for future in as_completed(future_to_title):\n",
    "            title = future_to_title[future]\n",
    "            try:\n",
    "                genres = future.result()\n",
    "                movies.loc[movies['movie_title'] == title, 'genres'] = genres\n",
    "            except Exception as e:\n",
    "                print(f\"Error fetching genres for {title}: {e}\")\n",
    "\n",
    "    return movies\n",
    "\n",
    "\n"
   ]
  },
  {
   "cell_type": "code",
   "execution_count": 29,
   "metadata": {},
   "outputs": [
    {
     "name": "stderr",
     "output_type": "stream",
     "text": [
      "C:\\Users\\shekh\\AppData\\Local\\Temp\\ipykernel_17960\\1453033968.py:107: FutureWarning: Setting an item of incompatible dtype is deprecated and will raise in a future error of pandas. Value 'Adam Shankman' has dtype incompatible with float64, please explicitly cast to a compatible dtype first.\n",
      "  movies.at[index, 'director_name'] = result['director_name']\n",
      "C:\\Users\\shekh\\AppData\\Local\\Temp\\ipykernel_17960\\1453033968.py:108: FutureWarning: Setting an item of incompatible dtype is deprecated and will raise in a future error of pandas. Value 'Taraji P. Henson' has dtype incompatible with float64, please explicitly cast to a compatible dtype first.\n",
      "  movies.at[index, 'actor_1_name'] = result['actor_1_name']\n",
      "C:\\Users\\shekh\\AppData\\Local\\Temp\\ipykernel_17960\\1453033968.py:109: FutureWarning: Setting an item of incompatible dtype is deprecated and will raise in a future error of pandas. Value 'Tracy Morgan' has dtype incompatible with float64, please explicitly cast to a compatible dtype first.\n",
      "  movies.at[index, 'actor_2_name'] = result['actor_2_name']\n",
      "C:\\Users\\shekh\\AppData\\Local\\Temp\\ipykernel_17960\\1453033968.py:110: FutureWarning: Setting an item of incompatible dtype is deprecated and will raise in a future error of pandas. Value 'Max Greenfield' has dtype incompatible with float64, please explicitly cast to a compatible dtype first.\n",
      "  movies.at[index, 'actor_3_name'] = result['actor_3_name']\n",
      "C:\\Users\\shekh\\AppData\\Local\\Temp\\ipykernel_17960\\1453033968.py:124: FutureWarning: Setting an item of incompatible dtype is deprecated and will raise in a future error of pandas. Value 'Thriller Drama Action Crime' has dtype incompatible with float64, please explicitly cast to a compatible dtype first.\n",
      "  movies.loc[movies['movie_title'] == title, 'genres'] = genres\n"
     ]
    },
    {
     "name": "stdout",
     "output_type": "stream",
     "text": [
      "Error fetching genres for little monsters: HTTPSConnectionPool(host='api.themoviedb.org', port=443): Max retries exceeded with url: /3/search/movie?api_key=6d8bfe0dbef34d25e64f64cabec93e20&query=little%20monsters&page=1&language=en-US (Caused by ConnectTimeoutError(<urllib3.connection.HTTPSConnection object at 0x000001B7CB2BFF10>, 'Connection to api.themoviedb.org timed out. (connect timeout=None)'))\n",
      "Error fetching genres for wounds: HTTPSConnectionPool(host='api.themoviedb.org', port=443): Max retries exceeded with url: /3/search/movie?api_key=6d8bfe0dbef34d25e64f64cabec93e20&query=wounds&page=1&language=en-US (Caused by ConnectTimeoutError(<urllib3.connection.HTTPSConnection object at 0x000001B7CE26F290>, 'Connection to api.themoviedb.org timed out. (connect timeout=None)'))\n",
      "Error fetching genres for black and blue: HTTPSConnectionPool(host='api.themoviedb.org', port=443): Max retries exceeded with url: /3/search/movie?api_key=6d8bfe0dbef34d25e64f64cabec93e20&query=black%20and%20blue&page=1&language=en-US (Caused by ConnectTimeoutError(<urllib3.connection.HTTPSConnection object at 0x000001B7CE270ED0>, 'Connection to api.themoviedb.org timed out. (connect timeout=None)'))\n",
      "Error fetching genres for the current war: HTTPSConnectionPool(host='api.themoviedb.org', port=443): Max retries exceeded with url: /3/search/movie?api_key=6d8bfe0dbef34d25e64f64cabec93e20&query=the%20current%20war&page=1&language=en-US (Caused by ConnectTimeoutError(<urllib3.connection.HTTPSConnection object at 0x000001B7CE272C90>, 'Connection to api.themoviedb.org timed out. (connect timeout=None)'))\n",
      "Error fetching genres for the aeronauts: HTTPSConnectionPool(host='api.themoviedb.org', port=443): Max retries exceeded with url: /3/search/movie?api_key=6d8bfe0dbef34d25e64f64cabec93e20&query=the%20aeronauts&page=1&language=en-US (Caused by ConnectTimeoutError(<urllib3.connection.HTTPSConnection object at 0x000001B7CE2E7650>, 'Connection to api.themoviedb.org timed out. (connect timeout=None)'))\n",
      "Error fetching genres for 6 underground: HTTPSConnectionPool(host='api.themoviedb.org', port=443): Max retries exceeded with url: /3/search/movie?api_key=6d8bfe0dbef34d25e64f64cabec93e20&query=6%20underground&page=1&language=en-US (Caused by ConnectTimeoutError(<urllib3.connection.HTTPSConnection object at 0x000001B7CE35E150>, 'Connection to api.themoviedb.org timed out. (connect timeout=None)'))\n",
      "Error fetching genres for seberg: HTTPSConnectionPool(host='api.themoviedb.org', port=443): Max retries exceeded with url: /3/search/movie?api_key=6d8bfe0dbef34d25e64f64cabec93e20&query=seberg&page=1&language=en-US (Caused by ConnectTimeoutError(<urllib3.connection.HTTPSConnection object at 0x000001B7D030E950>, 'Connection to api.themoviedb.org timed out. (connect timeout=None)'))\n",
      "Error fetching genres for togo: HTTPSConnectionPool(host='api.themoviedb.org', port=443): Max retries exceeded with url: /3/search/movie?api_key=6d8bfe0dbef34d25e64f64cabec93e20&query=togo&page=1&language=en-US (Caused by ConnectTimeoutError(<urllib3.connection.HTTPSConnection object at 0x000001B7D0328350>, 'Connection to api.themoviedb.org timed out. (connect timeout=None)'))\n"
     ]
    }
   ],
   "source": [
    "\n",
    "movies_2019 = create_df(\"https://en.wikipedia.org/wiki/List_of_American_films_of_2019\")"
   ]
  },
  {
   "cell_type": "code",
   "execution_count": 30,
   "metadata": {},
   "outputs": [
    {
     "data": {
      "text/html": [
       "<div>\n",
       "<style scoped>\n",
       "    .dataframe tbody tr th:only-of-type {\n",
       "        vertical-align: middle;\n",
       "    }\n",
       "\n",
       "    .dataframe tbody tr th {\n",
       "        vertical-align: top;\n",
       "    }\n",
       "\n",
       "    .dataframe thead th {\n",
       "        text-align: right;\n",
       "    }\n",
       "</style>\n",
       "<table border=\"1\" class=\"dataframe\">\n",
       "  <thead>\n",
       "    <tr style=\"text-align: right;\">\n",
       "      <th></th>\n",
       "      <th>Title</th>\n",
       "      <th>movie_title</th>\n",
       "      <th>director_name</th>\n",
       "      <th>actor_1_name</th>\n",
       "      <th>actor_2_name</th>\n",
       "      <th>actor_3_name</th>\n",
       "      <th>comb</th>\n",
       "      <th>genres</th>\n",
       "    </tr>\n",
       "  </thead>\n",
       "  <tbody>\n",
       "    <tr>\n",
       "      <th>0</th>\n",
       "      <td>Escape Room</td>\n",
       "      <td>escape room</td>\n",
       "      <td>Todd Phillips</td>\n",
       "      <td>Joaquin Phoenix</td>\n",
       "      <td>Robert De Niro</td>\n",
       "      <td>Zazie Beetz</td>\n",
       "      <td>Joaquin Phoenix Robert De Niro Zazie Beetz Tod...</td>\n",
       "      <td>Horror Thriller Mystery</td>\n",
       "    </tr>\n",
       "    <tr>\n",
       "      <th>1</th>\n",
       "      <td>Rust Creek</td>\n",
       "      <td>rust creek</td>\n",
       "      <td>Noah Hawley</td>\n",
       "      <td>Natalie Portman</td>\n",
       "      <td>Jon Hamm</td>\n",
       "      <td>Zazie Beetz</td>\n",
       "      <td>Natalie Portman Jon Hamm Zazie Beetz Noah Hawley</td>\n",
       "      <td>Thriller Drama Action Crime</td>\n",
       "    </tr>\n",
       "    <tr>\n",
       "      <th>2</th>\n",
       "      <td>American Hangman</td>\n",
       "      <td>american hangman</td>\n",
       "      <td>Craig Brewer</td>\n",
       "      <td>Eddie Murphy</td>\n",
       "      <td>Keegan-Michael Key</td>\n",
       "      <td>Mike Epps</td>\n",
       "      <td>Eddie Murphy Keegan-Michael Key Mike Epps Crai...</td>\n",
       "      <td>Thriller</td>\n",
       "    </tr>\n",
       "    <tr>\n",
       "      <th>3</th>\n",
       "      <td>A Dog's Way Home</td>\n",
       "      <td>a dog's way home</td>\n",
       "      <td>Vincenzo Natali</td>\n",
       "      <td>Patrick Wilson</td>\n",
       "      <td>Harrison Gilbertson</td>\n",
       "      <td>Rachel Wilson</td>\n",
       "      <td>Patrick Wilson Harrison Gilbertson Rachel Wils...</td>\n",
       "      <td>Drama Adventure Family</td>\n",
       "    </tr>\n",
       "    <tr>\n",
       "      <th>4</th>\n",
       "      <td>The Upside</td>\n",
       "      <td>the upside</td>\n",
       "      <td>Kevin McMullin</td>\n",
       "      <td>Keean Johnson</td>\n",
       "      <td>Jaeden Martell</td>\n",
       "      <td>Alex Neustaedter</td>\n",
       "      <td>Keean Johnson Jaeden Martell Alex Neustaedter ...</td>\n",
       "      <td>Comedy Drama</td>\n",
       "    </tr>\n",
       "  </tbody>\n",
       "</table>\n",
       "</div>"
      ],
      "text/plain": [
       "              Title       movie_title    director_name     actor_1_name  \\\n",
       "0       Escape Room       escape room    Todd Phillips  Joaquin Phoenix   \n",
       "1        Rust Creek        rust creek      Noah Hawley  Natalie Portman   \n",
       "2  American Hangman  american hangman     Craig Brewer     Eddie Murphy   \n",
       "3  A Dog's Way Home  a dog's way home  Vincenzo Natali   Patrick Wilson   \n",
       "4        The Upside        the upside   Kevin McMullin    Keean Johnson   \n",
       "\n",
       "          actor_2_name      actor_3_name  \\\n",
       "0       Robert De Niro       Zazie Beetz   \n",
       "1             Jon Hamm       Zazie Beetz   \n",
       "2   Keegan-Michael Key         Mike Epps   \n",
       "3  Harrison Gilbertson     Rachel Wilson   \n",
       "4       Jaeden Martell  Alex Neustaedter   \n",
       "\n",
       "                                                comb  \\\n",
       "0  Joaquin Phoenix Robert De Niro Zazie Beetz Tod...   \n",
       "1   Natalie Portman Jon Hamm Zazie Beetz Noah Hawley   \n",
       "2  Eddie Murphy Keegan-Michael Key Mike Epps Crai...   \n",
       "3  Patrick Wilson Harrison Gilbertson Rachel Wils...   \n",
       "4  Keean Johnson Jaeden Martell Alex Neustaedter ...   \n",
       "\n",
       "                        genres  \n",
       "0      Horror Thriller Mystery  \n",
       "1  Thriller Drama Action Crime  \n",
       "2                     Thriller  \n",
       "3       Drama Adventure Family  \n",
       "4                 Comedy Drama  "
      ]
     },
     "execution_count": 30,
     "metadata": {},
     "output_type": "execute_result"
    }
   ],
   "source": [
    "movies_2019.head(5)"
   ]
  },
  {
   "cell_type": "code",
   "execution_count": 31,
   "metadata": {},
   "outputs": [],
   "source": [
    "movies_2019.drop('Title',axis=1,inplace=True)"
   ]
  },
  {
   "cell_type": "code",
   "execution_count": 32,
   "metadata": {},
   "outputs": [
    {
     "data": {
      "text/html": [
       "<div>\n",
       "<style scoped>\n",
       "    .dataframe tbody tr th:only-of-type {\n",
       "        vertical-align: middle;\n",
       "    }\n",
       "\n",
       "    .dataframe tbody tr th {\n",
       "        vertical-align: top;\n",
       "    }\n",
       "\n",
       "    .dataframe thead th {\n",
       "        text-align: right;\n",
       "    }\n",
       "</style>\n",
       "<table border=\"1\" class=\"dataframe\">\n",
       "  <thead>\n",
       "    <tr style=\"text-align: right;\">\n",
       "      <th></th>\n",
       "      <th>movie_title</th>\n",
       "      <th>director_name</th>\n",
       "      <th>actor_1_name</th>\n",
       "      <th>actor_2_name</th>\n",
       "      <th>actor_3_name</th>\n",
       "      <th>comb</th>\n",
       "      <th>genres</th>\n",
       "    </tr>\n",
       "  </thead>\n",
       "  <tbody>\n",
       "    <tr>\n",
       "      <th>0</th>\n",
       "      <td>escape room</td>\n",
       "      <td>Todd Phillips</td>\n",
       "      <td>Joaquin Phoenix</td>\n",
       "      <td>Robert De Niro</td>\n",
       "      <td>Zazie Beetz</td>\n",
       "      <td>Joaquin Phoenix Robert De Niro Zazie Beetz Tod...</td>\n",
       "      <td>Horror Thriller Mystery</td>\n",
       "    </tr>\n",
       "    <tr>\n",
       "      <th>1</th>\n",
       "      <td>rust creek</td>\n",
       "      <td>Noah Hawley</td>\n",
       "      <td>Natalie Portman</td>\n",
       "      <td>Jon Hamm</td>\n",
       "      <td>Zazie Beetz</td>\n",
       "      <td>Natalie Portman Jon Hamm Zazie Beetz Noah Hawley</td>\n",
       "      <td>Thriller Drama Action Crime</td>\n",
       "    </tr>\n",
       "    <tr>\n",
       "      <th>2</th>\n",
       "      <td>american hangman</td>\n",
       "      <td>Craig Brewer</td>\n",
       "      <td>Eddie Murphy</td>\n",
       "      <td>Keegan-Michael Key</td>\n",
       "      <td>Mike Epps</td>\n",
       "      <td>Eddie Murphy Keegan-Michael Key Mike Epps Crai...</td>\n",
       "      <td>Thriller</td>\n",
       "    </tr>\n",
       "    <tr>\n",
       "      <th>3</th>\n",
       "      <td>a dog's way home</td>\n",
       "      <td>Vincenzo Natali</td>\n",
       "      <td>Patrick Wilson</td>\n",
       "      <td>Harrison Gilbertson</td>\n",
       "      <td>Rachel Wilson</td>\n",
       "      <td>Patrick Wilson Harrison Gilbertson Rachel Wils...</td>\n",
       "      <td>Drama Adventure Family</td>\n",
       "    </tr>\n",
       "    <tr>\n",
       "      <th>4</th>\n",
       "      <td>the upside</td>\n",
       "      <td>Kevin McMullin</td>\n",
       "      <td>Keean Johnson</td>\n",
       "      <td>Jaeden Martell</td>\n",
       "      <td>Alex Neustaedter</td>\n",
       "      <td>Keean Johnson Jaeden Martell Alex Neustaedter ...</td>\n",
       "      <td>Comedy Drama</td>\n",
       "    </tr>\n",
       "  </tbody>\n",
       "</table>\n",
       "</div>"
      ],
      "text/plain": [
       "        movie_title    director_name     actor_1_name         actor_2_name  \\\n",
       "0       escape room    Todd Phillips  Joaquin Phoenix       Robert De Niro   \n",
       "1        rust creek      Noah Hawley  Natalie Portman             Jon Hamm   \n",
       "2  american hangman     Craig Brewer     Eddie Murphy   Keegan-Michael Key   \n",
       "3  a dog's way home  Vincenzo Natali   Patrick Wilson  Harrison Gilbertson   \n",
       "4        the upside   Kevin McMullin    Keean Johnson       Jaeden Martell   \n",
       "\n",
       "       actor_3_name                                               comb  \\\n",
       "0       Zazie Beetz  Joaquin Phoenix Robert De Niro Zazie Beetz Tod...   \n",
       "1       Zazie Beetz   Natalie Portman Jon Hamm Zazie Beetz Noah Hawley   \n",
       "2         Mike Epps  Eddie Murphy Keegan-Michael Key Mike Epps Crai...   \n",
       "3     Rachel Wilson  Patrick Wilson Harrison Gilbertson Rachel Wils...   \n",
       "4  Alex Neustaedter  Keean Johnson Jaeden Martell Alex Neustaedter ...   \n",
       "\n",
       "                        genres  \n",
       "0      Horror Thriller Mystery  \n",
       "1  Thriller Drama Action Crime  \n",
       "2                     Thriller  \n",
       "3       Drama Adventure Family  \n",
       "4                 Comedy Drama  "
      ]
     },
     "execution_count": 32,
     "metadata": {},
     "output_type": "execute_result"
    }
   ],
   "source": [
    "movies_2019.head()"
   ]
  },
  {
   "cell_type": "code",
   "execution_count": 33,
   "metadata": {},
   "outputs": [
    {
     "data": {
      "text/plain": [
       "movie_title       0\n",
       "director_name     0\n",
       "actor_1_name      0\n",
       "actor_2_name      0\n",
       "actor_3_name     18\n",
       "comb             18\n",
       "genres            8\n",
       "dtype: int64"
      ]
     },
     "execution_count": 33,
     "metadata": {},
     "output_type": "execute_result"
    }
   ],
   "source": [
    "movies_2019.isnull().sum()"
   ]
  },
  {
   "cell_type": "code",
   "execution_count": 34,
   "metadata": {},
   "outputs": [],
   "source": [
    "movies_2019.dropna(inplace=True)"
   ]
  },
  {
   "cell_type": "code",
   "execution_count": 35,
   "metadata": {},
   "outputs": [
    {
     "data": {
      "text/plain": [
       "movie_title      0\n",
       "director_name    0\n",
       "actor_1_name     0\n",
       "actor_2_name     0\n",
       "actor_3_name     0\n",
       "comb             0\n",
       "genres           0\n",
       "dtype: int64"
      ]
     },
     "execution_count": 35,
     "metadata": {},
     "output_type": "execute_result"
    }
   ],
   "source": [
    "movies_2019.isnull().sum()"
   ]
  },
  {
   "cell_type": "code",
   "execution_count": 36,
   "metadata": {},
   "outputs": [
    {
     "data": {
      "text/plain": [
       "221"
      ]
     },
     "execution_count": 36,
     "metadata": {},
     "output_type": "execute_result"
    }
   ],
   "source": [
    "len(movies_2019)"
   ]
  },
  {
   "cell_type": "code",
   "execution_count": 37,
   "metadata": {},
   "outputs": [
    {
     "data": {
      "text/plain": [
       "0"
      ]
     },
     "execution_count": 37,
     "metadata": {},
     "output_type": "execute_result"
    }
   ],
   "source": [
    "movies_2019.duplicated().sum()"
   ]
  },
  {
   "cell_type": "code",
   "execution_count": 38,
   "metadata": {},
   "outputs": [],
   "source": [
    "movies_2019.to_csv(\"data_2019_american.csv\",index=False)"
   ]
  },
  {
   "cell_type": "code",
   "execution_count": 39,
   "metadata": {},
   "outputs": [
    {
     "name": "stderr",
     "output_type": "stream",
     "text": [
      "C:\\Users\\shekh\\AppData\\Local\\Temp\\ipykernel_17960\\1453033968.py:107: FutureWarning: Setting an item of incompatible dtype is deprecated and will raise in a future error of pandas. Value 'Brett Haley' has dtype incompatible with float64, please explicitly cast to a compatible dtype first.\n",
      "  movies.at[index, 'director_name'] = result['director_name']\n",
      "C:\\Users\\shekh\\AppData\\Local\\Temp\\ipykernel_17960\\1453033968.py:108: FutureWarning: Setting an item of incompatible dtype is deprecated and will raise in a future error of pandas. Value 'Auliʻi Cravalho' has dtype incompatible with float64, please explicitly cast to a compatible dtype first.\n",
      "  movies.at[index, 'actor_1_name'] = result['actor_1_name']\n",
      "C:\\Users\\shekh\\AppData\\Local\\Temp\\ipykernel_17960\\1453033968.py:109: FutureWarning: Setting an item of incompatible dtype is deprecated and will raise in a future error of pandas. Value 'Rhenzy Feliz' has dtype incompatible with float64, please explicitly cast to a compatible dtype first.\n",
      "  movies.at[index, 'actor_2_name'] = result['actor_2_name']\n",
      "C:\\Users\\shekh\\AppData\\Local\\Temp\\ipykernel_17960\\1453033968.py:110: FutureWarning: Setting an item of incompatible dtype is deprecated and will raise in a future error of pandas. Value 'Judy Reyes' has dtype incompatible with float64, please explicitly cast to a compatible dtype first.\n",
      "  movies.at[index, 'actor_3_name'] = result['actor_3_name']\n",
      "C:\\Users\\shekh\\AppData\\Local\\Temp\\ipykernel_17960\\1453033968.py:124: FutureWarning: Setting an item of incompatible dtype is deprecated and will raise in a future error of pandas. Value 'Family Comedy Fantasy Adventure' has dtype incompatible with float64, please explicitly cast to a compatible dtype first.\n",
      "  movies.loc[movies['movie_title'] == title, 'genres'] = genres\n"
     ]
    },
    {
     "name": "stdout",
     "output_type": "stream",
     "text": [
      "Error fetching genres for no films had been released on this date as resulting the closure of theaters caused by the covid-19 pandemic: attribute name must be string, not 'int'\n",
      "Error fetching genres for the spongebob movie: sponge on the run (canadian theatrical release): attribute name must be string, not 'int'\n",
      "Error fetching genres for the craft: legacy: HTTPSConnectionPool(host='api.themoviedb.org', port=443): Max retries exceeded with url: /3/search/movie?api_key=6d8bfe0dbef34d25e64f64cabec93e20&query=the%20craft%3A%20legacy&page=1&language=en-US (Caused by ConnectTimeoutError(<urllib3.connection.HTTPSConnection object at 0x000001B7DB67DFD0>, 'Connection to api.themoviedb.org timed out. (connect timeout=None)'))\n",
      "Error fetching genres for holidate: HTTPSConnectionPool(host='api.themoviedb.org', port=443): Max retries exceeded with url: /3/search/movie?api_key=6d8bfe0dbef34d25e64f64cabec93e20&query=holidate&page=1&language=en-US (Caused by ConnectTimeoutError(<urllib3.connection.HTTPSConnection object at 0x000001B7DB69A550>, 'Connection to api.themoviedb.org timed out. (connect timeout=None)'))\n",
      "Error fetching genres for his house: HTTPSConnectionPool(host='api.themoviedb.org', port=443): Max retries exceeded with url: /3/search/movie?api_key=6d8bfe0dbef34d25e64f64cabec93e20&query=his%20house&page=1&language=en-US (Caused by ConnectTimeoutError(<urllib3.connection.HTTPSConnection object at 0x000001B7DB69AA90>, 'Connection to api.themoviedb.org timed out. (connect timeout=None)'))\n",
      "Error fetching genres for come play: HTTPSConnectionPool(host='api.themoviedb.org', port=443): Max retries exceeded with url: /3/search/movie?api_key=6d8bfe0dbef34d25e64f64cabec93e20&query=come%20play&page=1&language=en-US (Caused by ConnectTimeoutError(<urllib3.connection.HTTPSConnection object at 0x000001B7DB69AD90>, 'Connection to api.themoviedb.org timed out. (connect timeout=None)'))\n",
      "Error fetching genres for let him go: HTTPSConnectionPool(host='api.themoviedb.org', port=443): Max retries exceeded with url: /3/search/movie?api_key=6d8bfe0dbef34d25e64f64cabec93e20&query=let%20him%20go&page=1&language=en-US (Caused by ConnectTimeoutError(<urllib3.connection.HTTPSConnection object at 0x000001B7DB678750>, 'Connection to api.themoviedb.org timed out. (connect timeout=None)'))\n",
      "Error fetching genres for hillbilly elegy: HTTPSConnectionPool(host='api.themoviedb.org', port=443): Max retries exceeded with url: /3/search/movie?api_key=6d8bfe0dbef34d25e64f64cabec93e20&query=hillbilly%20elegy&page=1&language=en-US (Caused by ConnectTimeoutError(<urllib3.connection.HTTPSConnection object at 0x000001B7DB6AF3D0>, 'Connection to api.themoviedb.org timed out. (connect timeout=None)'))\n",
      "Error fetching genres for dreamland: HTTPSConnectionPool(host='api.themoviedb.org', port=443): Max retries exceeded with url: /3/search/movie?api_key=6d8bfe0dbef34d25e64f64cabec93e20&query=dreamland&page=1&language=en-US (Caused by ConnectTimeoutError(<urllib3.connection.HTTPSConnection object at 0x000001B7DB6DE790>, 'Connection to api.themoviedb.org timed out. (connect timeout=None)'))\n",
      "Error fetching genres for the life ahead: HTTPSConnectionPool(host='api.themoviedb.org', port=443): Max retries exceeded with url: /3/search/movie?api_key=6d8bfe0dbef34d25e64f64cabec93e20&query=the%20life%20ahead&page=1&language=en-US (Caused by ConnectTimeoutError(<urllib3.connection.HTTPSConnection object at 0x000001B7DB6E9CD0>, 'Connection to api.themoviedb.org timed out. (connect timeout=None)'))\n",
      "Error fetching genres for the princess switch: switched again: HTTPSConnectionPool(host='api.themoviedb.org', port=443): Max retries exceeded with url: /3/search/movie?api_key=6d8bfe0dbef34d25e64f64cabec93e20&query=the%20princess%20switch%3A%20switched%20again&page=1&language=en-US (Caused by ConnectTimeoutError(<urllib3.connection.HTTPSConnection object at 0x000001B7DB6EF4D0>, 'Connection to api.themoviedb.org timed out. (connect timeout=None)'))\n",
      "Error fetching genres for chick fight: HTTPSConnectionPool(host='api.themoviedb.org', port=443): Max retries exceeded with url: /3/search/movie?api_key=6d8bfe0dbef34d25e64f64cabec93e20&query=chick%20fight&page=1&language=en-US (Caused by ConnectTimeoutError(<urllib3.connection.HTTPSConnection object at 0x000001B7DB6EFE10>, 'Connection to api.themoviedb.org timed out. (connect timeout=None)'))\n",
      "Error fetching genres for folklore: the long pond studio sessions: HTTPSConnectionPool(host='api.themoviedb.org', port=443): Max retries exceeded with url: /3/search/movie?api_key=6d8bfe0dbef34d25e64f64cabec93e20&query=folklore%3A%20the%20long%20pond%20studio%20sessions&page=1&language=en-US (Caused by NewConnectionError('<urllib3.connection.HTTPSConnection object at 0x000001B7D03C2ED0>: Failed to establish a new connection: [Errno 11001] getaddrinfo failed'))\n",
      "Error fetching genres for jiu jitsu: HTTPSConnectionPool(host='api.themoviedb.org', port=443): Max retries exceeded with url: /3/search/movie?api_key=6d8bfe0dbef34d25e64f64cabec93e20&query=jiu%20jitsu&page=1&language=en-US (Caused by ConnectTimeoutError(<urllib3.connection.HTTPSConnection object at 0x000001B7DB6778D0>, 'Connection to api.themoviedb.org timed out. (connect timeout=None)'))\n",
      "Error fetching genres for superintelligence: HTTPSConnectionPool(host='api.themoviedb.org', port=443): Max retries exceeded with url: /3/search/movie?api_key=6d8bfe0dbef34d25e64f64cabec93e20&query=superintelligence&page=1&language=en-US (Caused by NewConnectionError('<urllib3.connection.HTTPSConnection object at 0x000001B7DB6D6DD0>: Failed to establish a new connection: [Errno 11001] getaddrinfo failed'))Error fetching genres for godmothered: HTTPSConnectionPool(host='api.themoviedb.org', port=443): Max retries exceeded with url: /3/search/movie?api_key=6d8bfe0dbef34d25e64f64cabec93e20&query=godmothered&page=1&language=en-US (Caused by NewConnectionError('<urllib3.connection.HTTPSConnection object at 0x000001B7DC6ED490>: Failed to establish a new connection: [Errno 11001] getaddrinfo failed'))\n",
      "Error fetching genres for black beauty: HTTPSConnectionPool(host='api.themoviedb.org', port=443): Max retries exceeded with url: /3/search/movie?api_key=6d8bfe0dbef34d25e64f64cabec93e20&query=black%20beauty&page=1&language=en-US (Caused by NewConnectionError('<urllib3.connection.HTTPSConnection object at 0x000001B7DB6E8750>: Failed to establish a new connection: [Errno 11001] getaddrinfo failed'))\n",
      "Error fetching genres for all my life: HTTPSConnectionPool(host='api.themoviedb.org', port=443): Max retries exceeded with url: /3/search/movie?api_key=6d8bfe0dbef34d25e64f64cabec93e20&query=all%20my%20life&page=1&language=en-US (Caused by NewConnectionError('<urllib3.connection.HTTPSConnection object at 0x000001B7DC6EDA90>: Failed to establish a new connection: [Errno 11001] getaddrinfo failed'))\n",
      "Error fetching genres for the prom: HTTPSConnectionPool(host='api.themoviedb.org', port=443): Max retries exceeded with url: /3/search/movie?api_key=6d8bfe0dbef34d25e64f64cabec93e20&query=the%20prom&page=1&language=en-US (Caused by NewConnectionError('<urllib3.connection.HTTPSConnection object at 0x000001B7DC6CF990>: Failed to establish a new connection: [Errno 11001] getaddrinfo failed'))\n",
      "Error fetching genres for half brothers: HTTPSConnectionPool(host='api.themoviedb.org', port=443): Max retries exceeded with url: /3/search/movie?api_key=6d8bfe0dbef34d25e64f64cabec93e20&query=half%20brothers&page=1&language=en-US (Caused by NewConnectionError('<urllib3.connection.HTTPSConnection object at 0x000001B7DB6ACB50>: Failed to establish a new connection: [Errno 11001] getaddrinfo failed'))\n",
      "\n",
      "Error fetching genres for buddy games: HTTPSConnectionPool(host='api.themoviedb.org', port=443): Max retries exceeded with url: /3/search/movie?api_key=6d8bfe0dbef34d25e64f64cabec93e20&query=buddy%20games&page=1&language=en-US (Caused by ConnectTimeoutError(<urllib3.connection.HTTPSConnection object at 0x000001B7DC6D1E90>, 'Connection to api.themoviedb.org timed out. (connect timeout=None)'))\n",
      "Error fetching genres for the midnight sky: HTTPSConnectionPool(host='api.themoviedb.org', port=443): Max retries exceeded with url: /3/search/movie?api_key=6d8bfe0dbef34d25e64f64cabec93e20&query=the%20midnight%20sky&page=1&language=en-US (Caused by NewConnectionError('<urllib3.connection.HTTPSConnection object at 0x000001B7DB67E0D0>: Failed to establish a new connection: [Errno 11001] getaddrinfo failed'))\n",
      "Error fetching genres for wander: HTTPSConnectionPool(host='api.themoviedb.org', port=443): Max retries exceeded with url: /3/search/movie?api_key=6d8bfe0dbef34d25e64f64cabec93e20&query=wander&page=1&language=en-US (Caused by NewConnectionError('<urllib3.connection.HTTPSConnection object at 0x000001B7DB685290>: Failed to establish a new connection: [Errno 11001] getaddrinfo failed'))\n",
      "Error fetching genres for wild mountain thyme: HTTPSConnectionPool(host='api.themoviedb.org', port=443): Max retries exceeded with url: /3/search/movie?api_key=6d8bfe0dbef34d25e64f64cabec93e20&query=wild%20mountain%20thyme&page=1&language=en-US (Caused by NewConnectionError('<urllib3.connection.HTTPSConnection object at 0x000001B7D03DE710>: Failed to establish a new connection: [Errno 11001] getaddrinfo failed'))\n",
      "Error fetching genres for black bear: HTTPSConnectionPool(host='api.themoviedb.org', port=443): Max retries exceeded with url: /3/search/movie?api_key=6d8bfe0dbef34d25e64f64cabec93e20&query=black%20bear&page=1&language=en-US (Caused by NewConnectionError('<urllib3.connection.HTTPSConnection object at 0x000001B7DB686B50>: Failed to establish a new connection: [Errno 11001] getaddrinfo failed'))\n",
      "Error fetching genres for songbird: HTTPSConnectionPool(host='api.themoviedb.org', port=443): Max retries exceeded with url: /3/search/movie?api_key=6d8bfe0dbef34d25e64f64cabec93e20&query=songbird&page=1&language=en-US (Caused by NewConnectionError('<urllib3.connection.HTTPSConnection object at 0x000001B7DB644050>: Failed to establish a new connection: [Errno 11001] getaddrinfo failed'))\n",
      "Error fetching genres for let them all talk: HTTPSConnectionPool(host='api.themoviedb.org', port=443): Max retries exceeded with url: /3/search/movie?api_key=6d8bfe0dbef34d25e64f64cabec93e20&query=let%20them%20all%20talk&page=1&language=en-US (Caused by NewConnectionError('<urllib3.connection.HTTPSConnection object at 0x000001B7DB69DC90>: Failed to establish a new connection: [Errno 11001] getaddrinfo failed'))\n",
      "Error fetching genres for i'm your woman: HTTPSConnectionPool(host='api.themoviedb.org', port=443): Max retries exceeded with url: /3/search/movie?api_key=6d8bfe0dbef34d25e64f64cabec93e20&query=i%27m%20your%20woman&page=1&language=en-US (Caused by NewConnectionError('<urllib3.connection.HTTPSConnection object at 0x000001B7DB67E9D0>: Failed to establish a new connection: [Errno 11001] getaddrinfo failed'))Error fetching genres for archenemy: HTTPSConnectionPool(host='api.themoviedb.org', port=443): Max retries exceeded with url: /3/search/movie?api_key=6d8bfe0dbef34d25e64f64cabec93e20&query=archenemy&page=1&language=en-US (Caused by NewConnectionError('<urllib3.connection.HTTPSConnection object at 0x000001B7DB639950>: Failed to establish a new connection: [Errno 11001] getaddrinfo failed'))\n",
      "Error fetching genres for safety: HTTPSConnectionPool(host='api.themoviedb.org', port=443): Max retries exceeded with url: /3/search/movie?api_key=6d8bfe0dbef34d25e64f64cabec93e20&query=safety&page=1&language=en-US (Caused by NewConnectionError('<urllib3.connection.HTTPSConnection object at 0x000001B7DB6EE2D0>: Failed to establish a new connection: [Errno 11001] getaddrinfo failed'))\n",
      "Error fetching genres for wander darkly: HTTPSConnectionPool(host='api.themoviedb.org', port=443): Max retries exceeded with url: /3/search/movie?api_key=6d8bfe0dbef34d25e64f64cabec93e20&query=wander%20darkly&page=1&language=en-US (Caused by NewConnectionError('<urllib3.connection.HTTPSConnection object at 0x000001B7D8628F50>: Failed to establish a new connection: [Errno 11001] getaddrinfo failed'))\n",
      "Error fetching genres for the stand in: HTTPSConnectionPool(host='api.themoviedb.org', port=443): Max retries exceeded with url: /3/search/movie?api_key=6d8bfe0dbef34d25e64f64cabec93e20&query=the%20stand%20in&page=1&language=en-US (Caused by NewConnectionError('<urllib3.connection.HTTPSConnection object at 0x000001B7DB6BF5D0>: Failed to establish a new connection: [Errno 11001] getaddrinfo failed'))\n",
      "Error fetching genres for farewell amor: HTTPSConnectionPool(host='api.themoviedb.org', port=443): Max retries exceeded with url: /3/search/movie?api_key=6d8bfe0dbef34d25e64f64cabec93e20&query=farewell%20amor&page=1&language=en-US (Caused by NewConnectionError('<urllib3.connection.HTTPSConnection object at 0x000001B7DB6B2C10>: Failed to establish a new connection: [Errno 11001] getaddrinfo failed'))\n",
      "Error fetching genres for monster hunter: HTTPSConnectionPool(host='api.themoviedb.org', port=443): Max retries exceeded with url: /3/search/movie?api_key=6d8bfe0dbef34d25e64f64cabec93e20&query=monster%20hunter&page=1&language=en-US (Caused by NewConnectionError('<urllib3.connection.HTTPSConnection object at 0x000001B7DB6A03D0>: Failed to establish a new connection: [Errno 11001] getaddrinfo failed'))\n",
      "\n",
      "Error fetching genres for happiest season: HTTPSConnectionPool(host='api.themoviedb.org', port=443): Max retries exceeded with url: /3/search/movie?api_key=6d8bfe0dbef34d25e64f64cabec93e20&query=happiest%20season&page=1&language=en-US (Caused by ConnectTimeoutError(<urllib3.connection.HTTPSConnection object at 0x000001B7DC6E2910>, 'Connection to api.themoviedb.org timed out. (connect timeout=None)'))\n",
      "Error fetching genres for hunter hunter: HTTPSConnectionPool(host='api.themoviedb.org', port=443): Max retries exceeded with url: /3/search/movie?api_key=6d8bfe0dbef34d25e64f64cabec93e20&query=hunter%20hunter&page=1&language=en-US (Caused by NewConnectionError('<urllib3.connection.HTTPSConnection object at 0x000001B7DB67EE10>: Failed to establish a new connection: [Errno 11001] getaddrinfo failed'))Error fetching genres for breach: HTTPSConnectionPool(host='api.themoviedb.org', port=443): Max retries exceeded with url: /3/search/movie?api_key=6d8bfe0dbef34d25e64f64cabec93e20&query=breach&page=1&language=en-US (Caused by NewConnectionError('<urllib3.connection.HTTPSConnection object at 0x000001B7DB6EC310>: Failed to establish a new connection: [Errno 11001] getaddrinfo failed'))\n",
      "Error fetching genres for skylines: HTTPSConnectionPool(host='api.themoviedb.org', port=443): Max retries exceeded with url: /3/search/movie?api_key=6d8bfe0dbef34d25e64f64cabec93e20&query=skylines&page=1&language=en-US (Caused by NewConnectionError('<urllib3.connection.HTTPSConnection object at 0x000001B7DC6CC0D0>: Failed to establish a new connection: [Errno 11001] getaddrinfo failed'))\n",
      "Error fetching genres for ariana grande: excuse me, i love you: HTTPSConnectionPool(host='api.themoviedb.org', port=443): Max retries exceeded with url: /3/search/movie?api_key=6d8bfe0dbef34d25e64f64cabec93e20&query=ariana%20grande%3A%20excuse%20me%2C%20i%20love%20you&page=1&language=en-US (Caused by NewConnectionError('<urllib3.connection.HTTPSConnection object at 0x000001B7DB6AC410>: Failed to establish a new connection: [Errno 11001] getaddrinfo failed'))\n",
      "Error fetching genres for fatale: HTTPSConnectionPool(host='api.themoviedb.org', port=443): Max retries exceeded with url: /3/search/movie?api_key=6d8bfe0dbef34d25e64f64cabec93e20&query=fatale&page=1&language=en-US (Caused by NewConnectionError('<urllib3.connection.HTTPSConnection object at 0x000001B7DB6AF0D0>: Failed to establish a new connection: [Errno 11001] getaddrinfo failed'))\n",
      "Error fetching genres for sylvie's love: HTTPSConnectionPool(host='api.themoviedb.org', port=443): Max retries exceeded with url: /3/search/movie?api_key=6d8bfe0dbef34d25e64f64cabec93e20&query=sylvie%27s%20love&page=1&language=en-US (Caused by NewConnectionError('<urllib3.connection.HTTPSConnection object at 0x000001B7DB6AF110>: Failed to establish a new connection: [Errno 11001] getaddrinfo failed'))\n",
      "\n",
      "Error fetching genres for greenland: HTTPSConnectionPool(host='api.themoviedb.org', port=443): Max retries exceeded with url: /3/search/movie?api_key=6d8bfe0dbef34d25e64f64cabec93e20&query=greenland&page=1&language=en-US (Caused by NewConnectionError('<urllib3.connection.HTTPSConnection object at 0x000001B7DB66FED0>: Failed to establish a new connection: [Errno 11001] getaddrinfo failed'))\n",
      "Error fetching genres for wonder woman 1984: HTTPSConnectionPool(host='api.themoviedb.org', port=443): Max retries exceeded with url: /3/search/movie?api_key=6d8bfe0dbef34d25e64f64cabec93e20&query=wonder%20woman%201984&page=1&language=en-US (Caused by NewConnectionError('<urllib3.connection.HTTPSConnection object at 0x000001B7DB6D40D0>: Failed to establish a new connection: [Errno 11001] getaddrinfo failed'))\n",
      "Error fetching genres for soul: HTTPSConnectionPool(host='api.themoviedb.org', port=443): Max retries exceeded with url: /3/search/movie?api_key=6d8bfe0dbef34d25e64f64cabec93e20&query=soul&page=1&language=en-US (Caused by NewConnectionError('<urllib3.connection.HTTPSConnection object at 0x000001B7DB6DF690>: Failed to establish a new connection: [Errno 11001] getaddrinfo failed'))\n",
      "Error fetching genres for pieces of a woman: HTTPSConnectionPool(host='api.themoviedb.org', port=443): Max retries exceeded with url: /3/search/movie?api_key=6d8bfe0dbef34d25e64f64cabec93e20&query=pieces%20of%20a%20woman&page=1&language=en-US (Caused by NewConnectionError('<urllib3.connection.HTTPSConnection object at 0x000001B7DB6D5C50>: Failed to establish a new connection: [Errno 11001] getaddrinfo failed'))\n",
      "Error fetching genres for we can be heroes: HTTPSConnectionPool(host='api.themoviedb.org', port=443): Max retries exceeded with url: /3/search/movie?api_key=6d8bfe0dbef34d25e64f64cabec93e20&query=we%20can%20be%20heroes&page=1&language=en-US (Caused by NewConnectionError('<urllib3.connection.HTTPSConnection object at 0x000001B7DB6D6290>: Failed to establish a new connection: [Errno 11001] getaddrinfo failed'))\n",
      "Error fetching genres for one night in miami...: HTTPSConnectionPool(host='api.themoviedb.org', port=443): Max retries exceeded with url: /3/search/movie?api_key=6d8bfe0dbef34d25e64f64cabec93e20&query=one%20night%20in%20miami...&page=1&language=en-US (Caused by NewConnectionError('<urllib3.connection.HTTPSConnection object at 0x000001B7D8679C50>: Failed to establish a new connection: [Errno 11001] getaddrinfo failed'))\n",
      "Error fetching genres for promising young woman: HTTPSConnectionPool(host='api.themoviedb.org', port=443): Max retries exceeded with url: /3/search/movie?api_key=6d8bfe0dbef34d25e64f64cabec93e20&query=promising%20young%20woman&page=1&language=en-US (Caused by NewConnectionError('<urllib3.connection.HTTPSConnection object at 0x000001B7C33F5B90>: Failed to establish a new connection: [Errno 11001] getaddrinfo failed'))\n",
      "Error fetching genres for news of the world: HTTPSConnectionPool(host='api.themoviedb.org', port=443): Max retries exceeded with url: /3/search/movie?api_key=6d8bfe0dbef34d25e64f64cabec93e20&query=news%20of%20the%20world&page=1&language=en-US (Caused by NewConnectionError('<urllib3.connection.HTTPSConnection object at 0x000001B7C3C315D0>: Failed to establish a new connection: [Errno 11001] getaddrinfo failed'))\n",
      "Error fetching genres for ma rainey's black bottom: HTTPSConnectionPool(host='api.themoviedb.org', port=443): Max retries exceeded with url: /3/search/movie?api_key=6d8bfe0dbef34d25e64f64cabec93e20&query=ma%20rainey%27s%20black%20bottom&page=1&language=en-US (Caused by ConnectTimeoutError(<urllib3.connection.HTTPSConnection object at 0x000001B7DB6E7050>, 'Connection to api.themoviedb.org timed out. (connect timeout=None)'))\n"
     ]
    }
   ],
   "source": [
    "movies_2020 = create_df(\"https://en.wikipedia.org/wiki/List_of_American_films_of_2020\")"
   ]
  },
  {
   "cell_type": "code",
   "execution_count": 40,
   "metadata": {},
   "outputs": [
    {
     "data": {
      "text/html": [
       "<div>\n",
       "<style scoped>\n",
       "    .dataframe tbody tr th:only-of-type {\n",
       "        vertical-align: middle;\n",
       "    }\n",
       "\n",
       "    .dataframe tbody tr th {\n",
       "        vertical-align: top;\n",
       "    }\n",
       "\n",
       "    .dataframe thead th {\n",
       "        text-align: right;\n",
       "    }\n",
       "</style>\n",
       "<table border=\"1\" class=\"dataframe\">\n",
       "  <thead>\n",
       "    <tr style=\"text-align: right;\">\n",
       "      <th></th>\n",
       "      <th>Title</th>\n",
       "      <th>movie_title</th>\n",
       "      <th>director_name</th>\n",
       "      <th>actor_1_name</th>\n",
       "      <th>actor_2_name</th>\n",
       "      <th>actor_3_name</th>\n",
       "      <th>comb</th>\n",
       "      <th>genres</th>\n",
       "    </tr>\n",
       "  </thead>\n",
       "  <tbody>\n",
       "    <tr>\n",
       "      <th>0</th>\n",
       "      <td>The Grudge</td>\n",
       "      <td>the grudge</td>\n",
       "      <td>Nicolas Pesce</td>\n",
       "      <td>Andrea Riseborough</td>\n",
       "      <td>Demián Bichir</td>\n",
       "      <td>John Cho</td>\n",
       "      <td>Andrea Riseborough Demián Bichir John Cho Nico...</td>\n",
       "      <td>Horror Mystery Thriller</td>\n",
       "    </tr>\n",
       "    <tr>\n",
       "      <th>1</th>\n",
       "      <td>Underwater</td>\n",
       "      <td>underwater</td>\n",
       "      <td>Walt Dohrn</td>\n",
       "      <td>Anna Kendrick</td>\n",
       "      <td>Justin Timberlake</td>\n",
       "      <td>Rachel Bloom</td>\n",
       "      <td>Anna Kendrick Justin Timberlake Rachel Bloom W...</td>\n",
       "      <td>Horror Science Fiction Action Adventure</td>\n",
       "    </tr>\n",
       "    <tr>\n",
       "      <th>2</th>\n",
       "      <td>Like a Boss</td>\n",
       "      <td>like a boss</td>\n",
       "      <td>Miguel Arteta</td>\n",
       "      <td>Tiffany Haddish</td>\n",
       "      <td>Rose Byrne</td>\n",
       "      <td>Salma Hayek</td>\n",
       "      <td>Tiffany Haddish Rose Byrne Salma Hayek Miguel ...</td>\n",
       "      <td>Comedy</td>\n",
       "    </tr>\n",
       "    <tr>\n",
       "      <th>3</th>\n",
       "      <td>Three Christs</td>\n",
       "      <td>three christs</td>\n",
       "      <td>Brandon Cronenberg</td>\n",
       "      <td>Andrea Riseborough</td>\n",
       "      <td>Christopher Abbott</td>\n",
       "      <td>Rossif Sutherland</td>\n",
       "      <td>Andrea Riseborough Christopher Abbott Rossif S...</td>\n",
       "      <td>Drama</td>\n",
       "    </tr>\n",
       "    <tr>\n",
       "      <th>4</th>\n",
       "      <td>Inherit the Viper</td>\n",
       "      <td>inherit the viper</td>\n",
       "      <td>Darren Lynn Bousman</td>\n",
       "      <td>Maggie Q</td>\n",
       "      <td>Alex Essoe</td>\n",
       "      <td>Luke Hemsworth</td>\n",
       "      <td>Maggie Q Alex Essoe Luke Hemsworth Darren Lynn...</td>\n",
       "      <td>Crime Thriller Drama</td>\n",
       "    </tr>\n",
       "  </tbody>\n",
       "</table>\n",
       "</div>"
      ],
      "text/plain": [
       "               Title        movie_title        director_name  \\\n",
       "0         The Grudge         the grudge        Nicolas Pesce   \n",
       "1         Underwater         underwater           Walt Dohrn   \n",
       "2        Like a Boss        like a boss        Miguel Arteta   \n",
       "3      Three Christs      three christs   Brandon Cronenberg   \n",
       "4  Inherit the Viper  inherit the viper  Darren Lynn Bousman   \n",
       "\n",
       "         actor_1_name        actor_2_name       actor_3_name  \\\n",
       "0  Andrea Riseborough       Demián Bichir           John Cho   \n",
       "1       Anna Kendrick   Justin Timberlake       Rachel Bloom   \n",
       "2     Tiffany Haddish          Rose Byrne        Salma Hayek   \n",
       "3  Andrea Riseborough  Christopher Abbott  Rossif Sutherland   \n",
       "4            Maggie Q          Alex Essoe     Luke Hemsworth   \n",
       "\n",
       "                                                comb  \\\n",
       "0  Andrea Riseborough Demián Bichir John Cho Nico...   \n",
       "1  Anna Kendrick Justin Timberlake Rachel Bloom W...   \n",
       "2  Tiffany Haddish Rose Byrne Salma Hayek Miguel ...   \n",
       "3  Andrea Riseborough Christopher Abbott Rossif S...   \n",
       "4  Maggie Q Alex Essoe Luke Hemsworth Darren Lynn...   \n",
       "\n",
       "                                    genres  \n",
       "0                  Horror Mystery Thriller  \n",
       "1  Horror Science Fiction Action Adventure  \n",
       "2                                   Comedy  \n",
       "3                                    Drama  \n",
       "4                     Crime Thriller Drama  "
      ]
     },
     "execution_count": 40,
     "metadata": {},
     "output_type": "execute_result"
    }
   ],
   "source": [
    "movies_2020.head()"
   ]
  },
  {
   "cell_type": "code",
   "execution_count": 41,
   "metadata": {},
   "outputs": [
    {
     "data": {
      "text/plain": [
       "Title             0\n",
       "movie_title       0\n",
       "director_name     0\n",
       "actor_1_name      0\n",
       "actor_2_name      1\n",
       "actor_3_name     31\n",
       "comb             31\n",
       "genres           50\n",
       "dtype: int64"
      ]
     },
     "execution_count": 41,
     "metadata": {},
     "output_type": "execute_result"
    }
   ],
   "source": [
    "movies_2020.isnull().sum()"
   ]
  },
  {
   "cell_type": "code",
   "execution_count": 42,
   "metadata": {},
   "outputs": [
    {
     "data": {
      "text/plain": [
       "275"
      ]
     },
     "execution_count": 42,
     "metadata": {},
     "output_type": "execute_result"
    }
   ],
   "source": [
    "len(movies_2020)"
   ]
  },
  {
   "cell_type": "code",
   "execution_count": 43,
   "metadata": {},
   "outputs": [],
   "source": [
    "movies_2020.dropna(inplace=True)"
   ]
  },
  {
   "cell_type": "code",
   "execution_count": 44,
   "metadata": {},
   "outputs": [
    {
     "data": {
      "text/plain": [
       "Title            0\n",
       "movie_title      0\n",
       "director_name    0\n",
       "actor_1_name     0\n",
       "actor_2_name     0\n",
       "actor_3_name     0\n",
       "comb             0\n",
       "genres           0\n",
       "dtype: int64"
      ]
     },
     "execution_count": 44,
     "metadata": {},
     "output_type": "execute_result"
    }
   ],
   "source": [
    "movies_2020.isnull().sum()"
   ]
  },
  {
   "cell_type": "code",
   "execution_count": 45,
   "metadata": {},
   "outputs": [
    {
     "data": {
      "text/plain": [
       "198"
      ]
     },
     "execution_count": 45,
     "metadata": {},
     "output_type": "execute_result"
    }
   ],
   "source": [
    "len(movies_2020)"
   ]
  },
  {
   "cell_type": "code",
   "execution_count": 47,
   "metadata": {},
   "outputs": [],
   "source": [
    "movies_2020.drop('Title',axis=1,inplace=True)"
   ]
  },
  {
   "cell_type": "code",
   "execution_count": 48,
   "metadata": {},
   "outputs": [
    {
     "data": {
      "text/html": [
       "<div>\n",
       "<style scoped>\n",
       "    .dataframe tbody tr th:only-of-type {\n",
       "        vertical-align: middle;\n",
       "    }\n",
       "\n",
       "    .dataframe tbody tr th {\n",
       "        vertical-align: top;\n",
       "    }\n",
       "\n",
       "    .dataframe thead th {\n",
       "        text-align: right;\n",
       "    }\n",
       "</style>\n",
       "<table border=\"1\" class=\"dataframe\">\n",
       "  <thead>\n",
       "    <tr style=\"text-align: right;\">\n",
       "      <th></th>\n",
       "      <th>movie_title</th>\n",
       "      <th>director_name</th>\n",
       "      <th>actor_1_name</th>\n",
       "      <th>actor_2_name</th>\n",
       "      <th>actor_3_name</th>\n",
       "      <th>comb</th>\n",
       "      <th>genres</th>\n",
       "    </tr>\n",
       "  </thead>\n",
       "  <tbody>\n",
       "    <tr>\n",
       "      <th>0</th>\n",
       "      <td>the grudge</td>\n",
       "      <td>Nicolas Pesce</td>\n",
       "      <td>Andrea Riseborough</td>\n",
       "      <td>Demián Bichir</td>\n",
       "      <td>John Cho</td>\n",
       "      <td>Andrea Riseborough Demián Bichir John Cho Nico...</td>\n",
       "      <td>Horror Mystery Thriller</td>\n",
       "    </tr>\n",
       "    <tr>\n",
       "      <th>1</th>\n",
       "      <td>underwater</td>\n",
       "      <td>Walt Dohrn</td>\n",
       "      <td>Anna Kendrick</td>\n",
       "      <td>Justin Timberlake</td>\n",
       "      <td>Rachel Bloom</td>\n",
       "      <td>Anna Kendrick Justin Timberlake Rachel Bloom W...</td>\n",
       "      <td>Horror Science Fiction Action Adventure</td>\n",
       "    </tr>\n",
       "    <tr>\n",
       "      <th>2</th>\n",
       "      <td>like a boss</td>\n",
       "      <td>Miguel Arteta</td>\n",
       "      <td>Tiffany Haddish</td>\n",
       "      <td>Rose Byrne</td>\n",
       "      <td>Salma Hayek</td>\n",
       "      <td>Tiffany Haddish Rose Byrne Salma Hayek Miguel ...</td>\n",
       "      <td>Comedy</td>\n",
       "    </tr>\n",
       "    <tr>\n",
       "      <th>3</th>\n",
       "      <td>three christs</td>\n",
       "      <td>Brandon Cronenberg</td>\n",
       "      <td>Andrea Riseborough</td>\n",
       "      <td>Christopher Abbott</td>\n",
       "      <td>Rossif Sutherland</td>\n",
       "      <td>Andrea Riseborough Christopher Abbott Rossif S...</td>\n",
       "      <td>Drama</td>\n",
       "    </tr>\n",
       "    <tr>\n",
       "      <th>4</th>\n",
       "      <td>inherit the viper</td>\n",
       "      <td>Darren Lynn Bousman</td>\n",
       "      <td>Maggie Q</td>\n",
       "      <td>Alex Essoe</td>\n",
       "      <td>Luke Hemsworth</td>\n",
       "      <td>Maggie Q Alex Essoe Luke Hemsworth Darren Lynn...</td>\n",
       "      <td>Crime Thriller Drama</td>\n",
       "    </tr>\n",
       "  </tbody>\n",
       "</table>\n",
       "</div>"
      ],
      "text/plain": [
       "         movie_title        director_name        actor_1_name  \\\n",
       "0         the grudge        Nicolas Pesce  Andrea Riseborough   \n",
       "1         underwater           Walt Dohrn       Anna Kendrick   \n",
       "2        like a boss        Miguel Arteta     Tiffany Haddish   \n",
       "3      three christs   Brandon Cronenberg  Andrea Riseborough   \n",
       "4  inherit the viper  Darren Lynn Bousman            Maggie Q   \n",
       "\n",
       "         actor_2_name       actor_3_name  \\\n",
       "0       Demián Bichir           John Cho   \n",
       "1   Justin Timberlake       Rachel Bloom   \n",
       "2          Rose Byrne        Salma Hayek   \n",
       "3  Christopher Abbott  Rossif Sutherland   \n",
       "4          Alex Essoe     Luke Hemsworth   \n",
       "\n",
       "                                                comb  \\\n",
       "0  Andrea Riseborough Demián Bichir John Cho Nico...   \n",
       "1  Anna Kendrick Justin Timberlake Rachel Bloom W...   \n",
       "2  Tiffany Haddish Rose Byrne Salma Hayek Miguel ...   \n",
       "3  Andrea Riseborough Christopher Abbott Rossif S...   \n",
       "4  Maggie Q Alex Essoe Luke Hemsworth Darren Lynn...   \n",
       "\n",
       "                                    genres  \n",
       "0                  Horror Mystery Thriller  \n",
       "1  Horror Science Fiction Action Adventure  \n",
       "2                                   Comedy  \n",
       "3                                    Drama  \n",
       "4                     Crime Thriller Drama  "
      ]
     },
     "execution_count": 48,
     "metadata": {},
     "output_type": "execute_result"
    }
   ],
   "source": [
    "movies_2020.head()"
   ]
  },
  {
   "cell_type": "code",
   "execution_count": 49,
   "metadata": {},
   "outputs": [],
   "source": [
    "movies_2020.to_csv('data_2020_american.csv')"
   ]
  },
  {
   "cell_type": "code",
   "execution_count": 50,
   "metadata": {},
   "outputs": [
    {
     "name": "stderr",
     "output_type": "stream",
     "text": [
      "C:\\Users\\shekh\\AppData\\Local\\Temp\\ipykernel_17960\\1453033968.py:107: FutureWarning: Setting an item of incompatible dtype is deprecated and will raise in a future error of pandas. Value 'Peter Sattler' has dtype incompatible with float64, please explicitly cast to a compatible dtype first.\n",
      "  movies.at[index, 'director_name'] = result['director_name']\n",
      "C:\\Users\\shekh\\AppData\\Local\\Temp\\ipykernel_17960\\1453033968.py:108: FutureWarning: Setting an item of incompatible dtype is deprecated and will raise in a future error of pandas. Value 'Ben Platt' has dtype incompatible with float64, please explicitly cast to a compatible dtype first.\n",
      "  movies.at[index, 'actor_1_name'] = result['actor_1_name']\n",
      "C:\\Users\\shekh\\AppData\\Local\\Temp\\ipykernel_17960\\1453033968.py:109: FutureWarning: Setting an item of incompatible dtype is deprecated and will raise in a future error of pandas. Value 'Lola Kirke' has dtype incompatible with float64, please explicitly cast to a compatible dtype first.\n",
      "  movies.at[index, 'actor_2_name'] = result['actor_2_name']\n",
      "C:\\Users\\shekh\\AppData\\Local\\Temp\\ipykernel_17960\\1453033968.py:110: FutureWarning: Setting an item of incompatible dtype is deprecated and will raise in a future error of pandas. Value 'Yvette Nicole Brown' has dtype incompatible with float64, please explicitly cast to a compatible dtype first.\n",
      "  movies.at[index, 'actor_3_name'] = result['actor_3_name']\n"
     ]
    },
    {
     "name": "stdout",
     "output_type": "stream",
     "text": [
      "Error processing actors and directors for row 97: argument of type 'float' is not iterable\n"
     ]
    },
    {
     "name": "stderr",
     "output_type": "stream",
     "text": [
      "C:\\Users\\shekh\\AppData\\Local\\Temp\\ipykernel_17960\\1453033968.py:124: FutureWarning: Setting an item of incompatible dtype is deprecated and will raise in a future error of pandas. Value 'Drama' has dtype incompatible with float64, please explicitly cast to a compatible dtype first.\n",
      "  movies.loc[movies['movie_title'] == title, 'genres'] = genres\n"
     ]
    },
    {
     "name": "stdout",
     "output_type": "stream",
     "text": [
      "Error fetching genres for let us in: HTTPSConnectionPool(host='api.themoviedb.org', port=443): Max retries exceeded with url: /3/search/movie?api_key=6d8bfe0dbef34d25e64f64cabec93e20&query=let%20us%20in&page=1&language=en-US (Caused by ConnectTimeoutError(<urllib3.connection.HTTPSConnection object at 0x000001B7E390B850>, 'Connection to api.themoviedb.org timed out. (connect timeout=None)'))\n",
      "Error fetching genres for black widow: HTTPSConnectionPool(host='api.themoviedb.org', port=443): Max retries exceeded with url: /3/search/movie?api_key=6d8bfe0dbef34d25e64f64cabec93e20&query=black%20widow&page=1&language=en-US (Caused by ConnectTimeoutError(<urllib3.connection.HTTPSConnection object at 0x000001B7E592A090>, 'Connection to api.themoviedb.org timed out. (connect timeout=None)'))\n",
      "Error fetching genres for fear street part two: 1978: HTTPSConnectionPool(host='api.themoviedb.org', port=443): Max retries exceeded with url: /3/search/movie?api_key=6d8bfe0dbef34d25e64f64cabec93e20&query=fear%20street%20part%20two%3A%201978&page=1&language=en-US (Caused by ConnectTimeoutError(<urllib3.connection.HTTPSConnection object at 0x000001B7E38DFC90>, 'Connection to api.themoviedb.org timed out. (connect timeout=None)'))\n",
      "Error fetching genres for summertime: HTTPSConnectionPool(host='api.themoviedb.org', port=443): Max retries exceeded with url: /3/search/movie?api_key=6d8bfe0dbef34d25e64f64cabec93e20&query=summertime&page=1&language=en-US (Caused by ConnectTimeoutError(<urllib3.connection.HTTPSConnection object at 0x000001B7E591A550>, 'Connection to api.themoviedb.org timed out. (connect timeout=None)'))\n",
      "Error fetching genres for space jam: a new legacy: HTTPSConnectionPool(host='api.themoviedb.org', port=443): Max retries exceeded with url: /3/search/movie?api_key=6d8bfe0dbef34d25e64f64cabec93e20&query=space%20jam%3A%20a%20new%20legacy&page=1&language=en-US (Caused by ConnectTimeoutError(<urllib3.connection.HTTPSConnection object at 0x000001B7E395D210>, 'Connection to api.themoviedb.org timed out. (connect timeout=None)'))\n",
      "Error fetching genres for die in a gunfight: HTTPSConnectionPool(host='api.themoviedb.org', port=443): Max retries exceeded with url: /3/search/movie?api_key=6d8bfe0dbef34d25e64f64cabec93e20&query=die%20in%20a%20gunfight&page=1&language=en-US (Caused by ConnectTimeoutError(<urllib3.connection.HTTPSConnection object at 0x000001B7E5935F90>, 'Connection to api.themoviedb.org timed out. (connect timeout=None)'))\n",
      "Error fetching genres for ride the eagle: HTTPSConnectionPool(host='api.themoviedb.org', port=443): Max retries exceeded with url: /3/search/movie?api_key=6d8bfe0dbef34d25e64f64cabec93e20&query=ride%20the%20eagle&page=1&language=en-US (Caused by ConnectTimeoutError(<urllib3.connection.HTTPSConnection object at 0x000001B7E5996A90>, 'Connection to api.themoviedb.org timed out. (connect timeout=None)'))\n",
      "Error fetching genres for she ball: HTTPSConnectionPool(host='api.themoviedb.org', port=443): Max retries exceeded with url: /3/search/movie?api_key=6d8bfe0dbef34d25e64f64cabec93e20&query=she%20ball&page=1&language=en-US (Caused by ConnectTimeoutError(<urllib3.connection.HTTPSConnection object at 0x000001B7E59C5E50>, 'Connection to api.themoviedb.org timed out. (connect timeout=None)'))\n",
      "Error fetching genres for coda: HTTPSConnectionPool(host='api.themoviedb.org', port=443): Max retries exceeded with url: /3/search/movie?api_key=6d8bfe0dbef34d25e64f64cabec93e20&query=coda&page=1&language=en-US (Caused by ConnectTimeoutError(<urllib3.connection.HTTPSConnection object at 0x000001B7E59F9950>, 'Connection to api.themoviedb.org timed out. (connect timeout=None)'))\n",
      "Error fetching genres for the night house: HTTPSConnectionPool(host='api.themoviedb.org', port=443): Max retries exceeded with url: /3/search/movie?api_key=6d8bfe0dbef34d25e64f64cabec93e20&query=the%20night%20house&page=1&language=en-US (Caused by ConnectTimeoutError(<urllib3.connection.HTTPSConnection object at 0x000001B7E79D0910>, 'Connection to api.themoviedb.org timed out. (connect timeout=None)'))\n",
      "Error fetching genres for habit: HTTPSConnectionPool(host='api.themoviedb.org', port=443): Max retries exceeded with url: /3/search/movie?api_key=6d8bfe0dbef34d25e64f64cabec93e20&query=habit&page=1&language=en-US (Caused by ConnectTimeoutError(<urllib3.connection.HTTPSConnection object at 0x000001B7E79DEFD0>, 'Connection to api.themoviedb.org timed out. (connect timeout=None)'))\n",
      "Error fetching genres for risen: HTTPSConnectionPool(host='api.themoviedb.org', port=443): Max retries exceeded with url: /3/search/movie?api_key=6d8bfe0dbef34d25e64f64cabec93e20&query=risen&page=1&language=en-US (Caused by ConnectTimeoutError(<urllib3.connection.HTTPSConnection object at 0x000001B7E79F8710>, 'Connection to api.themoviedb.org timed out. (connect timeout=None)'))\n",
      "Error fetching genres for the witcher: nightmare of the wolf: HTTPSConnectionPool(host='api.themoviedb.org', port=443): Max retries exceeded with url: /3/search/movie?api_key=6d8bfe0dbef34d25e64f64cabec93e20&query=the%20witcher%3A%20nightmare%20of%20the%20wolf&page=1&language=en-US (Caused by ConnectTimeoutError(<urllib3.connection.HTTPSConnection object at 0x000001B7E79E9990>, 'Connection to api.themoviedb.org timed out. (connect timeout=None)'))\n",
      "Error fetching genres for dating and new york: attribute name must be string, not 'int'\n",
      "Error fetching genres for nan: quote_from_bytes() expected bytes\n"
     ]
    }
   ],
   "source": [
    "movies_2021 = create_df(\"https://en.wikipedia.org/wiki/List_of_American_films_of_2021\")"
   ]
  },
  {
   "cell_type": "code",
   "execution_count": 52,
   "metadata": {},
   "outputs": [],
   "source": [
    "movies_2021.drop('Title',axis=1,inplace=True)"
   ]
  },
  {
   "cell_type": "code",
   "execution_count": 53,
   "metadata": {},
   "outputs": [
    {
     "data": {
      "text/plain": [
       "movie_title       1\n",
       "director_name     0\n",
       "actor_1_name      0\n",
       "actor_2_name      0\n",
       "actor_3_name     26\n",
       "comb             26\n",
       "genres           15\n",
       "dtype: int64"
      ]
     },
     "execution_count": 53,
     "metadata": {},
     "output_type": "execute_result"
    }
   ],
   "source": [
    "movies_2021.isnull().sum()"
   ]
  },
  {
   "cell_type": "code",
   "execution_count": 55,
   "metadata": {},
   "outputs": [],
   "source": [
    "movies_2021.dropna(inplace=True)"
   ]
  },
  {
   "cell_type": "code",
   "execution_count": 56,
   "metadata": {},
   "outputs": [
    {
     "data": {
      "text/plain": [
       "movie_title      0\n",
       "director_name    0\n",
       "actor_1_name     0\n",
       "actor_2_name     0\n",
       "actor_3_name     0\n",
       "comb             0\n",
       "genres           0\n",
       "dtype: int64"
      ]
     },
     "execution_count": 56,
     "metadata": {},
     "output_type": "execute_result"
    }
   ],
   "source": [
    "movies_2021.isnull().sum()"
   ]
  },
  {
   "cell_type": "code",
   "execution_count": 57,
   "metadata": {},
   "outputs": [
    {
     "data": {
      "text/plain": [
       "325"
      ]
     },
     "execution_count": 57,
     "metadata": {},
     "output_type": "execute_result"
    }
   ],
   "source": [
    "len(movies_2021)"
   ]
  },
  {
   "cell_type": "code",
   "execution_count": 59,
   "metadata": {},
   "outputs": [],
   "source": [
    "movies_2021.to_csv(\"data_2021_american.csv\",index=False)"
   ]
  },
  {
   "cell_type": "code",
   "execution_count": 60,
   "metadata": {},
   "outputs": [
    {
     "name": "stderr",
     "output_type": "stream",
     "text": [
      "C:\\Users\\shekh\\AppData\\Local\\Temp\\ipykernel_17960\\1453033968.py:107: FutureWarning: Setting an item of incompatible dtype is deprecated and will raise in a future error of pandas. Value 'Katt Shea' has dtype incompatible with float64, please explicitly cast to a compatible dtype first.\n",
      "  movies.at[index, 'director_name'] = result['director_name']\n",
      "C:\\Users\\shekh\\AppData\\Local\\Temp\\ipykernel_17960\\1453033968.py:108: FutureWarning: Setting an item of incompatible dtype is deprecated and will raise in a future error of pandas. Value 'Grant Gustin' has dtype incompatible with float64, please explicitly cast to a compatible dtype first.\n",
      "  movies.at[index, 'actor_1_name'] = result['actor_1_name']\n",
      "C:\\Users\\shekh\\AppData\\Local\\Temp\\ipykernel_17960\\1453033968.py:109: FutureWarning: Setting an item of incompatible dtype is deprecated and will raise in a future error of pandas. Value 'Scott Wolf' has dtype incompatible with float64, please explicitly cast to a compatible dtype first.\n",
      "  movies.at[index, 'actor_2_name'] = result['actor_2_name']\n",
      "C:\\Users\\shekh\\AppData\\Local\\Temp\\ipykernel_17960\\1453033968.py:110: FutureWarning: Setting an item of incompatible dtype is deprecated and will raise in a future error of pandas. Value 'Kaylah Zander' has dtype incompatible with float64, please explicitly cast to a compatible dtype first.\n",
      "  movies.at[index, 'actor_3_name'] = result['actor_3_name']\n"
     ]
    },
    {
     "name": "stdout",
     "output_type": "stream",
     "text": [
      "Error processing actors and directors for row 87: argument of type 'float' is not iterable\n",
      "Error processing actors and directors for row 88: argument of type 'float' is not iterable\n",
      "Error processing actors and directors for row 89: argument of type 'float' is not iterable\n",
      "Error processing actors and directors for row 90: argument of type 'float' is not iterable\n"
     ]
    },
    {
     "name": "stderr",
     "output_type": "stream",
     "text": [
      "C:\\Users\\shekh\\AppData\\Local\\Temp\\ipykernel_17960\\1453033968.py:124: FutureWarning: Setting an item of incompatible dtype is deprecated and will raise in a future error of pandas. Value 'Animation Comedy Family Adventure Fantasy' has dtype incompatible with float64, please explicitly cast to a compatible dtype first.\n",
      "  movies.loc[movies['movie_title'] == title, 'genres'] = genres\n"
     ]
    },
    {
     "name": "stdout",
     "output_type": "stream",
     "text": [
      "Error fetching genres for apollo 10 1⁄2: a space age childhood: attribute name must be string, not 'int'\n",
      "Error fetching genres for do revenge: HTTPSConnectionPool(host='api.themoviedb.org', port=443): Max retries exceeded with url: /3/search/movie?api_key=6d8bfe0dbef34d25e64f64cabec93e20&query=do%20revenge&page=1&language=en-US (Caused by ConnectTimeoutError(<urllib3.connection.HTTPSConnection object at 0x000001B7F9F91150>, 'Connection to api.themoviedb.org timed out. (connect timeout=None)'))\n",
      "Error fetching genres for luckiest girl alive: HTTPSConnectionPool(host='api.themoviedb.org', port=443): Max retries exceeded with url: /3/search/movie?api_key=6d8bfe0dbef34d25e64f64cabec93e20&query=luckiest%20girl%20alive&page=1&language=en-US (Caused by ConnectTimeoutError(<urllib3.connection.HTTPSConnection object at 0x000001B7FA017310>, 'Connection to api.themoviedb.org timed out. (connect timeout=None)'))\n",
      "Error fetching genres for dead for a dollar: HTTPSConnectionPool(host='api.themoviedb.org', port=443): Max retries exceeded with url: /3/search/movie?api_key=6d8bfe0dbef34d25e64f64cabec93e20&query=dead%20for%20a%20dollar&page=1&language=en-US (Caused by ConnectTimeoutError(<urllib3.connection.HTTPSConnection object at 0x000001B7FA03C150>, 'Connection to api.themoviedb.org timed out. (connect timeout=None)'))\n",
      "Error fetching genres for rosaline: HTTPSConnectionPool(host='api.themoviedb.org', port=443): Max retries exceeded with url: /3/search/movie?api_key=6d8bfe0dbef34d25e64f64cabec93e20&query=rosaline&page=1&language=en-US (Caused by ConnectTimeoutError(<urllib3.connection.HTTPSConnection object at 0x000001B7F9FCE010>, 'Connection to api.themoviedb.org timed out. (connect timeout=None)'))\n",
      "Error fetching genres for the curse of bridge hollow: HTTPSConnectionPool(host='api.themoviedb.org', port=443): Max retries exceeded with url: /3/search/movie?api_key=6d8bfe0dbef34d25e64f64cabec93e20&query=the%20curse%20of%20bridge%20hollow&page=1&language=en-US (Caused by ConnectTimeoutError(<urllib3.connection.HTTPSConnection object at 0x000001B7F9FCE690>, 'Connection to api.themoviedb.org timed out. (connect timeout=None)'))\n",
      "Error fetching genres for the school for good and evil: HTTPSConnectionPool(host='api.themoviedb.org', port=443): Max retries exceeded with url: /3/search/movie?api_key=6d8bfe0dbef34d25e64f64cabec93e20&query=the%20school%20for%20good%20and%20evil&page=1&language=en-US (Caused by ConnectTimeoutError(<urllib3.connection.HTTPSConnection object at 0x000001B7FC029F90>, 'Connection to api.themoviedb.org timed out. (connect timeout=None)'))\n",
      "Error fetching genres for black adam: HTTPSConnectionPool(host='api.themoviedb.org', port=443): Max retries exceeded with url: /3/search/movie?api_key=6d8bfe0dbef34d25e64f64cabec93e20&query=black%20adam&page=1&language=en-US (Caused by ConnectTimeoutError(<urllib3.connection.HTTPSConnection object at 0x000001B7FA04A690>, 'Connection to api.themoviedb.org timed out. (connect timeout=None)'))\n",
      "Error fetching genres for ticket to paradise: HTTPSConnectionPool(host='api.themoviedb.org', port=443): Max retries exceeded with url: /3/search/movie?api_key=6d8bfe0dbef34d25e64f64cabec93e20&query=ticket%20to%20paradise&page=1&language=en-US (Caused by ConnectTimeoutError(<urllib3.connection.HTTPSConnection object at 0x000001B7FA013350>, 'Connection to api.themoviedb.org timed out. (connect timeout=None)'))\n",
      "Error fetching genres for the banshees of inisherin: HTTPSConnectionPool(host='api.themoviedb.org', port=443): Max retries exceeded with url: /3/search/movie?api_key=6d8bfe0dbef34d25e64f64cabec93e20&query=the%20banshees%20of%20inisherin&page=1&language=en-US (Caused by ConnectTimeoutError(<urllib3.connection.HTTPSConnection object at 0x000001B7FC031990>, 'Connection to api.themoviedb.org timed out. (connect timeout=None)'))\n",
      "Error fetching genres for nan: quote_from_bytes() expected bytes\n",
      "Error fetching genres for nan: quote_from_bytes() expected bytes\n",
      "Error fetching genres for nan: quote_from_bytes() expected bytes\n",
      "Error fetching genres for nan: quote_from_bytes() expected bytes\n"
     ]
    }
   ],
   "source": [
    "movies_2022 = create_df(\"https://en.wikipedia.org/wiki/List_of_American_films_of_2022\")"
   ]
  },
  {
   "cell_type": "code",
   "execution_count": 61,
   "metadata": {},
   "outputs": [
    {
     "data": {
      "text/html": [
       "<div>\n",
       "<style scoped>\n",
       "    .dataframe tbody tr th:only-of-type {\n",
       "        vertical-align: middle;\n",
       "    }\n",
       "\n",
       "    .dataframe tbody tr th {\n",
       "        vertical-align: top;\n",
       "    }\n",
       "\n",
       "    .dataframe thead th {\n",
       "        text-align: right;\n",
       "    }\n",
       "</style>\n",
       "<table border=\"1\" class=\"dataframe\">\n",
       "  <thead>\n",
       "    <tr style=\"text-align: right;\">\n",
       "      <th></th>\n",
       "      <th>Title</th>\n",
       "      <th>movie_title</th>\n",
       "      <th>director_name</th>\n",
       "      <th>actor_1_name</th>\n",
       "      <th>actor_2_name</th>\n",
       "      <th>actor_3_name</th>\n",
       "      <th>comb</th>\n",
       "      <th>genres</th>\n",
       "    </tr>\n",
       "  </thead>\n",
       "  <tbody>\n",
       "    <tr>\n",
       "      <th>0</th>\n",
       "      <td>The 355</td>\n",
       "      <td>the 355</td>\n",
       "      <td>John Lee Hancock</td>\n",
       "      <td>Donald Sutherland</td>\n",
       "      <td>Jaeden Martell</td>\n",
       "      <td>Joe Tippett</td>\n",
       "      <td>Donald Sutherland Jaeden Martell Joe Tippett J...</td>\n",
       "      <td>Action Thriller</td>\n",
       "    </tr>\n",
       "    <tr>\n",
       "      <th>1</th>\n",
       "      <td>The Legend of La Llorona</td>\n",
       "      <td>the legend of la llorona</td>\n",
       "      <td>Damien Leone</td>\n",
       "      <td>Lauren LaVera</td>\n",
       "      <td>Elliot Fullam</td>\n",
       "      <td>Sarah Voigt</td>\n",
       "      <td>Lauren LaVera Elliot Fullam Sarah Voigt Damien...</td>\n",
       "      <td>Family Animation Fantasy Horror</td>\n",
       "    </tr>\n",
       "    <tr>\n",
       "      <th>2</th>\n",
       "      <td>The Commando</td>\n",
       "      <td>the commando</td>\n",
       "      <td>Will Speck, Josh Gordon</td>\n",
       "      <td>Javier Bardem</td>\n",
       "      <td>Constance Wu</td>\n",
       "      <td>Winslow Fegley</td>\n",
       "      <td>Javier Bardem Constance Wu Winslow Fegley Will...</td>\n",
       "      <td>Action Crime Thriller</td>\n",
       "    </tr>\n",
       "    <tr>\n",
       "      <th>3</th>\n",
       "      <td>American Siege</td>\n",
       "      <td>american siege</td>\n",
       "      <td>David O. Russell</td>\n",
       "      <td>Christian Bale</td>\n",
       "      <td>Margot Robbie</td>\n",
       "      <td>John David Washington</td>\n",
       "      <td>Christian Bale Margot Robbie John David Washin...</td>\n",
       "      <td>Action Adventure Thriller</td>\n",
       "    </tr>\n",
       "    <tr>\n",
       "      <th>4</th>\n",
       "      <td>Scream</td>\n",
       "      <td>scream</td>\n",
       "      <td>Todd Field</td>\n",
       "      <td>Cate Blanchett</td>\n",
       "      <td>Noémie Merlant</td>\n",
       "      <td>Nina Hoss</td>\n",
       "      <td>Cate Blanchett Noémie Merlant Nina Hoss Todd F...</td>\n",
       "      <td>Crime Horror Mystery</td>\n",
       "    </tr>\n",
       "    <tr>\n",
       "      <th>...</th>\n",
       "      <td>...</td>\n",
       "      <td>...</td>\n",
       "      <td>...</td>\n",
       "      <td>...</td>\n",
       "      <td>...</td>\n",
       "      <td>...</td>\n",
       "      <td>...</td>\n",
       "      <td>...</td>\n",
       "    </tr>\n",
       "    <tr>\n",
       "      <th>86</th>\n",
       "      <td>Alice, Darling</td>\n",
       "      <td>alice, darling</td>\n",
       "      <td>Mary Nighy</td>\n",
       "      <td>Anna Kendrick</td>\n",
       "      <td>Kaniehtiio Horn</td>\n",
       "      <td>Charlie Carrick</td>\n",
       "      <td>Anna Kendrick Kaniehtiio Horn Charlie Carrick ...</td>\n",
       "      <td>Thriller Drama Romance</td>\n",
       "    </tr>\n",
       "    <tr>\n",
       "      <th>87</th>\n",
       "      <td>NaN</td>\n",
       "      <td>NaN</td>\n",
       "      <td>Maya Forbes, Wallace Wolodarsky (directors/scr...</td>\n",
       "      <td>Sigourney Weaver</td>\n",
       "      <td>Kevin Kline</td>\n",
       "      <td>Morena Baccarin</td>\n",
       "      <td>Sigourney Weaver Kevin Kline Morena Baccarin M...</td>\n",
       "      <td>NaN</td>\n",
       "    </tr>\n",
       "    <tr>\n",
       "      <th>88</th>\n",
       "      <td>NaN</td>\n",
       "      <td>NaN</td>\n",
       "      <td>Mike Barker</td>\n",
       "      <td>Mila Kunis</td>\n",
       "      <td>NaN</td>\n",
       "      <td>NaN</td>\n",
       "      <td>NaN</td>\n",
       "      <td>NaN</td>\n",
       "    </tr>\n",
       "    <tr>\n",
       "      <th>89</th>\n",
       "      <td>NaN</td>\n",
       "      <td>NaN</td>\n",
       "      <td>Walter Hill</td>\n",
       "      <td>Christoph Waltz</td>\n",
       "      <td>Willem Dafoe</td>\n",
       "      <td>Rachel Brosnahan</td>\n",
       "      <td>Christoph Waltz Willem Dafoe Rachel Brosnahan ...</td>\n",
       "      <td>NaN</td>\n",
       "    </tr>\n",
       "    <tr>\n",
       "      <th>90</th>\n",
       "      <td>NaN</td>\n",
       "      <td>NaN</td>\n",
       "      <td>Damon Thomas</td>\n",
       "      <td>Elsie Fisher</td>\n",
       "      <td>Amiah Miller</td>\n",
       "      <td>Rachel Ogechi Kanu</td>\n",
       "      <td>Elsie Fisher Amiah Miller Rachel Ogechi Kanu D...</td>\n",
       "      <td>NaN</td>\n",
       "    </tr>\n",
       "  </tbody>\n",
       "</table>\n",
       "<p>317 rows × 8 columns</p>\n",
       "</div>"
      ],
      "text/plain": [
       "                       Title               movie_title  \\\n",
       "0                    The 355                   the 355   \n",
       "1   The Legend of La Llorona  the legend of la llorona   \n",
       "2               The Commando              the commando   \n",
       "3             American Siege            american siege   \n",
       "4                     Scream                    scream   \n",
       "..                       ...                       ...   \n",
       "86            Alice, Darling            alice, darling   \n",
       "87                       NaN                       NaN   \n",
       "88                       NaN                       NaN   \n",
       "89                       NaN                       NaN   \n",
       "90                       NaN                       NaN   \n",
       "\n",
       "                                        director_name       actor_1_name  \\\n",
       "0                                    John Lee Hancock  Donald Sutherland   \n",
       "1                                        Damien Leone      Lauren LaVera   \n",
       "2                             Will Speck, Josh Gordon      Javier Bardem   \n",
       "3                                    David O. Russell     Christian Bale   \n",
       "4                                          Todd Field     Cate Blanchett   \n",
       "..                                                ...                ...   \n",
       "86                                         Mary Nighy      Anna Kendrick   \n",
       "87  Maya Forbes, Wallace Wolodarsky (directors/scr...   Sigourney Weaver   \n",
       "88                                        Mike Barker         Mila Kunis   \n",
       "89                                        Walter Hill    Christoph Waltz   \n",
       "90                                       Damon Thomas       Elsie Fisher   \n",
       "\n",
       "       actor_2_name           actor_3_name  \\\n",
       "0    Jaeden Martell            Joe Tippett   \n",
       "1     Elliot Fullam            Sarah Voigt   \n",
       "2      Constance Wu         Winslow Fegley   \n",
       "3     Margot Robbie  John David Washington   \n",
       "4    Noémie Merlant              Nina Hoss   \n",
       "..              ...                    ...   \n",
       "86  Kaniehtiio Horn        Charlie Carrick   \n",
       "87      Kevin Kline        Morena Baccarin   \n",
       "88              NaN                    NaN   \n",
       "89     Willem Dafoe       Rachel Brosnahan   \n",
       "90     Amiah Miller     Rachel Ogechi Kanu   \n",
       "\n",
       "                                                 comb  \\\n",
       "0   Donald Sutherland Jaeden Martell Joe Tippett J...   \n",
       "1   Lauren LaVera Elliot Fullam Sarah Voigt Damien...   \n",
       "2   Javier Bardem Constance Wu Winslow Fegley Will...   \n",
       "3   Christian Bale Margot Robbie John David Washin...   \n",
       "4   Cate Blanchett Noémie Merlant Nina Hoss Todd F...   \n",
       "..                                                ...   \n",
       "86  Anna Kendrick Kaniehtiio Horn Charlie Carrick ...   \n",
       "87  Sigourney Weaver Kevin Kline Morena Baccarin M...   \n",
       "88                                                NaN   \n",
       "89  Christoph Waltz Willem Dafoe Rachel Brosnahan ...   \n",
       "90  Elsie Fisher Amiah Miller Rachel Ogechi Kanu D...   \n",
       "\n",
       "                             genres  \n",
       "0                   Action Thriller  \n",
       "1   Family Animation Fantasy Horror  \n",
       "2             Action Crime Thriller  \n",
       "3         Action Adventure Thriller  \n",
       "4              Crime Horror Mystery  \n",
       "..                              ...  \n",
       "86           Thriller Drama Romance  \n",
       "87                              NaN  \n",
       "88                              NaN  \n",
       "89                              NaN  \n",
       "90                              NaN  \n",
       "\n",
       "[317 rows x 8 columns]"
      ]
     },
     "execution_count": 61,
     "metadata": {},
     "output_type": "execute_result"
    }
   ],
   "source": [
    "movies_2022"
   ]
  },
  {
   "cell_type": "code",
   "execution_count": 62,
   "metadata": {},
   "outputs": [
    {
     "data": {
      "text/plain": [
       "Title             4\n",
       "movie_title       4\n",
       "director_name     0\n",
       "actor_1_name      0\n",
       "actor_2_name     14\n",
       "actor_3_name     24\n",
       "comb             24\n",
       "genres           14\n",
       "dtype: int64"
      ]
     },
     "execution_count": 62,
     "metadata": {},
     "output_type": "execute_result"
    }
   ],
   "source": [
    "movies_2022.isnull().sum()"
   ]
  },
  {
   "cell_type": "code",
   "execution_count": 63,
   "metadata": {},
   "outputs": [],
   "source": [
    "movies_2022.dropna(inplace=True)"
   ]
  },
  {
   "cell_type": "code",
   "execution_count": 64,
   "metadata": {},
   "outputs": [
    {
     "data": {
      "text/plain": [
       "281"
      ]
     },
     "execution_count": 64,
     "metadata": {},
     "output_type": "execute_result"
    }
   ],
   "source": [
    "len(movies_2022)"
   ]
  },
  {
   "cell_type": "code",
   "execution_count": 66,
   "metadata": {},
   "outputs": [],
   "source": [
    "movies_2022.drop('Title',inplace=True,axis=1)"
   ]
  },
  {
   "cell_type": "code",
   "execution_count": 68,
   "metadata": {},
   "outputs": [],
   "source": [
    "movies_2022.to_csv('data_2022_american.csv',index=False)"
   ]
  },
  {
   "cell_type": "code",
   "execution_count": 69,
   "metadata": {},
   "outputs": [
    {
     "name": "stderr",
     "output_type": "stream",
     "text": [
      "C:\\Users\\shekh\\AppData\\Local\\Temp\\ipykernel_17960\\1453033968.py:107: FutureWarning: Setting an item of incompatible dtype is deprecated and will raise in a future error of pandas. Value 'Melissa Vitello' has dtype incompatible with float64, please explicitly cast to a compatible dtype first.\n",
      "  movies.at[index, 'director_name'] = result['director_name']\n",
      "C:\\Users\\shekh\\AppData\\Local\\Temp\\ipykernel_17960\\1453033968.py:108: FutureWarning: Setting an item of incompatible dtype is deprecated and will raise in a future error of pandas. Value 'Melissa Vitello (director); Gunnar Garrett (screnplay); Ava Cantrell' has dtype incompatible with float64, please explicitly cast to a compatible dtype first.\n",
      "  movies.at[index, 'actor_1_name'] = result['actor_1_name']\n",
      "C:\\Users\\shekh\\AppData\\Local\\Temp\\ipykernel_17960\\1453033968.py:109: FutureWarning: Setting an item of incompatible dtype is deprecated and will raise in a future error of pandas. Value 'Tren Reed-Brown' has dtype incompatible with float64, please explicitly cast to a compatible dtype first.\n",
      "  movies.at[index, 'actor_2_name'] = result['actor_2_name']\n",
      "C:\\Users\\shekh\\AppData\\Local\\Temp\\ipykernel_17960\\1453033968.py:110: FutureWarning: Setting an item of incompatible dtype is deprecated and will raise in a future error of pandas. Value 'Hermione Lynch' has dtype incompatible with float64, please explicitly cast to a compatible dtype first.\n",
      "  movies.at[index, 'actor_3_name'] = result['actor_3_name']\n",
      "C:\\Users\\shekh\\AppData\\Local\\Temp\\ipykernel_17960\\1453033968.py:124: FutureWarning: Setting an item of incompatible dtype is deprecated and will raise in a future error of pandas. Value 'Western Drama' has dtype incompatible with float64, please explicitly cast to a compatible dtype first.\n",
      "  movies.loc[movies['movie_title'] == title, 'genres'] = genres\n"
     ]
    },
    {
     "name": "stdout",
     "output_type": "stream",
     "text": [
      "Error fetching genres for the exorcist: believer: HTTPSConnectionPool(host='api.themoviedb.org', port=443): Max retries exceeded with url: /3/search/movie?api_key=6d8bfe0dbef34d25e64f64cabec93e20&query=the%20exorcist%3A%20believer&page=1&language=en-US (Caused by ConnectTimeoutError(<urllib3.connection.HTTPSConnection object at 0x000001B7FF656F50>, 'Connection to api.themoviedb.org timed out. (connect timeout=None)'))\n",
      "Error fetching genres for the caine mutiny court-martial: HTTPSConnectionPool(host='api.themoviedb.org', port=443): Max retries exceeded with url: /3/search/movie?api_key=6d8bfe0dbef34d25e64f64cabec93e20&query=the%20caine%20mutiny%20court-martial&page=1&language=en-US (Caused by ConnectTimeoutError(<urllib3.connection.HTTPSConnection object at 0x000001B7FF691F10>, 'Connection to api.themoviedb.org timed out. (connect timeout=None)'))\n",
      "Error fetching genres for dicks: the musical: HTTPSConnectionPool(host='api.themoviedb.org', port=443): Max retries exceeded with url: /3/search/movie?api_key=6d8bfe0dbef34d25e64f64cabec93e20&query=dicks%3A%20the%20musical&page=1&language=en-US (Caused by ConnectTimeoutError(<urllib3.connection.HTTPSConnection object at 0x000001B7FF693610>, 'Connection to api.themoviedb.org timed out. (connect timeout=None)'))\n",
      "Error fetching genres for desperation road: HTTPSConnectionPool(host='api.themoviedb.org', port=443): Max retries exceeded with url: /3/search/movie?api_key=6d8bfe0dbef34d25e64f64cabec93e20&query=desperation%20road&page=1&language=en-US (Caused by ConnectTimeoutError(<urllib3.connection.HTTPSConnection object at 0x000001B7FF6A7750>, 'Connection to api.themoviedb.org timed out. (connect timeout=None)'))\n",
      "Error fetching genres for dear david: HTTPSConnectionPool(host='api.themoviedb.org', port=443): Max retries exceeded with url: /3/search/movie?api_key=6d8bfe0dbef34d25e64f64cabec93e20&query=dear%20david&page=1&language=en-US (Caused by ConnectTimeoutError(<urllib3.connection.HTTPSConnection object at 0x000001B7FF6E5D90>, 'Connection to api.themoviedb.org timed out. (connect timeout=None)'))\n",
      "Error fetching genres for in the fire: HTTPSConnectionPool(host='api.themoviedb.org', port=443): Max retries exceeded with url: /3/search/movie?api_key=6d8bfe0dbef34d25e64f64cabec93e20&query=in%20the%20fire&page=1&language=en-US (Caused by ConnectTimeoutError(<urllib3.connection.HTTPSConnection object at 0x000001B7FF6EEE90>, 'Connection to api.themoviedb.org timed out. (connect timeout=None)'))\n",
      "Error fetching genres for pain hustlers: HTTPSConnectionPool(host='api.themoviedb.org', port=443): Max retries exceeded with url: /3/search/movie?api_key=6d8bfe0dbef34d25e64f64cabec93e20&query=pain%20hustlers&page=1&language=en-US (Caused by ConnectTimeoutError(<urllib3.connection.HTTPSConnection object at 0x000001B7FF6FE950>, 'Connection to api.themoviedb.org timed out. (connect timeout=None)'))\n",
      "Error fetching genres for nyad: HTTPSConnectionPool(host='api.themoviedb.org', port=443): Max retries exceeded with url: /3/search/movie?api_key=6d8bfe0dbef34d25e64f64cabec93e20&query=nyad&page=1&language=en-US (Caused by ConnectTimeoutError(<urllib3.connection.HTTPSConnection object at 0x000001B7FF714750>, 'Connection to api.themoviedb.org timed out. (connect timeout=None)'))\n"
     ]
    }
   ],
   "source": [
    "movies_2023 = create_df(\"https://en.wikipedia.org/wiki/List_of_American_films_of_2023\")"
   ]
  },
  {
   "cell_type": "code",
   "execution_count": 71,
   "metadata": {},
   "outputs": [
    {
     "data": {
      "text/plain": [
       "343"
      ]
     },
     "execution_count": 71,
     "metadata": {},
     "output_type": "execute_result"
    }
   ],
   "source": [
    "len(movies_2023)"
   ]
  },
  {
   "cell_type": "code",
   "execution_count": 72,
   "metadata": {},
   "outputs": [
    {
     "data": {
      "text/plain": [
       "Title             0\n",
       "movie_title       0\n",
       "director_name     0\n",
       "actor_1_name      0\n",
       "actor_2_name      8\n",
       "actor_3_name     21\n",
       "comb             21\n",
       "genres            8\n",
       "dtype: int64"
      ]
     },
     "execution_count": 72,
     "metadata": {},
     "output_type": "execute_result"
    }
   ],
   "source": [
    "movies_2023.isnull().sum()"
   ]
  },
  {
   "cell_type": "code",
   "execution_count": 73,
   "metadata": {},
   "outputs": [],
   "source": [
    "movies_2023.dropna(inplace=True)"
   ]
  },
  {
   "cell_type": "code",
   "execution_count": 74,
   "metadata": {},
   "outputs": [],
   "source": [
    "movies_2023.drop('Title',axis=1,inplace=True)"
   ]
  },
  {
   "cell_type": "code",
   "execution_count": 75,
   "metadata": {},
   "outputs": [
    {
     "data": {
      "text/html": [
       "<div>\n",
       "<style scoped>\n",
       "    .dataframe tbody tr th:only-of-type {\n",
       "        vertical-align: middle;\n",
       "    }\n",
       "\n",
       "    .dataframe tbody tr th {\n",
       "        vertical-align: top;\n",
       "    }\n",
       "\n",
       "    .dataframe thead th {\n",
       "        text-align: right;\n",
       "    }\n",
       "</style>\n",
       "<table border=\"1\" class=\"dataframe\">\n",
       "  <thead>\n",
       "    <tr style=\"text-align: right;\">\n",
       "      <th></th>\n",
       "      <th>movie_title</th>\n",
       "      <th>director_name</th>\n",
       "      <th>actor_1_name</th>\n",
       "      <th>actor_2_name</th>\n",
       "      <th>actor_3_name</th>\n",
       "      <th>comb</th>\n",
       "      <th>genres</th>\n",
       "    </tr>\n",
       "  </thead>\n",
       "  <tbody>\n",
       "    <tr>\n",
       "      <th>1</th>\n",
       "      <td>the old way</td>\n",
       "      <td>Anna Zlokovic</td>\n",
       "      <td>Hadley Robinson</td>\n",
       "      <td>Emily Hampshire</td>\n",
       "      <td>Brandon Mychal Smith</td>\n",
       "      <td>Hadley Robinson Emily Hampshire Brandon Mychal...</td>\n",
       "      <td>Western Drama</td>\n",
       "    </tr>\n",
       "    <tr>\n",
       "      <th>2</th>\n",
       "      <td>the devil conspiracy</td>\n",
       "      <td>Nathan Frankowski</td>\n",
       "      <td>Alice Orr-Ewing</td>\n",
       "      <td>Joe Doyle</td>\n",
       "      <td>Eveline Hall</td>\n",
       "      <td>Alice Orr-Ewing Joe Doyle Eveline Hall Nathan ...</td>\n",
       "      <td>Horror Fantasy Science Fiction Thriller</td>\n",
       "    </tr>\n",
       "    <tr>\n",
       "      <th>3</th>\n",
       "      <td>plane</td>\n",
       "      <td>Jean-François Richet</td>\n",
       "      <td>Gerard Butler</td>\n",
       "      <td>Mike Colter</td>\n",
       "      <td>Yoson An</td>\n",
       "      <td>Gerard Butler Mike Colter Yoson An Jean-Franço...</td>\n",
       "      <td>Action</td>\n",
       "    </tr>\n",
       "    <tr>\n",
       "      <th>4</th>\n",
       "      <td>house party</td>\n",
       "      <td>Calmatic</td>\n",
       "      <td>Tosin Cole</td>\n",
       "      <td>Jacob Latimore</td>\n",
       "      <td>Karen Obilom</td>\n",
       "      <td>Tosin Cole Jacob Latimore Karen Obilom Calmatic</td>\n",
       "      <td>Comedy</td>\n",
       "    </tr>\n",
       "    <tr>\n",
       "      <th>5</th>\n",
       "      <td>sick</td>\n",
       "      <td>John Hyams</td>\n",
       "      <td>Gideon Adlon</td>\n",
       "      <td>Bethlehem Million</td>\n",
       "      <td>Marc Menchaca</td>\n",
       "      <td>Gideon Adlon Bethlehem Million Marc Menchaca J...</td>\n",
       "      <td>Horror Thriller Mystery</td>\n",
       "    </tr>\n",
       "  </tbody>\n",
       "</table>\n",
       "</div>"
      ],
      "text/plain": [
       "            movie_title         director_name     actor_1_name  \\\n",
       "1           the old way         Anna Zlokovic  Hadley Robinson   \n",
       "2  the devil conspiracy     Nathan Frankowski  Alice Orr-Ewing   \n",
       "3                 plane  Jean-François Richet    Gerard Butler   \n",
       "4           house party              Calmatic       Tosin Cole   \n",
       "5                  sick            John Hyams     Gideon Adlon   \n",
       "\n",
       "        actor_2_name          actor_3_name  \\\n",
       "1    Emily Hampshire  Brandon Mychal Smith   \n",
       "2          Joe Doyle          Eveline Hall   \n",
       "3        Mike Colter              Yoson An   \n",
       "4     Jacob Latimore          Karen Obilom   \n",
       "5  Bethlehem Million         Marc Menchaca   \n",
       "\n",
       "                                                comb  \\\n",
       "1  Hadley Robinson Emily Hampshire Brandon Mychal...   \n",
       "2  Alice Orr-Ewing Joe Doyle Eveline Hall Nathan ...   \n",
       "3  Gerard Butler Mike Colter Yoson An Jean-Franço...   \n",
       "4    Tosin Cole Jacob Latimore Karen Obilom Calmatic   \n",
       "5  Gideon Adlon Bethlehem Million Marc Menchaca J...   \n",
       "\n",
       "                                    genres  \n",
       "1                            Western Drama  \n",
       "2  Horror Fantasy Science Fiction Thriller  \n",
       "3                                   Action  \n",
       "4                                   Comedy  \n",
       "5                  Horror Thriller Mystery  "
      ]
     },
     "execution_count": 75,
     "metadata": {},
     "output_type": "execute_result"
    }
   ],
   "source": [
    "movies_2023.head()"
   ]
  },
  {
   "cell_type": "code",
   "execution_count": 76,
   "metadata": {},
   "outputs": [
    {
     "data": {
      "text/plain": [
       "movie_title      0\n",
       "director_name    0\n",
       "actor_1_name     0\n",
       "actor_2_name     0\n",
       "actor_3_name     0\n",
       "comb             0\n",
       "genres           0\n",
       "dtype: int64"
      ]
     },
     "execution_count": 76,
     "metadata": {},
     "output_type": "execute_result"
    }
   ],
   "source": [
    "movies_2023.isna().sum()"
   ]
  },
  {
   "cell_type": "code",
   "execution_count": 77,
   "metadata": {},
   "outputs": [
    {
     "data": {
      "text/plain": [
       "315"
      ]
     },
     "execution_count": 77,
     "metadata": {},
     "output_type": "execute_result"
    }
   ],
   "source": [
    "len(movies_2023)"
   ]
  },
  {
   "cell_type": "code",
   "execution_count": 78,
   "metadata": {},
   "outputs": [],
   "source": [
    "movies_2023.to_csv('data_2023_american.csv',index=False)"
   ]
  },
  {
   "cell_type": "code",
   "execution_count": 79,
   "metadata": {},
   "outputs": [
    {
     "name": "stderr",
     "output_type": "stream",
     "text": [
      "C:\\Users\\shekh\\AppData\\Local\\Temp\\ipykernel_17960\\1453033968.py:107: FutureWarning: Setting an item of incompatible dtype is deprecated and will raise in a future error of pandas. Value 'Lije Sarki' has dtype incompatible with float64, please explicitly cast to a compatible dtype first.\n",
      "  movies.at[index, 'director_name'] = result['director_name']\n",
      "C:\\Users\\shekh\\AppData\\Local\\Temp\\ipykernel_17960\\1453033968.py:108: FutureWarning: Setting an item of incompatible dtype is deprecated and will raise in a future error of pandas. Value 'Johnny Knoxville' has dtype incompatible with float64, please explicitly cast to a compatible dtype first.\n",
      "  movies.at[index, 'actor_1_name'] = result['actor_1_name']\n",
      "C:\\Users\\shekh\\AppData\\Local\\Temp\\ipykernel_17960\\1453033968.py:109: FutureWarning: Setting an item of incompatible dtype is deprecated and will raise in a future error of pandas. Value 'Mo Amer' has dtype incompatible with float64, please explicitly cast to a compatible dtype first.\n",
      "  movies.at[index, 'actor_2_name'] = result['actor_2_name']\n",
      "C:\\Users\\shekh\\AppData\\Local\\Temp\\ipykernel_17960\\1453033968.py:110: FutureWarning: Setting an item of incompatible dtype is deprecated and will raise in a future error of pandas. Value 'Theo Von' has dtype incompatible with float64, please explicitly cast to a compatible dtype first.\n",
      "  movies.at[index, 'actor_3_name'] = result['actor_3_name']\n",
      "C:\\Users\\shekh\\AppData\\Local\\Temp\\ipykernel_17960\\1453033968.py:124: FutureWarning: Setting an item of incompatible dtype is deprecated and will raise in a future error of pandas. Value 'Horror Crime' has dtype incompatible with float64, please explicitly cast to a compatible dtype first.\n",
      "  movies.loc[movies['movie_title'] == title, 'genres'] = genres\n"
     ]
    },
    {
     "name": "stdout",
     "output_type": "stream",
     "text": [
      "Error fetching genres for challengers: HTTPSConnectionPool(host='api.themoviedb.org', port=443): Max retries exceeded with url: /3/search/movie?api_key=6d8bfe0dbef34d25e64f64cabec93e20&query=challengers&page=1&language=en-US (Caused by ConnectTimeoutError(<urllib3.connection.HTTPSConnection object at 0x000001B7FFC184D0>, 'Connection to api.themoviedb.org timed out. (connect timeout=None)'))\n",
      "Error fetching genres for fly me to the moon: HTTPSConnectionPool(host='api.themoviedb.org', port=443): Max retries exceeded with url: /3/search/movie?api_key=6d8bfe0dbef34d25e64f64cabec93e20&query=fly%20me%20to%20the%20moon&page=1&language=en-US (Caused by ConnectTimeoutError(<urllib3.connection.HTTPSConnection object at 0x000001B7FFE0F590>, 'Connection to api.themoviedb.org timed out. (connect timeout=None)'))\n",
      "Error fetching genres for lumina: HTTPSConnectionPool(host='api.themoviedb.org', port=443): Max retries exceeded with url: /3/search/movie?api_key=6d8bfe0dbef34d25e64f64cabec93e20&query=lumina&page=1&language=en-US (Caused by ConnectTimeoutError(<urllib3.connection.HTTPSConnection object at 0x000001B7FFE3EC90>, 'Connection to api.themoviedb.org timed out. (connect timeout=None)'))\n",
      "Error fetching genres for june zero: HTTPSConnectionPool(host='api.themoviedb.org', port=443): Max retries exceeded with url: /3/search/movie?api_key=6d8bfe0dbef34d25e64f64cabec93e20&query=june%20zero&page=1&language=en-US (Caused by ConnectTimeoutError(<urllib3.connection.HTTPSConnection object at 0x000001B7FFE49E50>, 'Connection to api.themoviedb.org timed out. (connect timeout=None)'))\n",
      "Error fetching genres for my spy: the eternal city: HTTPSConnectionPool(host='api.themoviedb.org', port=443): Max retries exceeded with url: /3/search/movie?api_key=6d8bfe0dbef34d25e64f64cabec93e20&query=my%20spy%3A%20the%20eternal%20city&page=1&language=en-US (Caused by ConnectTimeoutError(<urllib3.connection.HTTPSConnection object at 0x000001B7FFE4A810>, 'Connection to api.themoviedb.org timed out. (connect timeout=None)'))\n",
      "Error fetching genres for the good half: HTTPSConnectionPool(host='api.themoviedb.org', port=443): Max retries exceeded with url: /3/search/movie?api_key=6d8bfe0dbef34d25e64f64cabec93e20&query=the%20good%20half&page=1&language=en-US (Caused by ConnectTimeoutError(<urllib3.connection.HTTPSConnection object at 0x000001B7FFC1BD90>, 'Connection to api.themoviedb.org timed out. (connect timeout=None)'))\n",
      "Error fetching genres for deadpool & wolverine: HTTPSConnectionPool(host='api.themoviedb.org', port=443): Max retries exceeded with url: /3/search/movie?api_key=6d8bfe0dbef34d25e64f64cabec93e20&query=deadpool%20%26%20wolverine&page=1&language=en-US (Caused by ConnectTimeoutError(<urllib3.connection.HTTPSConnection object at 0x000001B7FFE59150>, 'Connection to api.themoviedb.org timed out. (connect timeout=None)'))\n",
      "Error fetching genres for untitled smile sequel: attribute name must be string, not 'int'\n"
     ]
    }
   ],
   "source": [
    "movies_2024 = create_df(\"https://en.wikipedia.org/wiki/List_of_American_films_of_2024\")"
   ]
  },
  {
   "cell_type": "code",
   "execution_count": 80,
   "metadata": {},
   "outputs": [
    {
     "data": {
      "text/html": [
       "<div>\n",
       "<style scoped>\n",
       "    .dataframe tbody tr th:only-of-type {\n",
       "        vertical-align: middle;\n",
       "    }\n",
       "\n",
       "    .dataframe tbody tr th {\n",
       "        vertical-align: top;\n",
       "    }\n",
       "\n",
       "    .dataframe thead th {\n",
       "        text-align: right;\n",
       "    }\n",
       "</style>\n",
       "<table border=\"1\" class=\"dataframe\">\n",
       "  <thead>\n",
       "    <tr style=\"text-align: right;\">\n",
       "      <th></th>\n",
       "      <th>Title</th>\n",
       "      <th>movie_title</th>\n",
       "      <th>director_name</th>\n",
       "      <th>actor_1_name</th>\n",
       "      <th>actor_2_name</th>\n",
       "      <th>actor_3_name</th>\n",
       "      <th>comb</th>\n",
       "      <th>genres</th>\n",
       "    </tr>\n",
       "  </thead>\n",
       "  <tbody>\n",
       "    <tr>\n",
       "      <th>0</th>\n",
       "      <td>The Mummy Murders</td>\n",
       "      <td>the mummy murders</td>\n",
       "      <td>Todd Phillips</td>\n",
       "      <td>Joaquin Phoenix</td>\n",
       "      <td>Lady Gaga</td>\n",
       "      <td>Zazie Beetz</td>\n",
       "      <td>Joaquin Phoenix Lady Gaga Zazie Beetz Todd Phi...</td>\n",
       "      <td>Horror Crime</td>\n",
       "    </tr>\n",
       "    <tr>\n",
       "      <th>1</th>\n",
       "      <td>Self Reliance</td>\n",
       "      <td>self reliance</td>\n",
       "      <td>Marc Forster</td>\n",
       "      <td>Ariella Glaser</td>\n",
       "      <td>Orlando Schwerdt</td>\n",
       "      <td>Bryce Gheisar</td>\n",
       "      <td>Ariella Glaser Orlando Schwerdt Bryce Gheisar ...</td>\n",
       "      <td>Comedy Thriller</td>\n",
       "    </tr>\n",
       "    <tr>\n",
       "      <th>2</th>\n",
       "      <td>DarkGame</td>\n",
       "      <td>darkgame</td>\n",
       "      <td>Potsy Ponciroli</td>\n",
       "      <td>Joseph Gordon-Levitt</td>\n",
       "      <td>Lily James</td>\n",
       "      <td>Himesh Patel</td>\n",
       "      <td>Joseph Gordon-Levitt Lily James Himesh Patel P...</td>\n",
       "      <td>Horror Thriller</td>\n",
       "    </tr>\n",
       "    <tr>\n",
       "      <th>3</th>\n",
       "      <td>Night Swim</td>\n",
       "      <td>night swim</td>\n",
       "      <td>Morgan Neville</td>\n",
       "      <td>Morgan Neville (director)</td>\n",
       "      <td>NaN</td>\n",
       "      <td>NaN</td>\n",
       "      <td>NaN</td>\n",
       "      <td>Horror</td>\n",
       "    </tr>\n",
       "    <tr>\n",
       "      <th>4</th>\n",
       "      <td>He Went That Way</td>\n",
       "      <td>he went that way</td>\n",
       "      <td>Damien Leone</td>\n",
       "      <td>Lauren LaVera</td>\n",
       "      <td>Elliot Fullam</td>\n",
       "      <td>Samantha Scaffidi</td>\n",
       "      <td>Lauren LaVera Elliot Fullam Samantha Scaffidi ...</td>\n",
       "      <td>Mystery Thriller Crime Drama</td>\n",
       "    </tr>\n",
       "  </tbody>\n",
       "</table>\n",
       "</div>"
      ],
      "text/plain": [
       "               Title        movie_title    director_name  \\\n",
       "0  The Mummy Murders  the mummy murders    Todd Phillips   \n",
       "1      Self Reliance      self reliance     Marc Forster   \n",
       "2           DarkGame           darkgame  Potsy Ponciroli   \n",
       "3         Night Swim         night swim   Morgan Neville   \n",
       "4   He Went That Way   he went that way     Damien Leone   \n",
       "\n",
       "                actor_1_name      actor_2_name       actor_3_name  \\\n",
       "0            Joaquin Phoenix         Lady Gaga        Zazie Beetz   \n",
       "1             Ariella Glaser  Orlando Schwerdt      Bryce Gheisar   \n",
       "2       Joseph Gordon-Levitt        Lily James       Himesh Patel   \n",
       "3  Morgan Neville (director)               NaN                NaN   \n",
       "4              Lauren LaVera     Elliot Fullam  Samantha Scaffidi   \n",
       "\n",
       "                                                comb  \\\n",
       "0  Joaquin Phoenix Lady Gaga Zazie Beetz Todd Phi...   \n",
       "1  Ariella Glaser Orlando Schwerdt Bryce Gheisar ...   \n",
       "2  Joseph Gordon-Levitt Lily James Himesh Patel P...   \n",
       "3                                                NaN   \n",
       "4  Lauren LaVera Elliot Fullam Samantha Scaffidi ...   \n",
       "\n",
       "                         genres  \n",
       "0                  Horror Crime  \n",
       "1               Comedy Thriller  \n",
       "2               Horror Thriller  \n",
       "3                        Horror  \n",
       "4  Mystery Thriller Crime Drama  "
      ]
     },
     "execution_count": 80,
     "metadata": {},
     "output_type": "execute_result"
    }
   ],
   "source": [
    "movies_2024.head()"
   ]
  },
  {
   "cell_type": "code",
   "execution_count": 81,
   "metadata": {},
   "outputs": [
    {
     "data": {
      "text/plain": [
       "Title             0\n",
       "movie_title       0\n",
       "director_name     0\n",
       "actor_1_name      0\n",
       "actor_2_name      5\n",
       "actor_3_name     26\n",
       "comb             26\n",
       "genres           10\n",
       "dtype: int64"
      ]
     },
     "execution_count": 81,
     "metadata": {},
     "output_type": "execute_result"
    }
   ],
   "source": [
    "movies_2024.isnull().sum()"
   ]
  },
  {
   "cell_type": "code",
   "execution_count": 82,
   "metadata": {},
   "outputs": [],
   "source": [
    "movies_2024.dropna(inplace=True)"
   ]
  },
  {
   "cell_type": "code",
   "execution_count": 83,
   "metadata": {},
   "outputs": [],
   "source": [
    "movies_2024.drop('Title',axis=1,inplace=True)"
   ]
  },
  {
   "cell_type": "code",
   "execution_count": 84,
   "metadata": {},
   "outputs": [
    {
     "data": {
      "text/plain": [
       "movie_title      0\n",
       "director_name    0\n",
       "actor_1_name     0\n",
       "actor_2_name     0\n",
       "actor_3_name     0\n",
       "comb             0\n",
       "genres           0\n",
       "dtype: int64"
      ]
     },
     "execution_count": 84,
     "metadata": {},
     "output_type": "execute_result"
    }
   ],
   "source": [
    "movies_2024.isnull().sum()"
   ]
  },
  {
   "cell_type": "code",
   "execution_count": 85,
   "metadata": {},
   "outputs": [
    {
     "data": {
      "text/plain": [
       "270"
      ]
     },
     "execution_count": 85,
     "metadata": {},
     "output_type": "execute_result"
    }
   ],
   "source": [
    "len(movies_2024)"
   ]
  },
  {
   "cell_type": "code",
   "execution_count": 86,
   "metadata": {},
   "outputs": [],
   "source": [
    "movies_2024.to_csv(\"data_2024_american.csv\",index=False)"
   ]
  },
  {
   "cell_type": "code",
   "execution_count": 87,
   "metadata": {},
   "outputs": [
    {
     "name": "stderr",
     "output_type": "stream",
     "text": [
      "C:\\Users\\shekh\\AppData\\Local\\Temp\\ipykernel_17960\\1453033968.py:107: FutureWarning: Setting an item of incompatible dtype is deprecated and will raise in a future error of pandas. Value 'Len Wiseman' has dtype incompatible with float64, please explicitly cast to a compatible dtype first.\n",
      "  movies.at[index, 'director_name'] = result['director_name']\n",
      "C:\\Users\\shekh\\AppData\\Local\\Temp\\ipykernel_17960\\1453033968.py:108: FutureWarning: Setting an item of incompatible dtype is deprecated and will raise in a future error of pandas. Value 'Ana de Armas' has dtype incompatible with float64, please explicitly cast to a compatible dtype first.\n",
      "  movies.at[index, 'actor_1_name'] = result['actor_1_name']\n",
      "C:\\Users\\shekh\\AppData\\Local\\Temp\\ipykernel_17960\\1453033968.py:109: FutureWarning: Setting an item of incompatible dtype is deprecated and will raise in a future error of pandas. Value 'Anjelica Huston' has dtype incompatible with float64, please explicitly cast to a compatible dtype first.\n",
      "  movies.at[index, 'actor_2_name'] = result['actor_2_name']\n",
      "C:\\Users\\shekh\\AppData\\Local\\Temp\\ipykernel_17960\\1453033968.py:110: FutureWarning: Setting an item of incompatible dtype is deprecated and will raise in a future error of pandas. Value 'Gabriel Byrne' has dtype incompatible with float64, please explicitly cast to a compatible dtype first.\n",
      "  movies.at[index, 'actor_3_name'] = result['actor_3_name']\n"
     ]
    },
    {
     "name": "stdout",
     "output_type": "stream",
     "text": [
      "Error processing actors and directors for row 11: argument of type 'float' is not iterable\n",
      "Error processing actors and directors for row 0: argument of type 'float' is not iterable\n",
      "Error fetching genres for untitled eighth mission: impossible film: attribute name must be string, not 'int'\n",
      "Error fetching genres for the passion of the christ: resurrection - chapter i: attribute name must be string, not 'int'\n"
     ]
    },
    {
     "name": "stderr",
     "output_type": "stream",
     "text": [
      "C:\\Users\\shekh\\AppData\\Local\\Temp\\ipykernel_17960\\1453033968.py:124: FutureWarning: Setting an item of incompatible dtype is deprecated and will raise in a future error of pandas. Value 'Thriller' has dtype incompatible with float64, please explicitly cast to a compatible dtype first.\n",
      "  movies.loc[movies['movie_title'] == title, 'genres'] = genres\n"
     ]
    },
    {
     "name": "stdout",
     "output_type": "stream",
     "text": [
      "Error fetching genres for untitled joseph kosinski film: attribute name must be string, not 'int'\n",
      "Error fetching genres for untitled matt stone and trey parker film: attribute name must be string, not 'int'\n",
      "Error fetching genres for untitled jurassic world film: attribute name must be string, not 'int'\n",
      "Error fetching genres for upcoming paul thomas anderson film: attribute name must be string, not 'int'\n",
      "Error fetching genres for nan: quote_from_bytes() expected bytes\n"
     ]
    }
   ],
   "source": [
    "movies_2025 = create_df(\"https://en.wikipedia.org/wiki/List_of_American_films_of_2025\")"
   ]
  },
  {
   "cell_type": "code",
   "execution_count": 88,
   "metadata": {},
   "outputs": [
    {
     "data": {
      "text/html": [
       "<div>\n",
       "<style scoped>\n",
       "    .dataframe tbody tr th:only-of-type {\n",
       "        vertical-align: middle;\n",
       "    }\n",
       "\n",
       "    .dataframe tbody tr th {\n",
       "        vertical-align: top;\n",
       "    }\n",
       "\n",
       "    .dataframe thead th {\n",
       "        text-align: right;\n",
       "    }\n",
       "</style>\n",
       "<table border=\"1\" class=\"dataframe\">\n",
       "  <thead>\n",
       "    <tr style=\"text-align: right;\">\n",
       "      <th></th>\n",
       "      <th>Title</th>\n",
       "      <th>movie_title</th>\n",
       "      <th>director_name</th>\n",
       "      <th>actor_1_name</th>\n",
       "      <th>actor_2_name</th>\n",
       "      <th>actor_3_name</th>\n",
       "      <th>comb</th>\n",
       "      <th>genres</th>\n",
       "    </tr>\n",
       "  </thead>\n",
       "  <tbody>\n",
       "    <tr>\n",
       "      <th>0</th>\n",
       "      <td>Minecraft</td>\n",
       "      <td>minecraft</td>\n",
       "      <td>Maggie Gyllenhaal</td>\n",
       "      <td>Jessie Buckley</td>\n",
       "      <td>Christian Bale</td>\n",
       "      <td>Penélope Cruz</td>\n",
       "      <td>Jessie Buckley Christian Bale Penélope Cruz Ma...</td>\n",
       "      <td>Adventure Fantasy Family Action</td>\n",
       "    </tr>\n",
       "    <tr>\n",
       "      <th>1</th>\n",
       "      <td>The Amateur</td>\n",
       "      <td>the amateur</td>\n",
       "      <td>Trey Parker</td>\n",
       "      <td>Kendrick Lamar</td>\n",
       "      <td>NaN</td>\n",
       "      <td>NaN</td>\n",
       "      <td>NaN</td>\n",
       "      <td>Thriller</td>\n",
       "    </tr>\n",
       "    <tr>\n",
       "      <th>2</th>\n",
       "      <td>Drop</td>\n",
       "      <td>drop</td>\n",
       "      <td>Christopher Landon</td>\n",
       "      <td>Meghann Fahy</td>\n",
       "      <td>Brandon Sklenar</td>\n",
       "      <td>Jeffery Self</td>\n",
       "      <td>Meghann Fahy Brandon Sklenar Jeffery Self Chri...</td>\n",
       "      <td>Thriller</td>\n",
       "    </tr>\n",
       "    <tr>\n",
       "      <th>3</th>\n",
       "      <td>Michael</td>\n",
       "      <td>michael</td>\n",
       "      <td>Simon McQuoid</td>\n",
       "      <td>Lewis Tan</td>\n",
       "      <td>Karl Urban</td>\n",
       "      <td>Jessica McNamee</td>\n",
       "      <td>Lewis Tan Karl Urban Jessica McNamee Simon McQ...</td>\n",
       "      <td>Comedy Drama Fantasy</td>\n",
       "    </tr>\n",
       "    <tr>\n",
       "      <th>4</th>\n",
       "      <td>The Passion of the Christ: Resurrection - Chap...</td>\n",
       "      <td>the passion of the christ: resurrection - chap...</td>\n",
       "      <td>Jennifer Kaytin Robinson</td>\n",
       "      <td>Jennifer Kaytin Robinson (director); Leah McKe...</td>\n",
       "      <td>NaN</td>\n",
       "      <td>NaN</td>\n",
       "      <td>NaN</td>\n",
       "      <td>NaN</td>\n",
       "    </tr>\n",
       "  </tbody>\n",
       "</table>\n",
       "</div>"
      ],
      "text/plain": [
       "                                               Title  \\\n",
       "0                                          Minecraft   \n",
       "1                                        The Amateur   \n",
       "2                                               Drop   \n",
       "3                                            Michael   \n",
       "4  The Passion of the Christ: Resurrection - Chap...   \n",
       "\n",
       "                                         movie_title  \\\n",
       "0                                          minecraft   \n",
       "1                                        the amateur   \n",
       "2                                               drop   \n",
       "3                                            michael   \n",
       "4  the passion of the christ: resurrection - chap...   \n",
       "\n",
       "              director_name  \\\n",
       "0         Maggie Gyllenhaal   \n",
       "1               Trey Parker   \n",
       "2        Christopher Landon   \n",
       "3             Simon McQuoid   \n",
       "4  Jennifer Kaytin Robinson   \n",
       "\n",
       "                                        actor_1_name     actor_2_name  \\\n",
       "0                                     Jessie Buckley   Christian Bale   \n",
       "1                                     Kendrick Lamar              NaN   \n",
       "2                                       Meghann Fahy  Brandon Sklenar   \n",
       "3                                          Lewis Tan       Karl Urban   \n",
       "4  Jennifer Kaytin Robinson (director); Leah McKe...              NaN   \n",
       "\n",
       "      actor_3_name                                               comb  \\\n",
       "0    Penélope Cruz  Jessie Buckley Christian Bale Penélope Cruz Ma...   \n",
       "1              NaN                                                NaN   \n",
       "2     Jeffery Self  Meghann Fahy Brandon Sklenar Jeffery Self Chri...   \n",
       "3  Jessica McNamee  Lewis Tan Karl Urban Jessica McNamee Simon McQ...   \n",
       "4              NaN                                                NaN   \n",
       "\n",
       "                            genres  \n",
       "0  Adventure Fantasy Family Action  \n",
       "1                         Thriller  \n",
       "2                         Thriller  \n",
       "3             Comedy Drama Fantasy  \n",
       "4                              NaN  "
      ]
     },
     "execution_count": 88,
     "metadata": {},
     "output_type": "execute_result"
    }
   ],
   "source": [
    "movies_2025.head()"
   ]
  },
  {
   "cell_type": "code",
   "execution_count": 89,
   "metadata": {},
   "outputs": [
    {
     "data": {
      "text/plain": [
       "Title             1\n",
       "movie_title       1\n",
       "director_name     0\n",
       "actor_1_name      0\n",
       "actor_2_name      8\n",
       "actor_3_name     19\n",
       "comb             19\n",
       "genres            7\n",
       "dtype: int64"
      ]
     },
     "execution_count": 89,
     "metadata": {},
     "output_type": "execute_result"
    }
   ],
   "source": [
    "movies_2025.isnull().sum()"
   ]
  },
  {
   "cell_type": "code",
   "execution_count": 90,
   "metadata": {},
   "outputs": [
    {
     "data": {
      "text/plain": [
       "43"
      ]
     },
     "execution_count": 90,
     "metadata": {},
     "output_type": "execute_result"
    }
   ],
   "source": [
    "len(movies_2025)"
   ]
  },
  {
   "cell_type": "code",
   "execution_count": 91,
   "metadata": {},
   "outputs": [],
   "source": [
    "movies_2025.drop('Title',axis=1,inplace=True)"
   ]
  },
  {
   "cell_type": "code",
   "execution_count": 92,
   "metadata": {},
   "outputs": [],
   "source": [
    "movies_2025.dropna(inplace=True)"
   ]
  },
  {
   "cell_type": "code",
   "execution_count": 93,
   "metadata": {},
   "outputs": [
    {
     "data": {
      "text/plain": [
       "movie_title      0\n",
       "director_name    0\n",
       "actor_1_name     0\n",
       "actor_2_name     0\n",
       "actor_3_name     0\n",
       "comb             0\n",
       "genres           0\n",
       "dtype: int64"
      ]
     },
     "execution_count": 93,
     "metadata": {},
     "output_type": "execute_result"
    }
   ],
   "source": [
    "movies_2025.isnull().sum()"
   ]
  },
  {
   "cell_type": "code",
   "execution_count": 94,
   "metadata": {},
   "outputs": [
    {
     "data": {
      "text/plain": [
       "19"
      ]
     },
     "execution_count": 94,
     "metadata": {},
     "output_type": "execute_result"
    }
   ],
   "source": [
    "len(movies_2025)"
   ]
  },
  {
   "cell_type": "code",
   "execution_count": 95,
   "metadata": {},
   "outputs": [],
   "source": [
    "movies_2025.to_csv('data_2025_american.csv',index=False)"
   ]
  },
  {
   "cell_type": "code",
   "execution_count": 96,
   "metadata": {},
   "outputs": [],
   "source": [
    "data = pd.read_csv(r\"D:\\Movies\\final_movies_hindi_data.csv\")\n",
    "data1 = pd.read_csv('D:\\Movies\\data_2018_american.csv')\n",
    "data2 = pd.read_csv('D:\\Movies\\data_2019_american.csv')\n",
    "data3 = pd.read_csv('D:\\Movies\\data_2020_american.csv')\n",
    "data4 = pd.read_csv('D:\\Movies\\data_2021_american.csv')\n",
    "data5 = pd.read_csv('D:\\Movies\\data_2022_american.csv')\n",
    "data6 = pd.read_csv('D:\\Movies\\data_2023_american.csv')\n",
    "data7 = pd.read_csv(\"D:\\Movies\\data_2024_american.csv\")\n",
    "data8 = pd.read_csv(\"D:\\Movies\\data_2025_american.csv\")"
   ]
  },
  {
   "cell_type": "code",
   "execution_count": 97,
   "metadata": {},
   "outputs": [
    {
     "name": "stdout",
     "output_type": "stream",
     "text": [
      "7611\n"
     ]
    }
   ],
   "source": [
    "print(len(data)+len(data1)+len(data2)+len(data3)+len(data4)+len(data5)+len(data6)+len(data7)+len(data8))"
   ]
  },
  {
   "cell_type": "code",
   "execution_count": 99,
   "metadata": {},
   "outputs": [
    {
     "name": "stdout",
     "output_type": "stream",
     "text": [
      "5745\n"
     ]
    }
   ],
   "source": [
    "print(len(data))"
   ]
  },
  {
   "cell_type": "code",
   "execution_count": 100,
   "metadata": {},
   "outputs": [
    {
     "name": "stdout",
     "output_type": "stream",
     "text": [
      "1866\n"
     ]
    }
   ],
   "source": [
    "print(len(data1)+len(data2)+len(data3)+len(data4)+len(data5)+len(data6)+len(data7)+len(data8))"
   ]
  },
  {
   "cell_type": "code",
   "execution_count": 101,
   "metadata": {},
   "outputs": [],
   "source": [
    "final_movies_data =  pd.concat([data,data1,data2,data3,data4,data5,data6,data7,data8],axis=0).reset_index()"
   ]
  },
  {
   "cell_type": "code",
   "execution_count": 102,
   "metadata": {},
   "outputs": [
    {
     "data": {
      "text/html": [
       "<div>\n",
       "<style scoped>\n",
       "    .dataframe tbody tr th:only-of-type {\n",
       "        vertical-align: middle;\n",
       "    }\n",
       "\n",
       "    .dataframe tbody tr th {\n",
       "        vertical-align: top;\n",
       "    }\n",
       "\n",
       "    .dataframe thead th {\n",
       "        text-align: right;\n",
       "    }\n",
       "</style>\n",
       "<table border=\"1\" class=\"dataframe\">\n",
       "  <thead>\n",
       "    <tr style=\"text-align: right;\">\n",
       "      <th></th>\n",
       "      <th>index</th>\n",
       "      <th>director_name</th>\n",
       "      <th>actor_1_name</th>\n",
       "      <th>actor_2_name</th>\n",
       "      <th>actor_3_name</th>\n",
       "      <th>genres</th>\n",
       "      <th>movie_title</th>\n",
       "      <th>comb</th>\n",
       "      <th>Unnamed: 0</th>\n",
       "    </tr>\n",
       "  </thead>\n",
       "  <tbody>\n",
       "    <tr>\n",
       "      <th>0</th>\n",
       "      <td>0</td>\n",
       "      <td>James Cameron</td>\n",
       "      <td>CCH Pounder</td>\n",
       "      <td>Joel David Moore</td>\n",
       "      <td>Wes Studi</td>\n",
       "      <td>Action Adventure Fantasy Sci-Fi</td>\n",
       "      <td>avatar</td>\n",
       "      <td>CCH Pounder Joel David Moore Wes Studi James C...</td>\n",
       "      <td>NaN</td>\n",
       "    </tr>\n",
       "    <tr>\n",
       "      <th>1</th>\n",
       "      <td>1</td>\n",
       "      <td>Gore Verbinski</td>\n",
       "      <td>Johnny Depp</td>\n",
       "      <td>Orlando Bloom</td>\n",
       "      <td>Jack Davenport</td>\n",
       "      <td>Action Adventure Fantasy</td>\n",
       "      <td>pirates of the caribbean: at world's end</td>\n",
       "      <td>Johnny Depp Orlando Bloom Jack Davenport Gore ...</td>\n",
       "      <td>NaN</td>\n",
       "    </tr>\n",
       "    <tr>\n",
       "      <th>2</th>\n",
       "      <td>2</td>\n",
       "      <td>Sam Mendes</td>\n",
       "      <td>Christoph Waltz</td>\n",
       "      <td>Rory Kinnear</td>\n",
       "      <td>Stephanie Sigman</td>\n",
       "      <td>Action Adventure Thriller</td>\n",
       "      <td>spectre</td>\n",
       "      <td>Christoph Waltz Rory Kinnear Stephanie Sigman ...</td>\n",
       "      <td>NaN</td>\n",
       "    </tr>\n",
       "    <tr>\n",
       "      <th>3</th>\n",
       "      <td>3</td>\n",
       "      <td>Christopher Nolan</td>\n",
       "      <td>Tom Hardy</td>\n",
       "      <td>Christian Bale</td>\n",
       "      <td>Joseph Gordon-Levitt</td>\n",
       "      <td>Action Thriller</td>\n",
       "      <td>the dark knight rises</td>\n",
       "      <td>Tom Hardy Christian Bale Joseph Gordon-Levitt ...</td>\n",
       "      <td>NaN</td>\n",
       "    </tr>\n",
       "    <tr>\n",
       "      <th>4</th>\n",
       "      <td>4</td>\n",
       "      <td>Andrew Stanton</td>\n",
       "      <td>Daryl Sabara</td>\n",
       "      <td>Samantha Morton</td>\n",
       "      <td>Polly Walker</td>\n",
       "      <td>Action Adventure Sci-Fi</td>\n",
       "      <td>john carter</td>\n",
       "      <td>Daryl Sabara Samantha Morton Polly Walker Andr...</td>\n",
       "      <td>NaN</td>\n",
       "    </tr>\n",
       "    <tr>\n",
       "      <th>...</th>\n",
       "      <td>...</td>\n",
       "      <td>...</td>\n",
       "      <td>...</td>\n",
       "      <td>...</td>\n",
       "      <td>...</td>\n",
       "      <td>...</td>\n",
       "      <td>...</td>\n",
       "      <td>...</td>\n",
       "      <td>...</td>\n",
       "    </tr>\n",
       "    <tr>\n",
       "      <th>7606</th>\n",
       "      <td>14</td>\n",
       "      <td>Christopher Landon</td>\n",
       "      <td>Meghann Fahy</td>\n",
       "      <td>Brandon Sklenar</td>\n",
       "      <td>Jeffery Self</td>\n",
       "      <td>Horror Thriller</td>\n",
       "      <td>the black phone 2</td>\n",
       "      <td>Meghann Fahy Brandon Sklenar Jeffery Self Chri...</td>\n",
       "      <td>NaN</td>\n",
       "    </tr>\n",
       "    <tr>\n",
       "      <th>7607</th>\n",
       "      <td>15</td>\n",
       "      <td>Simon McQuoid</td>\n",
       "      <td>Lewis Tan</td>\n",
       "      <td>Karl Urban</td>\n",
       "      <td>Jessica McNamee</td>\n",
       "      <td>Action Fantasy Adventure</td>\n",
       "      <td>mortal kombat 2</td>\n",
       "      <td>Lewis Tan Karl Urban Jessica McNamee Simon McQ...</td>\n",
       "      <td>NaN</td>\n",
       "    </tr>\n",
       "    <tr>\n",
       "      <th>7608</th>\n",
       "      <td>16</td>\n",
       "      <td>Jon M. Chu</td>\n",
       "      <td>Cynthia Erivo</td>\n",
       "      <td>Ariana Grande</td>\n",
       "      <td>Michelle Yeoh</td>\n",
       "      <td>Drama Fantasy Music</td>\n",
       "      <td>wicked part two</td>\n",
       "      <td>Cynthia Erivo Ariana Grande Michelle Yeoh Jon ...</td>\n",
       "      <td>NaN</td>\n",
       "    </tr>\n",
       "    <tr>\n",
       "      <th>7609</th>\n",
       "      <td>17</td>\n",
       "      <td>James Cameron</td>\n",
       "      <td>Sam Worthington</td>\n",
       "      <td>Zoe Saldana</td>\n",
       "      <td>Sigourney Weaver</td>\n",
       "      <td>Science Fiction Adventure Fantasy</td>\n",
       "      <td>avatar 3</td>\n",
       "      <td>Sam Worthington Zoe Saldana Sigourney Weaver J...</td>\n",
       "      <td>NaN</td>\n",
       "    </tr>\n",
       "    <tr>\n",
       "      <th>7610</th>\n",
       "      <td>18</td>\n",
       "      <td>Derek Drymon</td>\n",
       "      <td>Tom Kenny</td>\n",
       "      <td>Bill Fagerbakke</td>\n",
       "      <td>Clancy Brown</td>\n",
       "      <td>Comedy Animation</td>\n",
       "      <td>the spongebob movie: search for squarepants</td>\n",
       "      <td>Tom Kenny Bill Fagerbakke Clancy Brown Derek D...</td>\n",
       "      <td>NaN</td>\n",
       "    </tr>\n",
       "  </tbody>\n",
       "</table>\n",
       "<p>7611 rows × 9 columns</p>\n",
       "</div>"
      ],
      "text/plain": [
       "      index       director_name     actor_1_name      actor_2_name  \\\n",
       "0         0       James Cameron      CCH Pounder  Joel David Moore   \n",
       "1         1      Gore Verbinski      Johnny Depp     Orlando Bloom   \n",
       "2         2          Sam Mendes  Christoph Waltz      Rory Kinnear   \n",
       "3         3   Christopher Nolan        Tom Hardy    Christian Bale   \n",
       "4         4      Andrew Stanton     Daryl Sabara   Samantha Morton   \n",
       "...     ...                 ...              ...               ...   \n",
       "7606     14  Christopher Landon     Meghann Fahy   Brandon Sklenar   \n",
       "7607     15       Simon McQuoid        Lewis Tan        Karl Urban   \n",
       "7608     16          Jon M. Chu    Cynthia Erivo     Ariana Grande   \n",
       "7609     17       James Cameron  Sam Worthington       Zoe Saldana   \n",
       "7610     18        Derek Drymon        Tom Kenny   Bill Fagerbakke   \n",
       "\n",
       "              actor_3_name                             genres  \\\n",
       "0                Wes Studi    Action Adventure Fantasy Sci-Fi   \n",
       "1           Jack Davenport           Action Adventure Fantasy   \n",
       "2         Stephanie Sigman          Action Adventure Thriller   \n",
       "3     Joseph Gordon-Levitt                    Action Thriller   \n",
       "4             Polly Walker            Action Adventure Sci-Fi   \n",
       "...                    ...                                ...   \n",
       "7606          Jeffery Self                    Horror Thriller   \n",
       "7607       Jessica McNamee           Action Fantasy Adventure   \n",
       "7608         Michelle Yeoh                Drama Fantasy Music   \n",
       "7609      Sigourney Weaver  Science Fiction Adventure Fantasy   \n",
       "7610          Clancy Brown                   Comedy Animation   \n",
       "\n",
       "                                      movie_title  \\\n",
       "0                                          avatar   \n",
       "1        pirates of the caribbean: at world's end   \n",
       "2                                         spectre   \n",
       "3                           the dark knight rises   \n",
       "4                                     john carter   \n",
       "...                                           ...   \n",
       "7606                            the black phone 2   \n",
       "7607                              mortal kombat 2   \n",
       "7608                              wicked part two   \n",
       "7609                                     avatar 3   \n",
       "7610  the spongebob movie: search for squarepants   \n",
       "\n",
       "                                                   comb  Unnamed: 0  \n",
       "0     CCH Pounder Joel David Moore Wes Studi James C...         NaN  \n",
       "1     Johnny Depp Orlando Bloom Jack Davenport Gore ...         NaN  \n",
       "2     Christoph Waltz Rory Kinnear Stephanie Sigman ...         NaN  \n",
       "3     Tom Hardy Christian Bale Joseph Gordon-Levitt ...         NaN  \n",
       "4     Daryl Sabara Samantha Morton Polly Walker Andr...         NaN  \n",
       "...                                                 ...         ...  \n",
       "7606  Meghann Fahy Brandon Sklenar Jeffery Self Chri...         NaN  \n",
       "7607  Lewis Tan Karl Urban Jessica McNamee Simon McQ...         NaN  \n",
       "7608  Cynthia Erivo Ariana Grande Michelle Yeoh Jon ...         NaN  \n",
       "7609  Sam Worthington Zoe Saldana Sigourney Weaver J...         NaN  \n",
       "7610  Tom Kenny Bill Fagerbakke Clancy Brown Derek D...         NaN  \n",
       "\n",
       "[7611 rows x 9 columns]"
      ]
     },
     "execution_count": 102,
     "metadata": {},
     "output_type": "execute_result"
    }
   ],
   "source": [
    "final_movies_data"
   ]
  },
  {
   "cell_type": "code",
   "execution_count": 103,
   "metadata": {},
   "outputs": [
    {
     "data": {
      "text/plain": [
       "index               0\n",
       "director_name       0\n",
       "actor_1_name        0\n",
       "actor_2_name        0\n",
       "actor_3_name        0\n",
       "genres              0\n",
       "movie_title         0\n",
       "comb                0\n",
       "Unnamed: 0       7413\n",
       "dtype: int64"
      ]
     },
     "execution_count": 103,
     "metadata": {},
     "output_type": "execute_result"
    }
   ],
   "source": [
    "final_movies_data.isnull().sum()"
   ]
  },
  {
   "cell_type": "code",
   "execution_count": 104,
   "metadata": {},
   "outputs": [],
   "source": [
    "final_movies_data.drop([\"Unnamed: 0\",'index'],axis=1,inplace=True)"
   ]
  },
  {
   "cell_type": "code",
   "execution_count": 105,
   "metadata": {},
   "outputs": [
    {
     "data": {
      "text/html": [
       "<div>\n",
       "<style scoped>\n",
       "    .dataframe tbody tr th:only-of-type {\n",
       "        vertical-align: middle;\n",
       "    }\n",
       "\n",
       "    .dataframe tbody tr th {\n",
       "        vertical-align: top;\n",
       "    }\n",
       "\n",
       "    .dataframe thead th {\n",
       "        text-align: right;\n",
       "    }\n",
       "</style>\n",
       "<table border=\"1\" class=\"dataframe\">\n",
       "  <thead>\n",
       "    <tr style=\"text-align: right;\">\n",
       "      <th></th>\n",
       "      <th>director_name</th>\n",
       "      <th>actor_1_name</th>\n",
       "      <th>actor_2_name</th>\n",
       "      <th>actor_3_name</th>\n",
       "      <th>genres</th>\n",
       "      <th>movie_title</th>\n",
       "      <th>comb</th>\n",
       "    </tr>\n",
       "  </thead>\n",
       "  <tbody>\n",
       "    <tr>\n",
       "      <th>0</th>\n",
       "      <td>James Cameron</td>\n",
       "      <td>CCH Pounder</td>\n",
       "      <td>Joel David Moore</td>\n",
       "      <td>Wes Studi</td>\n",
       "      <td>Action Adventure Fantasy Sci-Fi</td>\n",
       "      <td>avatar</td>\n",
       "      <td>CCH Pounder Joel David Moore Wes Studi James C...</td>\n",
       "    </tr>\n",
       "    <tr>\n",
       "      <th>1</th>\n",
       "      <td>Gore Verbinski</td>\n",
       "      <td>Johnny Depp</td>\n",
       "      <td>Orlando Bloom</td>\n",
       "      <td>Jack Davenport</td>\n",
       "      <td>Action Adventure Fantasy</td>\n",
       "      <td>pirates of the caribbean: at world's end</td>\n",
       "      <td>Johnny Depp Orlando Bloom Jack Davenport Gore ...</td>\n",
       "    </tr>\n",
       "    <tr>\n",
       "      <th>2</th>\n",
       "      <td>Sam Mendes</td>\n",
       "      <td>Christoph Waltz</td>\n",
       "      <td>Rory Kinnear</td>\n",
       "      <td>Stephanie Sigman</td>\n",
       "      <td>Action Adventure Thriller</td>\n",
       "      <td>spectre</td>\n",
       "      <td>Christoph Waltz Rory Kinnear Stephanie Sigman ...</td>\n",
       "    </tr>\n",
       "    <tr>\n",
       "      <th>3</th>\n",
       "      <td>Christopher Nolan</td>\n",
       "      <td>Tom Hardy</td>\n",
       "      <td>Christian Bale</td>\n",
       "      <td>Joseph Gordon-Levitt</td>\n",
       "      <td>Action Thriller</td>\n",
       "      <td>the dark knight rises</td>\n",
       "      <td>Tom Hardy Christian Bale Joseph Gordon-Levitt ...</td>\n",
       "    </tr>\n",
       "    <tr>\n",
       "      <th>4</th>\n",
       "      <td>Andrew Stanton</td>\n",
       "      <td>Daryl Sabara</td>\n",
       "      <td>Samantha Morton</td>\n",
       "      <td>Polly Walker</td>\n",
       "      <td>Action Adventure Sci-Fi</td>\n",
       "      <td>john carter</td>\n",
       "      <td>Daryl Sabara Samantha Morton Polly Walker Andr...</td>\n",
       "    </tr>\n",
       "    <tr>\n",
       "      <th>...</th>\n",
       "      <td>...</td>\n",
       "      <td>...</td>\n",
       "      <td>...</td>\n",
       "      <td>...</td>\n",
       "      <td>...</td>\n",
       "      <td>...</td>\n",
       "      <td>...</td>\n",
       "    </tr>\n",
       "    <tr>\n",
       "      <th>7606</th>\n",
       "      <td>Christopher Landon</td>\n",
       "      <td>Meghann Fahy</td>\n",
       "      <td>Brandon Sklenar</td>\n",
       "      <td>Jeffery Self</td>\n",
       "      <td>Horror Thriller</td>\n",
       "      <td>the black phone 2</td>\n",
       "      <td>Meghann Fahy Brandon Sklenar Jeffery Self Chri...</td>\n",
       "    </tr>\n",
       "    <tr>\n",
       "      <th>7607</th>\n",
       "      <td>Simon McQuoid</td>\n",
       "      <td>Lewis Tan</td>\n",
       "      <td>Karl Urban</td>\n",
       "      <td>Jessica McNamee</td>\n",
       "      <td>Action Fantasy Adventure</td>\n",
       "      <td>mortal kombat 2</td>\n",
       "      <td>Lewis Tan Karl Urban Jessica McNamee Simon McQ...</td>\n",
       "    </tr>\n",
       "    <tr>\n",
       "      <th>7608</th>\n",
       "      <td>Jon M. Chu</td>\n",
       "      <td>Cynthia Erivo</td>\n",
       "      <td>Ariana Grande</td>\n",
       "      <td>Michelle Yeoh</td>\n",
       "      <td>Drama Fantasy Music</td>\n",
       "      <td>wicked part two</td>\n",
       "      <td>Cynthia Erivo Ariana Grande Michelle Yeoh Jon ...</td>\n",
       "    </tr>\n",
       "    <tr>\n",
       "      <th>7609</th>\n",
       "      <td>James Cameron</td>\n",
       "      <td>Sam Worthington</td>\n",
       "      <td>Zoe Saldana</td>\n",
       "      <td>Sigourney Weaver</td>\n",
       "      <td>Science Fiction Adventure Fantasy</td>\n",
       "      <td>avatar 3</td>\n",
       "      <td>Sam Worthington Zoe Saldana Sigourney Weaver J...</td>\n",
       "    </tr>\n",
       "    <tr>\n",
       "      <th>7610</th>\n",
       "      <td>Derek Drymon</td>\n",
       "      <td>Tom Kenny</td>\n",
       "      <td>Bill Fagerbakke</td>\n",
       "      <td>Clancy Brown</td>\n",
       "      <td>Comedy Animation</td>\n",
       "      <td>the spongebob movie: search for squarepants</td>\n",
       "      <td>Tom Kenny Bill Fagerbakke Clancy Brown Derek D...</td>\n",
       "    </tr>\n",
       "  </tbody>\n",
       "</table>\n",
       "<p>7611 rows × 7 columns</p>\n",
       "</div>"
      ],
      "text/plain": [
       "           director_name     actor_1_name      actor_2_name  \\\n",
       "0          James Cameron      CCH Pounder  Joel David Moore   \n",
       "1         Gore Verbinski      Johnny Depp     Orlando Bloom   \n",
       "2             Sam Mendes  Christoph Waltz      Rory Kinnear   \n",
       "3      Christopher Nolan        Tom Hardy    Christian Bale   \n",
       "4         Andrew Stanton     Daryl Sabara   Samantha Morton   \n",
       "...                  ...              ...               ...   \n",
       "7606  Christopher Landon     Meghann Fahy   Brandon Sklenar   \n",
       "7607       Simon McQuoid        Lewis Tan        Karl Urban   \n",
       "7608          Jon M. Chu    Cynthia Erivo     Ariana Grande   \n",
       "7609       James Cameron  Sam Worthington       Zoe Saldana   \n",
       "7610        Derek Drymon        Tom Kenny   Bill Fagerbakke   \n",
       "\n",
       "              actor_3_name                             genres  \\\n",
       "0                Wes Studi    Action Adventure Fantasy Sci-Fi   \n",
       "1           Jack Davenport           Action Adventure Fantasy   \n",
       "2         Stephanie Sigman          Action Adventure Thriller   \n",
       "3     Joseph Gordon-Levitt                    Action Thriller   \n",
       "4             Polly Walker            Action Adventure Sci-Fi   \n",
       "...                    ...                                ...   \n",
       "7606          Jeffery Self                    Horror Thriller   \n",
       "7607       Jessica McNamee           Action Fantasy Adventure   \n",
       "7608         Michelle Yeoh                Drama Fantasy Music   \n",
       "7609      Sigourney Weaver  Science Fiction Adventure Fantasy   \n",
       "7610          Clancy Brown                   Comedy Animation   \n",
       "\n",
       "                                      movie_title  \\\n",
       "0                                          avatar   \n",
       "1        pirates of the caribbean: at world's end   \n",
       "2                                         spectre   \n",
       "3                           the dark knight rises   \n",
       "4                                     john carter   \n",
       "...                                           ...   \n",
       "7606                            the black phone 2   \n",
       "7607                              mortal kombat 2   \n",
       "7608                              wicked part two   \n",
       "7609                                     avatar 3   \n",
       "7610  the spongebob movie: search for squarepants   \n",
       "\n",
       "                                                   comb  \n",
       "0     CCH Pounder Joel David Moore Wes Studi James C...  \n",
       "1     Johnny Depp Orlando Bloom Jack Davenport Gore ...  \n",
       "2     Christoph Waltz Rory Kinnear Stephanie Sigman ...  \n",
       "3     Tom Hardy Christian Bale Joseph Gordon-Levitt ...  \n",
       "4     Daryl Sabara Samantha Morton Polly Walker Andr...  \n",
       "...                                                 ...  \n",
       "7606  Meghann Fahy Brandon Sklenar Jeffery Self Chri...  \n",
       "7607  Lewis Tan Karl Urban Jessica McNamee Simon McQ...  \n",
       "7608  Cynthia Erivo Ariana Grande Michelle Yeoh Jon ...  \n",
       "7609  Sam Worthington Zoe Saldana Sigourney Weaver J...  \n",
       "7610  Tom Kenny Bill Fagerbakke Clancy Brown Derek D...  \n",
       "\n",
       "[7611 rows x 7 columns]"
      ]
     },
     "execution_count": 105,
     "metadata": {},
     "output_type": "execute_result"
    }
   ],
   "source": [
    "final_movies_data"
   ]
  },
  {
   "cell_type": "code",
   "execution_count": 106,
   "metadata": {},
   "outputs": [
    {
     "data": {
      "text/plain": [
       "director_name    0\n",
       "actor_1_name     0\n",
       "actor_2_name     0\n",
       "actor_3_name     0\n",
       "genres           0\n",
       "movie_title      0\n",
       "comb             0\n",
       "dtype: int64"
      ]
     },
     "execution_count": 106,
     "metadata": {},
     "output_type": "execute_result"
    }
   ],
   "source": [
    "final_movies_data.isnull().sum()"
   ]
  },
  {
   "cell_type": "code",
   "execution_count": 107,
   "metadata": {},
   "outputs": [],
   "source": [
    "final_movies_data['movie_title'] = final_movies_data['movie_title'].str.lower()"
   ]
  },
  {
   "cell_type": "code",
   "execution_count": 108,
   "metadata": {},
   "outputs": [],
   "source": [
    "final_movies_data.to_csv(\"final_movies_data.csv\",index=True)"
   ]
  },
  {
   "cell_type": "code",
   "execution_count": null,
   "metadata": {},
   "outputs": [],
   "source": []
  }
 ],
 "metadata": {
  "kernelspec": {
   "display_name": "Python 3",
   "language": "python",
   "name": "python3"
  },
  "language_info": {
   "codemirror_mode": {
    "name": "ipython",
    "version": 3
   },
   "file_extension": ".py",
   "mimetype": "text/x-python",
   "name": "python",
   "nbconvert_exporter": "python",
   "pygments_lexer": "ipython3",
   "version": "3.11.4"
  }
 },
 "nbformat": 4,
 "nbformat_minor": 2
}
